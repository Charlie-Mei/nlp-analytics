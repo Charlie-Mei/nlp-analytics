{
 "cells": [
  {
   "cell_type": "markdown",
   "metadata": {},
   "source": [
    "### APAN PS5430 Week 5: Extractive Text Summarization"
   ]
  },
  {
   "cell_type": "code",
   "execution_count": 19,
   "metadata": {},
   "outputs": [],
   "source": [
    "from sumy.parsers.plaintext import PlaintextParser\n",
    "from sumy.parsers.html import HtmlParser\n",
    "from sumy.nlp.tokenizers import Tokenizer\n",
    "from sumy.summarizers.lex_rank import LexRankSummarizer\n",
    "\n",
    "class TextSummary(object):\n",
    "\n",
    "    def __init__(self, feeds_str, num_sents):\n",
    "        self.summary = str()\n",
    "        \n",
    "        parser = PlaintextParser.from_string(feeds_str, Tokenizer(\"english\"))\n",
    "        summarizer = LexRankSummarizer()\n",
    "\n",
    "        sentences = summarizer(parser.document, num_sents)  # Summarize the document with 5 sentences\n",
    "        for sentence in sentences:\n",
    "            self.summary += (sentence.__unicode__())\n",
    "\n",
    "    def output(self):\n",
    "        return self.summary"
   ]
  },
  {
   "cell_type": "code",
   "execution_count": 7,
   "metadata": {},
   "outputs": [],
   "source": [
    "input_text = \"\"\"Disney will have a competitive advantage over Netflix when the entertainment conglomerate launches a competing video streaming platform later this year, according to Wall Street analyst David Trainer.\n",
    "\n",
    "″[Disney’s] got the ability to merchandise, which is another way to monetize content in a way that Netflix does not have,” Trainer said on CNBC’s “Closing Bell” Wednesday. He’s chief of the New Constructs research firm.\n",
    "\n",
    "Netflix increased its subscription prices Tuesday, sending the stock up 6.5 percent that day as well.\n",
    "\n",
    "However, Trainer called it a “key dilemma” for the company and it “makes their competitors more viable.” The dilemma, he explained, is that the streaming company relies too much on its subscribers to generate revenue.\n",
    "\n",
    "“It’s a Catch-22 for a business model that, when you look at the fundamentals, really just doesn’t work,” Trainer alleged.\n",
    "The Netflix price increase for U.S. subscribers ranges between 13 percent and 18 percent, which Victory Anthony of Aegis Capital sees as a positive, a view generally shared by much of the investment community.\n",
    "\n",
    "“It’s all profit for the price increase and so they can either use that to invest in more original content or they can let that drop down to their down to the bottom line,” Anthony said on “Squawk Alley” Thursday.\n",
    "\n",
    "Aegis put a hold on Neflix at current levels because it’s about 8 percent higher than Anthony’s price target of $325. The stock was trading steady around $351 midday Thursday, up more than 50 percent since the Christmas Eve washout. Netflix releases its fourth quarter earnings after the bell Thursday. Netflix last reported double-digit user growth, with 58 million U.S. and 78 million international subscribers.\n",
    "\n",
    "Original content aside, Netflix has built its large subscriber base, in part, on licensed content from a number of third-party TV and movie studios that plan to crowd into the video streaming market, which already includes other established online rivals such as Amazon and Hulu.\n",
    "\n",
    "Disney, which agreed to purchase Twenty-First Century Fox assets last summer, said it would pull its movies from Netflix when it launches Disney+ in late 2019. AT&T’s WarnerMedia announced in October it would release a platform in the fourth quarter of 2019. Apple could be dropping a service this year, Comcast’s NBCUniversal on Monday revealed plans for a free streaming program with ads slated for early 2020.\n",
    "\n",
    "New Constructs’ Trainer said Netflix is vulnerable because it’s a “one-trick pony” with an online distribution system that is not “defensible.” The company can keep growing its subscriber base, but it will need to address cash flow, he said.\n",
    "\n",
    "“You can count on one hand the number of firms that have, over time, successfully monetized original content. It’s an expensive, difficult proposition,” he argued. “Disney’s done it and part of the reason they’ve done [it] is because they’ve got better ways of monetizing.”\"\"\""
   ]
  },
  {
   "cell_type": "code",
   "execution_count": 20,
   "metadata": {},
   "outputs": [
    {
     "name": "stdout",
     "output_type": "stream",
     "text": [
      "Disney will have a competitive advantage over Netflix when the entertainment conglomerate launches a competing video streaming platform later this year, according to Wall Street analyst David Trainer.“It’s all profit for the price increase and so they can either use that to invest in more original content or they can let that drop down to their down to the bottom line,” Anthony said on “Squawk Alley” Thursday.Disney, which agreed to purchase Twenty-First Century Fox assets last summer, said it would pull its movies from Netflix when it launches Disney+ in late 2019.AT&T’s WarnerMedia announced in October it would release a platform in the fourth quarter of 2019.New Constructs’ Trainer said Netflix is vulnerable because it’s a “one-trick pony” with an online distribution system that is not “defensible.” The company can keep growing its subscriber base, but it will need to address cash flow, he said.\n"
     ]
    }
   ],
   "source": [
    "text_to_sum = TextSummary(input_text,5)\n",
    "print(text_to_sum.output())\n"
   ]
  },
  {
   "cell_type": "code",
   "execution_count": 21,
   "metadata": {},
   "outputs": [],
   "source": [
    "input_text2 = \"\"\"\"The Duffer brothers have signed a multiyear overall pact on the back of their 1980s-set sci-fi homage, which is reportedly one of the streamer's most-watched original series.\n",
    "Netflix's time in the Upside Down will continue.\n",
    "\n",
    "The streaming giant has handed out a fourth-season renewal to the breakout hit Stranger Things and signed its creators, brothers Matt and Ross Duffer, to a multiyear film and TV overall deal that sources say is worth nine figures. The news arrives nearly three months after the third season of the 1980s-set sci-fi drama returned after more than a year off the proverbial air. A return date for season four has not been determined.\n",
    "\n",
    "“The Duffer Brothers have captivated viewers around the world with Stranger Things and we’re thrilled to expand our relationship with them to bring their vivid imaginations to other film and series projects our members will love,” Netflix chief content officer Ted Sarandos said Monday in a statement. “We can’t wait to see what the Duffer Brothers have in store when they step outside the world of the Upside Down.”\n",
    "Stranger Things is considered Netflix's most popular scripted original series. The streamer, which typically does not release viewership data, announced July 8 that some 40.7 million household accounts had watched part of season three since its July 4 launch — \"more than any other film or series\" in its first four days. It also noted that 18.2 million households had already finished all of season three. Measurement company Nielsen in December 2017 said that more than 15 million people watched the season two premiere within three days of its launch, with 11 million of those viewers in the key adults 18-49 demographic. Stranger Things season two was also crowned the most popular show in the country, per data company Parrot Analytics.\n",
    "\n",
    "We are absolutely thrilled to continue our relationship with Netflix. Back in early 2015, Ted Sarandos, Cindy Holland, Brian Wright and Matt Thunell took a huge chance on us and our show — and forever changed our lives,\" the Duffers said in a joint statement. \"From that first pitch meeting to the release of Stranger Things 3, the entire Netflix team has been nothing short of sensational, providing us with the kind of support, guidance and creative freedom we always dreamed about. We can’t wait to tell many more stories together — beginning, of course, with a return trip to Hawkins!\"\n",
    "Still, even without formal analytics from Netflix, Stranger Things is easily the streaming giant's biggest franchise. The series remains an awards contender — it has collected 18 Emmy nominations (winning five) and created what is likely a multimillion-dollar licensing business of merchandising with a line of comic books and other consumer products.\n",
    "\n",
    "Additionally, the castmembers of the drama have all seen their profiles rise thanks in part to the success of the show. The adult and young actors on the series all successfully renegotiated their contracts ahead of season three (a common practice for a hit show) to earn massive pay raises. The young castmembers — Finn Wolfhard, Gaten Matarazzo, Caleb McLaughlin and Noah Schnapp — secured roughly 12 times their previous deals and earn $250,000 per episode. Adult stars Winona Ryder and David Harbour saw their salaries climb to $350,000 per episode. Breakout Millie Bobby Brown is said to earn somewhere between both levels. Additionally, executive producer Shawn Levy has also cashed in on the show's success, and in late 2017 signed a four-year, seven-figure overall deal with Netflix.\n",
    "\n",
    "In the larger scheme of things, it's unclear if season four will be the last for Stranger Things as the Duffers have been open about the drama not being a long-running show. The duo have said over the years that they see it running anywhere between four and six seasons. \n",
    "\n",
    "The Duffers are repped by Morris Yorn.\"\"\""
   ]
  },
  {
   "cell_type": "code",
   "execution_count": 22,
   "metadata": {},
   "outputs": [
    {
     "name": "stdout",
     "output_type": "stream",
     "text": [
      "The streaming giant has handed out a fourth-season renewal to the breakout hit Stranger Things and signed its creators, brothers Matt and Ross Duffer, to a multiyear film and TV overall deal that sources say is worth nine figures.“We can’t wait to see what the Duffer Brothers have in store when they step outside the world of the Upside Down.” Stranger Things is considered Netflix's most popular scripted original series.We are absolutely thrilled to continue our relationship with Netflix.Additionally, executive producer Shawn Levy has also cashed in on the show's success, and in late 2017 signed a four-year, seven-figure overall deal with Netflix.In the larger scheme of things, it's unclear if season four will be the last for Stranger Things as the Duffers have been open about the drama not being a long-running show.\n"
     ]
    }
   ],
   "source": [
    "text_to_sum = TextSummary(input_text2, 5)\n",
    "print(text_to_sum.output())"
   ]
  },
  {
   "cell_type": "code",
   "execution_count": null,
   "metadata": {},
   "outputs": [],
   "source": []
  }
 ],
 "metadata": {
  "kernelspec": {
   "display_name": "Python 3",
   "language": "python",
   "name": "python3"
  },
  "language_info": {
   "codemirror_mode": {
    "name": "ipython",
    "version": 3
   },
   "file_extension": ".py",
   "mimetype": "text/x-python",
   "name": "python",
   "nbconvert_exporter": "python",
   "pygments_lexer": "ipython3",
   "version": "3.7.1"
  }
 },
 "nbformat": 4,
 "nbformat_minor": 2
}
