{
 "cells": [
  {
   "cell_type": "markdown",
   "metadata": {},
   "source": [
    "### Week 3 Class Exercises"
   ]
  },
  {
   "cell_type": "code",
   "execution_count": 23,
   "metadata": {},
   "outputs": [
    {
     "data": {
      "text/plain": [
       "27"
      ]
     },
     "execution_count": 23,
     "metadata": {},
     "output_type": "execute_result"
    }
   ],
   "source": [
    "s = \"More than US$20 billion in venture capital is being invested in FinTech this year.\"\n",
    "s.find(\"venture\")"
   ]
  },
  {
   "cell_type": "code",
   "execution_count": 24,
   "metadata": {},
   "outputs": [
    {
     "data": {
      "text/plain": [
       "'More Than Us$20 Billion In Venture Capital Is Being Invested In Fintech This Year.'"
      ]
     },
     "execution_count": 24,
     "metadata": {},
     "output_type": "execute_result"
    }
   ],
   "source": [
    "s.title()"
   ]
  },
  {
   "cell_type": "markdown",
   "metadata": {},
   "source": [
    "### Regular Expressions, Tokenization, Stemming, Lemmatization"
   ]
  },
  {
   "cell_type": "code",
   "execution_count": 1,
   "metadata": {},
   "outputs": [],
   "source": [
    "import re\n",
    "from nltk import word_tokenize, sent_tokenize, ngrams, pos_tag, RegexpParser\n",
    "from collections import Counter"
   ]
  },
  {
   "cell_type": "code",
   "execution_count": 2,
   "metadata": {},
   "outputs": [],
   "source": [
    "text =\"\"\"More than US$20 More than US in venture capital is being invested in FinTech this year. \\\n",
    "@CloudExpo is pleased to bring you the latest FinTech developments as an integral part of our \\\n",
    "program, starting at the 21st International \\\n",
    "Cloud Expo October 31 - November 2, 2017 in Silicon Valley, and June 12-14, 2018, in New York City. \\\n",
    "The upcoming 21st International @CloudExpo | @ThingsExpo, October 31 - November 2, 2017, \\\n",
    "Santa Clara Convention Center, CA, and June 12-14, 2018, at the Javits Center in New York City, \\\n",
    "NY announces that its Call For Papers for speaking opportunities is open.\"\"\""
   ]
  },
  {
   "cell_type": "code",
   "execution_count": 3,
   "metadata": {},
   "outputs": [
    {
     "name": "stdout",
     "output_type": "stream",
     "text": [
      "More than US$20 More than US in venture capital is being invested in FinTech this year.\n",
      "\n",
      "@CloudExpo is pleased to bring you the latest FinTech developments as an integral part of our program, starting at the 21st International Cloud Expo October 31 - November 2, 2017 in Silicon Valley, and June 12-14, 2018, in New York City.\n",
      "\n",
      "The upcoming 21st International @CloudExpo | @ThingsExpo, October 31 - November 2, 2017, Santa Clara Convention Center, CA, and June 12-14, 2018, at the Javits Center in New York City, NY announces that its Call For Papers for speaking opportunities is open.\n",
      "\n"
     ]
    }
   ],
   "source": [
    "# tokenize sentences\n",
    "sentences = sent_tokenize(text)\n",
    "#print(sentences)\n",
    "for sentence in sentences:\n",
    "    print(sentence)\n",
    "    print()"
   ]
  },
  {
   "cell_type": "code",
   "execution_count": 10,
   "metadata": {},
   "outputs": [
    {
     "name": "stdout",
     "output_type": "stream",
     "text": [
      "Trigrams: \n",
      "Counter({('More', 'than', 'US'): 2, ('than', 'US', '$'): 1, ('US', '$', '20'): 1, ('$', '20', 'More'): 1, ('20', 'More', 'than'): 1, ('than', 'US', 'in'): 1, ('US', 'in', 'venture'): 1, ('in', 'venture', 'capital'): 1, ('venture', 'capital', 'is'): 1, ('capital', 'is', 'being'): 1, ('is', 'being', 'invested'): 1, ('being', 'invested', 'in'): 1, ('invested', 'in', 'FinTech'): 1, ('in', 'FinTech', 'this'): 1, ('FinTech', 'this', 'year'): 1, ('this', 'year', '.'): 1})\n"
     ]
    }
   ],
   "source": [
    "tokens = word_tokenize(sentences[0])\n",
    "#print(tokens)\n",
    "print(\"Trigrams: \")\n",
    "#for item in ngrams(tokens,3):\n",
    "#    print(item)\n",
    "print(Counter(ngrams(tokens,3)))"
   ]
  },
  {
   "cell_type": "code",
   "execution_count": 12,
   "metadata": {},
   "outputs": [
    {
     "name": "stdout",
     "output_type": "stream",
     "text": [
      "More than US20 More than US in venture capital is being invested in FinTech this year. CloudExpo is pleased to bring you the latest FinTech developments as an integral part of our program, starting at the 21st International Cloud Expo October 31  November 2, 2017 in Silicon Valley, and June 1214, 2018, in New York City. The upcoming 21st International CloudExpo  ThingsExpo, October 31  November 2, 2017, Santa Clara Convention Center, CA, and June 1214, 2018, at the Javits Center in New York City, NY announces that its Call For Papers for speaking opportunities is open.\n"
     ]
    }
   ],
   "source": [
    "# manually define a pattern to substitute all non-alphanumeric characters\n",
    "#print(re.sub(r'[^a-zA-Z0-9., ]', '', text))\n",
    "# or compile a pattern into object and then use it to substitute\n",
    "pattern = re.compile(r'[^a-zA-Z0-9., ]')\n",
    "print(re.sub(pattern,'', text))"
   ]
  },
  {
   "cell_type": "code",
   "execution_count": 13,
   "metadata": {},
   "outputs": [
    {
     "name": "stdout",
     "output_type": "stream",
     "text": [
      "More than US$## More than US in venture capital is being invested in FinTech this year. @CloudExpo is pleased to bring you the latest FinTech developments as an integral part of our program, starting at the ##st International Cloud Expo October ## - November #, #### in Silicon Valley, and June ##-##, ####, in New York City. The upcoming ##st International @CloudExpo | @ThingsExpo, October ## - November #, ####, Santa Clara Convention Center, CA, and June ##-##, ####, at the Javits Center in New York City, NY announces that its Call For Papers for speaking opportunities is open.\n"
     ]
    }
   ],
   "source": [
    "#substitute all numbers with #\n",
    "print(re.sub(r'[0-9]','#',text))"
   ]
  },
  {
   "cell_type": "code",
   "execution_count": 41,
   "metadata": {},
   "outputs": [
    {
     "name": "stdout",
     "output_type": "stream",
     "text": [
      "<re.Match object; span=(12, 16), match='$20 '>\n"
     ]
    }
   ],
   "source": [
    "# search for pattern\n",
    "print(re.search('\\$(.+?) ',text))"
   ]
  },
  {
   "cell_type": "code",
   "execution_count": 14,
   "metadata": {},
   "outputs": [
    {
     "name": "stdout",
     "output_type": "stream",
     "text": [
      "John\n",
      "Smith\n"
     ]
    }
   ],
   "source": [
    "# Matching and grouping substring patterns\n",
    "m = re.match(r\"(?P<first_name>\\w+) (?P<last_name>\\w+)\", \"John Smith\")\n",
    "print(m.group('first_name'))\n",
    "print(m.group('last_name'))"
   ]
  },
  {
   "cell_type": "code",
   "execution_count": 18,
   "metadata": {},
   "outputs": [
    {
     "name": "stdout",
     "output_type": "stream",
     "text": [
      "hack\n",
      "hacker\n"
     ]
    }
   ],
   "source": [
    "#stemming and lemmatization\n",
    "from nltk.stem import WordNetLemmatizer\n",
    "\n",
    "wordnet_lemmatizer = WordNetLemmatizer()\n",
    "print(wordnet_lemmatizer.lemmatize(\"hacks\", pos='v'))\n",
    "print(wordnet_lemmatizer.lemmatize(\"hacker\", pos='n'))"
   ]
  },
  {
   "cell_type": "markdown",
   "metadata": {},
   "source": [
    "### POS Tagging"
   ]
  },
  {
   "cell_type": "code",
   "execution_count": 21,
   "metadata": {},
   "outputs": [
    {
     "name": "stdout",
     "output_type": "stream",
     "text": [
      "[('The', 'DT'), ('upcoming', 'JJ'), ('21st', 'CD'), ('International', 'NNP'), ('@', 'NNP'), ('CloudExpo', 'NNP'), ('|', 'NNP'), ('@', 'NNP'), ('ThingsExpo', 'NNP'), (',', ','), ('October', 'NNP'), ('31', 'CD'), ('-', ':'), ('November', 'NNP'), ('2', 'CD'), (',', ','), ('2017', 'CD'), (',', ','), ('Santa', 'NNP'), ('Clara', 'NNP'), ('Convention', 'NNP'), ('Center', 'NNP'), (',', ','), ('CA', 'NNP'), (',', ','), ('and', 'CC'), ('June', 'NNP'), ('12-14', 'CD'), (',', ','), ('2018', 'CD'), (',', ','), ('at', 'IN'), ('the', 'DT'), ('Javits', 'NNP'), ('Center', 'NNP'), ('in', 'IN'), ('New', 'NNP'), ('York', 'NNP'), ('City', 'NNP'), (',', ','), ('NY', 'NNP'), ('announces', 'VBZ'), ('that', 'IN'), ('its', 'PRP$'), ('Call', 'NNP'), ('For', 'IN'), ('Papers', 'NNP'), ('for', 'IN'), ('speaking', 'VBG'), ('opportunities', 'NNS'), ('is', 'VBZ'), ('open', 'JJ'), ('.', '.')]\n"
     ]
    }
   ],
   "source": [
    "tokens = word_tokenize(sentences[2])\n",
    "sentence_pos = pos_tag(tokens)\n",
    "print(sentence_pos)"
   ]
  },
  {
   "cell_type": "code",
   "execution_count": 54,
   "metadata": {},
   "outputs": [
    {
     "name": "stdout",
     "output_type": "stream",
     "text": [
      "(S\n",
      "  The/DT\n",
      "  upcoming/JJ\n",
      "  21st/CD\n",
      "  (NP International/NNP)\n",
      "  (NP @/NNP)\n",
      "  (NP CloudExpo/NNP)\n",
      "  (NP |/NNP)\n",
      "  (NP @/NNP)\n",
      "  (NP ThingsExpo/NNP)\n",
      "  ,/,\n",
      "  (NP October/NNP)\n",
      "  31/CD\n",
      "  -/:\n",
      "  (NP November/NNP)\n",
      "  2/CD\n",
      "  ,/,\n",
      "  2017/CD\n",
      "  ,/,\n",
      "  (NP Santa/NNP)\n",
      "  (NP Clara/NNP)\n",
      "  (NP Convention/NNP)\n",
      "  (NP Center/NNP)\n",
      "  ,/,\n",
      "  (NP CA/NNP)\n",
      "  ,/,\n",
      "  and/CC\n",
      "  (NP June/NNP)\n",
      "  12-14/CD\n",
      "  ,/,\n",
      "  2018/CD\n",
      "  ,/,\n",
      "  at/IN\n",
      "  (NP the/DT Javits/NNP)\n",
      "  (NP Center/NNP)\n",
      "  in/IN\n",
      "  (NP New/NNP)\n",
      "  (NP York/NNP)\n",
      "  (NP City/NNP)\n",
      "  ,/,\n",
      "  (NP NY/NNP)\n",
      "  announces/VBZ\n",
      "  that/IN\n",
      "  its/PRP$\n",
      "  (NP Call/NNP)\n",
      "  For/IN\n",
      "  (NP Papers/NNP)\n",
      "  for/IN\n",
      "  speaking/VBG\n",
      "  opportunities/NNS\n",
      "  is/VBZ\n",
      "  open/JJ\n",
      "  ./.)\n"
     ]
    }
   ],
   "source": [
    "grammar = \"NP: {<DT>?<JJ>*<NNP>}\"\n",
    "cp = RegexpParser(grammar)\n",
    "print(cp.parse(sentence_pos))"
   ]
  },
  {
   "cell_type": "markdown",
   "metadata": {},
   "source": [
    "### HTML Cleanup with BeautifulSoup"
   ]
  },
  {
   "cell_type": "code",
   "execution_count": 19,
   "metadata": {},
   "outputs": [
    {
     "name": "stdout",
     "output_type": "stream",
     "text": [
      "Skip Navigation × LOG IN SIGN UP Keep Me Logged In SIGN IN Pro Watchlist Make It Select USA INTL Markets Pre-Markets U.S. Markets Currencies Cryptocurrency Futures & Commodities Bonds Funds & ETFs Watchlist Business Economy Finance Health & Science Media Real Estate Energy Transportation Industrials Retail Wealth Small Business Investing Invest In You Personal Finance Financial Advisors Trading Nation Options Action ETF Street Buffett Archive Earnings Trader Talk Tech Cybersecurity Enterprise Internet Media Mobile Social Media Venture Capital Tech Guide Politics White House Policy Defense Congress 2020 Elections CNBC TV Live TV Live Audio Latest Video Top Video CEO Interviews Business Day Shows Primetime Shows CNBC World Digital Originals Full Episodes Menu SEARCH QUOTES Markets Pre-Markets U.S. Markets Currencies Cryptocurrency Futures & Commodities Bonds Funds & ETFs Watchlist Business Economy Finance Health & Science Media Real Estate Energy Transportation Industrials Retail Wealth Small Business Investing Invest In You Personal Finance Financial Advisors Trading Nation Options Action ETF Street Buffett Archive Earnings Trader Talk Tech Cybersecurity Enterprise Internet Media Mobile Social Media Venture Capital Tech Guide Politics White House Policy Defense Congress 2020 Elections CNBC TV Live TV Live Audio Latest Video Top Video CEO Interviews Business Day Shows Primetime Shows CNBC World Digital Originals Full Episodes Menu Tech Netflix's price hike is a 'Catch-22'  that actually helps Disney's upcoming streaming service Published Thu, Jan 17 2019 1:04 PM EST Updated Thu, Jan 17 2019 1:42 PM EST Tyler Clifford @_TylerTheTyler_ Key Points Netflix subscription price hike is a \"key dilemma\" that makes future competitors like Disney more viable, New Constructs CEO David Trainer says. However, Aegis Capital's Victory Anthony sees the Netflix price increase as extra money to invest in more original content or pad the bottom line. VIDEO 6:10 06:10 Netflix's decision to raise prices is a Catch-22, says New Constructs' David Trainer Closing Bell Disney will have a competitive advantage over Netflix when the entertainment conglomerate launches a competing video streaming platform later this year, according to Wall Street analyst David Trainer. \"[Disney's] got the ability to merchandise, which is another way to monetize content in a way that Netflix does not have,\" Trainer said on CNBC's \"Closing Bell\" Wednesday. He's chief of the New Constructs research firm. Netflix increased its subscription prices Tuesday, sending the stock up 6.5 percent that day as well. However, Trainer called it a \"key dilemma\" for the company and it \"makes their competitors more viable.\" The dilemma, he explained, is that the streaming company relies too much on its subscribers to generate revenue. \"It's a Catch-22 for a business model that, when you look at the fundamentals, really just doesn't work,\" Trainer alleged. VIDEO 5:21 05:21 Snap should 'take check from anyone who comes knocking', says expert Squawk Alley The Netflix price increase for U.S. subscribers ranges between 13 percent and 18 percent, which Victory Anthony of Aegis Capital sees as a positive, a view generally shared by much of the investment community. \"It's all profit for the price increase and so they can either use that to invest in more original content or they can let that drop down to their down to the bottom line,\" Anthony said on \"Squawk Alley\" Thursday. Aegis put a hold on Neflix at current levels because it's about 8 percent higher than Anthony's price target of $325. The stock was trading steady around $351 midday Thursday, up more than 50 percent since the Christmas Eve washout. Netflix releases its fourth quarter earnings after the bell Thursday. Netflix last reported double-digit user growth, with 58 million U.S. and 78 million international subscribers. Original content aside, Netflix has built its large subscriber base, in part, on licensed content from a number of third-party TV and movie studios that plan to crowd into the video streaming market, which already includes other established online rivals such as Amazon and Hulu. Disney, which agreed to purchase Twenty-First Century Fox assets last summer, said it would pull its movies from Netflix when it launches Disney+ in late 2019 . AT&T 's WarnerMedia announced in October it would release a platform in the fourth quarter of 2019. Apple could be dropping a service this year, Comcast 's NBCUniversal on Monday revealed plans for a free streaming program with ads slated for early 2020. New Constructs' Trainer said Netflix is vulnerable because it's a \"one-trick pony\" with an online distribution system that is not \"defensible.\" The company can keep growing its subscriber base, but it will need to address cash flow, he said. \"You can count on one hand the number of firms that have, over time, successfully monetized original content. It's an expensive, difficult proposition,\" he argued. \"Disney's done it and part of the reason they've done [it] is because they've got better ways of monetizing.\" — Disclosure: NBCUniversal is the parent company of CNBC. Related Tags Movies Streaming services Twenty-First Century Fox Inc Television Media Trending Now Google Maps is getting a big new update on iPhone and Android — here's what's new Airlines cancel flights amid coronavirus outbreak, Pentagon sets up more bases for evacuees Stanford psychology expert: These are the top 3 things kids need—but most parents fail to provide There's a 70% chance of recession in the next six months, new study from MIT and State Street finds China grows isolated as airlines cancel more than 50,000 flights amid coronavirus epidemic Subscribe to CNBC PRO Licensing & Reprints Join the CNBC Panel Supply Chain Values Advertise With Us Closed Captioning Digital Products News Releases Internships Corrections About CNBC AdChoices Site Map Podcasts Contact Careers Help News Tips Got a confidential news tip? We want to hear from you. Get In Touch CNBC Newsletters Sign up for free newsletters and get more CNBC delivered to your inbox Sign Up Now Get this delivered to your inbox, and more info about our products and services. Privacy Policy - New | Do Not Sell My Personal Information | Terms of Service © 2020 CNBC LLC. All Rights Reserved.  A Division of NBCUniversal Data is a real-time snapshot *Data is delayed at least 15 minutes. Global Business and Financial News, Stock Quotes, and Market Data and Analysis. Market Data Terms of Use and Disclaimers Data also provided by \n"
     ]
    }
   ],
   "source": [
    "from bs4 import BeautifulSoup\n",
    "from bs4.element import Comment\n",
    "from urllib import request\n",
    "\n",
    "\n",
    "def tag_visible(element):\n",
    "    if element.parent.name in ['style', 'script', 'head', 'title', 'meta', '[document]']:\n",
    "        return False\n",
    "    if isinstance(element, Comment):\n",
    "        return False\n",
    "    return True\n",
    "\n",
    "\n",
    "def text_from_html(body):\n",
    "    soup = BeautifulSoup(body, 'html.parser')\n",
    "    texts = soup.findAll(text=True)\n",
    "    visible_texts = filter(tag_visible, texts)  \n",
    "    return u\" \".join(t.strip() for t in visible_texts)\n",
    "\n",
    "html = request.urlopen('https://www.cnbc.com/2019/01/17/netflix-price-hike-helps-disney-upcoming-streaming-service-analyst.html').read()\n",
    "print(text_from_html(html))"
   ]
  },
  {
   "cell_type": "code",
   "execution_count": null,
   "metadata": {},
   "outputs": [],
   "source": []
  }
 ],
 "metadata": {
  "kernelspec": {
   "display_name": "Python 3",
   "language": "python",
   "name": "python3"
  },
  "language_info": {
   "codemirror_mode": {
    "name": "ipython",
    "version": 3
   },
   "file_extension": ".py",
   "mimetype": "text/x-python",
   "name": "python",
   "nbconvert_exporter": "python",
   "pygments_lexer": "ipython3",
   "version": "3.7.1"
  }
 },
 "nbformat": 4,
 "nbformat_minor": 2
}
