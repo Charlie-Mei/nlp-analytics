{
 "cells": [
  {
   "cell_type": "code",
   "execution_count": null,
   "metadata": {},
   "outputs": [],
   "source": [
    "#!pip install pyspark"
   ]
  },
  {
   "cell_type": "code",
   "execution_count": 1,
   "metadata": {},
   "outputs": [
    {
     "name": "stdout",
     "output_type": "stream",
     "text": [
      "Using Apache Spark Version 2.4.4\n"
     ]
    }
   ],
   "source": [
    "from pyspark.conf import SparkConf\n",
    "from pyspark import SparkContext\n",
    "from pyspark.sql import SQLContext\n",
    "sc = SparkContext() \n",
    "config = sc.getConf() \n",
    "sqlContext = SQLContext(sc)\n",
    "\n",
    "print(\"Using Apache Spark Version\", sc.version)\n"
   ]
  },
  {
   "cell_type": "code",
   "execution_count": 11,
   "metadata": {},
   "outputs": [],
   "source": [
    "df = sqlContext.read.option(\"header\", \"true\").option(\"delimiter\", \",\") \\\n",
    "                    .option(\"inferSchema\", \"true\") \\\n",
    "                    .csv(\"/Users/javid/projects/enaibl/data/cb_odm_092419.csv\")\n"
   ]
  },
  {
   "cell_type": "code",
   "execution_count": 18,
   "metadata": {},
   "outputs": [
    {
     "data": {
      "text/plain": [
       "687755"
      ]
     },
     "execution_count": 18,
     "metadata": {},
     "output_type": "execute_result"
    }
   ],
   "source": [
    "df.count()"
   ]
  },
  {
   "cell_type": "code",
   "execution_count": 25,
   "metadata": {},
   "outputs": [
    {
     "name": "stdout",
     "output_type": "stream",
     "text": [
      "+------------------------------------+-----------------------------------------------------------+---------------+------------+\n",
      "|crunchbase_uuid                     |name                                                       |homepage_domain|stock_symbol|\n",
      "+------------------------------------+-----------------------------------------------------------+---------------+------------+\n",
      "|a0e8ac8d-d274-5c1f-beaa-f6311555e5a4|Center for Technology, Innovation, and Community Engagement|columbia.edu   |:           |\n",
      "|910b4e3b-4630-06fe-4192-a8573cf1e928|Columbia Advanced Practice Nurse Associates (CAPNA)        |columbia.edu   |:           |\n",
      "|1ce6ce7f-dc56-1510-7790-285b13abf2c0|EdLab                                                      |columbia.edu   |:           |\n",
      "|b09488c5-85b3-a946-d3fa-42a29a105a57|Columbia Startup Lab                                       |columbia.edu   |:           |\n",
      "|75d932e8-cd27-1585-6256-d643fe04baea|Columbia Entrepreneurship                                  |columbia.edu   |:           |\n",
      "|ef94ffb6-a931-d107-8c0f-84e45a945c5e|International Research Institute for Climate and Society   |columbia.edu   |:           |\n",
      "|3d03037b-0ce7-a576-fad4-4ec9af02b035|Centre for Capitalism and Society                          |columbia.edu   |:           |\n",
      "|ffc76fa8-1ea5-a10e-d1b1-f73a1045b87a|Columbia Global Reports                                    |columbia.edu   |:           |\n",
      "|bf364d6b-cc2b-c825-c5b3-889864c91d00|Columbia College Alumni Association                        |columbia.edu   |:           |\n",
      "|a6b40182-2a19-48ab-941a-202bf1dc4577|Hooda Group                                                |columbia.edu   |:           |\n",
      "+------------------------------------+-----------------------------------------------------------+---------------+------------+\n",
      "only showing top 10 rows\n",
      "\n"
     ]
    }
   ],
   "source": [
    "#match_df = df[df['name'].rlike(\"Apple\") & df['homepage_domain'].rlike(\"apple.com\")]\n",
    "#match_df = df[df['name'].rlike(\"Disney\")]\n",
    "#match_df = df[df['name'].contains(\"Disney\")]\n",
    "match_df = df.filter(df.homepage_domain.like('%columbia.edu%'))\n",
    "#match_df = df.filter(df.short_description.like('%electric car%'))\n",
    "match_df['crunchbase_uuid','name','homepage_domain','stock_symbol'].show(10, truncate=False)"
   ]
  },
  {
   "cell_type": "code",
   "execution_count": 7,
   "metadata": {},
   "outputs": [
    {
     "name": "stdout",
     "output_type": "stream",
     "text": [
      "+---------------------------+-----+\n",
      "|name                       |count|\n",
      "+---------------------------+-----+\n",
      "|ClickZ                     |2    |\n",
      "|Prospection                |2    |\n",
      "|Xceed                      |2    |\n",
      "|Ember                      |2    |\n",
      "|Michelle Kaufmann Designs  |2    |\n",
      "|Kuros Biosciences          |2    |\n",
      "|S.A.D.                     |2    |\n",
      "|Exos                       |2    |\n",
      "|Enliven                    |2    |\n",
      "|Breezy                     |2    |\n",
      "|Nebula                     |3    |\n",
      "|Clerky                     |2    |\n",
      "|Muxi                       |2    |\n",
      "|Imagineering               |2    |\n",
      "|Pace Wisdom                |2    |\n",
      "|Index Systems              |2    |\n",
      "|Bunch                      |4    |\n",
      "|Gowheels                   |2    |\n",
      "|Layer                      |2    |\n",
      "|TearLab Corporation        |2    |\n",
      "|Kin                        |2    |\n",
      "|Hint                       |2    |\n",
      "|Joust                      |3    |\n",
      "|Highlands State Bank       |2    |\n",
      "|Violet Box                 |2    |\n",
      "|Nemesis                    |2    |\n",
      "|Echologics                 |2    |\n",
      "|Helium                     |3    |\n",
      "|Remedy                     |4    |\n",
      "|...                        |3    |\n",
      "|PROP                       |2    |\n",
      "|Superfly                   |2    |\n",
      "|Zaza                       |2    |\n",
      "|The Right Place            |2    |\n",
      "|Ox Engineering             |2    |\n",
      "|Software Technology, Inc.  |2    |\n",
      "|Tesseract                  |3    |\n",
      "|Pickles                    |2    |\n",
      "|Blend Media                |2    |\n",
      "|AdClear                    |2    |\n",
      "|Papaya                     |2    |\n",
      "|Novopay                    |2    |\n",
      "|Drishti                    |2    |\n",
      "|Sightsavers                |2    |\n",
      "|NestEgg                    |2    |\n",
      "|Clockwork                  |2    |\n",
      "|Swapsy                     |2    |\n",
      "|The Refinery               |2    |\n",
      "|Total                      |2    |\n",
      "|APX                        |3    |\n",
      "|Intersect                  |2    |\n",
      "|Track Data                 |2    |\n",
      "|iGo                        |2    |\n",
      "|Sortal                     |2    |\n",
      "|Medivation                 |2    |\n",
      "|Sqrrl                      |2    |\n",
      "|Aspen Systems              |2    |\n",
      "|Virtua                     |2    |\n",
      "|Verso                      |3    |\n",
      "|PayrollServe               |2    |\n",
      "|Rollick                    |2    |\n",
      "|Neff Corp.                 |2    |\n",
      "|Script                     |3    |\n",
      "|The Nation                 |2    |\n",
      "|Topbox                     |2    |\n",
      "|MeetApp                    |2    |\n",
      "|Ignition Group             |2    |\n",
      "|Indee Labs                 |2    |\n",
      "|Startle                    |2    |\n",
      "|Astra                      |4    |\n",
      "|Radar                      |3    |\n",
      "|SLM Solutions Group AG     |2    |\n",
      "|Fincheck                   |2    |\n",
      "|EasyChange                 |2    |\n",
      "|Extend                     |3    |\n",
      "|FunBox                     |2    |\n",
      "|Phoenix Digital Agency     |2    |\n",
      "|TMR Technology             |2    |\n",
      "|Turtle                     |2    |\n",
      "|Deliverr                   |2    |\n",
      "|Zervos & Calta, PLLC       |3    |\n",
      "|Pandora                    |3    |\n",
      "|Advertising.com            |2    |\n",
      "|Mooch                      |2    |\n",
      "|Absolute Media             |2    |\n",
      "|Matrix Technologies        |2    |\n",
      "|Chango                     |2    |\n",
      "|eTeam                      |2    |\n",
      "|Just Dial                  |2    |\n",
      "|EMS Technologies           |2    |\n",
      "|ONO                        |2    |\n",
      "|Thread                     |3    |\n",
      "|Boomerang                  |3    |\n",
      "|Silkworks                  |2    |\n",
      "|Anglo American             |2    |\n",
      "|Tradeflow                  |2    |\n",
      "|Swim                       |2    |\n",
      "|QualiTest Group            |2    |\n",
      "|Hype                       |4    |\n",
      "|Turing                     |3    |\n",
      "|Canvas                     |9    |\n",
      "|Fuse                       |4    |\n",
      "|Porter                     |4    |\n",
      "|Siren                      |3    |\n",
      "|Hammerspace                |2    |\n",
      "|Human Unlimited            |2    |\n",
      "|Advocate                   |2    |\n",
      "|Pacific Energy             |3    |\n",
      "|iGrow                      |2    |\n",
      "|Digita                     |2    |\n",
      "|Toybox                     |2    |\n",
      "|Tomorrow                   |2    |\n",
      "|NetPay                     |2    |\n",
      "|IMS Software               |2    |\n",
      "|Hypernet                   |2    |\n",
      "|Tika                       |2    |\n",
      "|VantagePoint               |2    |\n",
      "|Code Camp                  |2    |\n",
      "|Green Card Status & Renewal|2    |\n",
      "|Venture Technologies       |2    |\n",
      "|ITN                        |2    |\n",
      "|Moveo                      |2    |\n",
      "|Speakeasy                  |7    |\n",
      "|Smartrac                   |2    |\n",
      "|Outfront Media             |2    |\n",
      "|Avail                      |2    |\n",
      "|Phoenix                    |2    |\n",
      "|Sherpa Design              |2    |\n",
      "|IPX                        |2    |\n",
      "|BioCardia                  |2    |\n",
      "|Piccolo                    |4    |\n",
      "|Biocell                    |2    |\n",
      "|Rewind                     |3    |\n",
      "|Digify                     |2    |\n",
      "|Brainsway                  |2    |\n",
      "+---------------------------+-----+\n",
      "only showing top 135 rows\n",
      "\n"
     ]
    }
   ],
   "source": [
    "from pyspark.sql.functions import *\n",
    "\n",
    "dupes = df.groupBy('name') \\\n",
    "          .agg(count('name').alias(\"count\")) \\\n",
    "          .filter(col('count') > 1) # we filter dupes\n",
    "\n",
    "dupes.show(135,truncate=False)\n"
   ]
  },
  {
   "cell_type": "code",
   "execution_count": null,
   "metadata": {},
   "outputs": [],
   "source": []
  }
 ],
 "metadata": {
  "kernelspec": {
   "display_name": "Python 3",
   "language": "python",
   "name": "python3"
  },
  "language_info": {
   "codemirror_mode": {
    "name": "ipython",
    "version": 3
   },
   "file_extension": ".py",
   "mimetype": "text/x-python",
   "name": "python",
   "nbconvert_exporter": "python",
   "pygments_lexer": "ipython3",
   "version": "3.7.1"
  }
 },
 "nbformat": 4,
 "nbformat_minor": 2
}
