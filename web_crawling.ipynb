{
 "cells": [
  {
   "cell_type": "markdown",
   "metadata": {},
   "source": [
    "## Practice NLP on an Article from the NY Times"
   ]
  },
  {
   "cell_type": "code",
   "execution_count": 3,
   "metadata": {},
   "outputs": [],
   "source": [
    "from urllib import request\n",
    "from bs4 import BeautifulSoup\n",
    "from bs4.element import Comment"
   ]
  },
  {
   "cell_type": "code",
   "execution_count": 4,
   "metadata": {},
   "outputs": [],
   "source": [
    "# Latest Coronavirus article\n",
    "url = 'https://www.nytimes.com/2020/07/16/health/coronavirus-vaccine-novavax.html?action=click&module=Top%20Stories&pgtype=Homepage'"
   ]
  },
  {
   "cell_type": "code",
   "execution_count": 9,
   "metadata": {},
   "outputs": [],
   "source": [
    "from nlp_toolkit import nlp_toolkit as ntk"
   ]
  },
  {
   "cell_type": "markdown",
   "metadata": {},
   "source": [
    "### Parsing the article into Python"
   ]
  },
  {
   "cell_type": "markdown",
   "metadata": {},
   "source": [
    "First step is to open the url page using ```request.urlopen().read()``` that returns the url in ```html``` markup."
   ]
  },
  {
   "cell_type": "code",
   "execution_count": 8,
   "metadata": {
    "tags": []
   },
   "outputs": [
    {
     "output_type": "stream",
     "name": "stdout",
     "text": "b'<!DOCTYPE html>\\n<html lang=\"en-US\" class=\"story\" xmlns:og=\"http://opengraphprotocol.org/schema/\">\\n  <head>\\n    <title data-rh=\"true\">How Novavax Won $1.6 Billion to Make a Coronavirus Vaccine - The New York Times</title>\\n    <meta data-rh=\"true\" itemprop=\"inLanguage\" content=\"en-US\"/><meta data-rh=\"'\n"
    }
   ],
   "source": [
    "html = request.urlopen(url).read()\n",
    "print(html[:300])"
   ]
  },
  {
   "cell_type": "markdown",
   "metadata": {},
   "source": [
    "Parse it through to a ```BeautifulSoup``` object, then strip out tags that are:\n",
    "\n",
    "- style\n",
    "- script\n",
    "- head\n",
    "- title\n",
    "- meta\n",
    "- document\n",
    "- comments.\n",
    "\n",
    "This can be done in the ```text_from_html()``` wrapper function."
   ]
  },
  {
   "cell_type": "code",
   "execution_count": 10,
   "metadata": {
    "tags": []
   },
   "outputs": [
    {
     "output_type": "stream",
     "name": "stdout",
     "text": "Sections SEARCH Skip to content Skip to site index Health Today’s Paper Health | How a Struggling Company Won $1.6 Billion to Make a Coronavirus Vaccine https://nyti.ms/2ChPu4q The Coronavirus Outbreak live Latest Updates Maps and Cases Drug and Treatment Tracker Business Updates Advertisement Co\n"
    }
   ],
   "source": [
    "text = ntk.text_from_html(html)\n",
    "print(text[:300])"
   ]
  },
  {
   "cell_type": "markdown",
   "metadata": {},
   "source": [
    "### How many times is COVID-19 and vaccine mentioned?"
   ]
  },
  {
   "cell_type": "code",
   "execution_count": 12,
   "metadata": {},
   "outputs": [],
   "source": [
    "import re"
   ]
  },
  {
   "cell_type": "code",
   "execution_count": 14,
   "metadata": {
    "tags": []
   },
   "outputs": [
    {
     "output_type": "stream",
     "name": "stdout",
     "text": "There are 17 mentions of COVID\n"
    }
   ],
   "source": [
    "covid_matcher = re.finditer('coronavirus|covid', text)\n",
    "\n",
    "matches = [match.start() for match in covid_matcher]\n",
    "print('There are {} mentions of COVID'.format(len(matches)))"
   ]
  },
  {
   "cell_type": "code",
   "execution_count": 15,
   "metadata": {
    "tags": []
   },
   "outputs": [
    {
     "output_type": "stream",
     "name": "stdout",
     "text": "There are 53 mentions of vaccine\n"
    }
   ],
   "source": [
    "vaccine_matcher = re.finditer('vaccine', text)\n",
    "vaccine_matches = [match.start() for match in vaccine_matcher]\n",
    "print('There are {} mentions of vaccine'.format(len(vaccine_matches)))"
   ]
  },
  {
   "cell_type": "markdown",
   "metadata": {},
   "source": [
    "### Tokenization to sentences"
   ]
  },
  {
   "cell_type": "code",
   "execution_count": 11,
   "metadata": {},
   "outputs": [],
   "source": [
    "from nltk import sent_tokenize, word_tokenize, WordNetLemmatizer, PorterStemmer, ngrams, pos_tag\n",
    "from nltk.corpus import stopwords\n",
    "from collections import Counter"
   ]
  },
  {
   "cell_type": "code",
   "execution_count": 16,
   "metadata": {
    "tags": []
   },
   "outputs": [
    {
     "output_type": "stream",
     "name": "stdout",
     "text": "Sections SEARCH Skip to content Skip to site index Health Today’s Paper Health | How a Struggling Company Won $1.6 Billion to Make a Coronavirus Vaccine https://nyti.ms/2ChPu4q The Coronavirus Outbreak live Latest Updates Maps and Cases Drug and Treatment Tracker Business Updates Advertisement Continue reading the main story Supported by Continue reading the main story How a Struggling Company Won $1.6 Billion to Make a Coronavirus Vaccine Novavax just received the Trump administration’s largest vaccine contract.\n\nIn the Maryland company’s 33-year history, it has never brought a vaccine to market.\n\nThe coronavirus vaccine Novavax, a small biotech company, has developed is now in safety trials.\n\nResults are expected this month.\n\nCredit... Andrew Caballero-Reynolds/Agence France-Presse — Getty Images By  Katie Thomas and Megan Twohey July 16, 2020 Updated 12:22 p.m.\n\nET In late February, as the coronavirus spread around the world, Dr. Richard Hatchett, the head of an international nonprofit that gives money to vaccine developers, got on an important call to discuss vaccine candidates after his plane touched down at London’s Heathrow Airport.\n\nExecutives from the Bill & Melinda Gates Foundation, which helped found and finance the nonprofit, were on the line, enthusiastic about Novavax, a small biotech company they thought had the potential to develop a vaccine against the virus — fast.\n\nAlthough the company, based in Gaithersburg, Md., had never brought a vaccine to market in its 33-year history, these experts were optimistic about its technology, which uses moth cells to pump out crucial molecules at a much faster rate than typical vaccines — a major advantage in a pandemic.\n\nDr. Hatchett’s organization, the Coalition for Epidemic Preparedness Innovations, would go on to invest $388 million in the company’s coronavirus vaccine.\n\nWith that powerful backing, Novavax made an aggressive push to the U.S. government.\n\n"
    }
   ],
   "source": [
    "sentences = sent_tokenize(text)\n",
    "for sentence in sentences[:10]:\n",
    "    print(sentence)\n",
    "    print()"
   ]
  },
  {
   "cell_type": "markdown",
   "metadata": {},
   "source": [
    "Looking at the 'sentences' here, the parsing through ```BeautifulSoup``` picked up the text of the title along with the surrounding links before the title. Additionally, captions from images are also parsed through.\n",
    "\n",
    "The article itself really starts at sentence 6."
   ]
  },
  {
   "cell_type": "markdown",
   "metadata": {},
   "source": [
    "### Named Entity Recognition\n",
    "\n",
    "We will use a precomponsed crunchdatabase to find named entities. For this, we wil use ```spacy``` to do the text analysis."
   ]
  },
  {
   "cell_type": "code",
   "execution_count": 19,
   "metadata": {},
   "outputs": [],
   "source": [
    "import spacy\n",
    "nlp = spacy.load(\"en_core_web_sm\")"
   ]
  },
  {
   "cell_type": "code",
   "execution_count": 20,
   "metadata": {},
   "outputs": [],
   "source": [
    "# Parse the text into the nlp object from spacy\n",
    "page = nlp(text)"
   ]
  },
  {
   "cell_type": "code",
   "execution_count": 25,
   "metadata": {
    "tags": []
   },
   "outputs": [
    {
     "output_type": "stream",
     "name": "stdout",
     "text": "{'the Defense Department', 'the White House', 'France-Presse', 'Glassdoor', 'Catalent', 'Trump', 'Phalanx Investment Partners', 'The Biomedical Advanced Research and Development Authority', 'Image Novavax', 'the National Security Council', 'KPMG', 'the University of New Mexico', 'the British Journal of Sports Medicine', 'the Gates Foundation', 'the American Council on Exercise', 'The New York Times', 'the Food and Drug Administration', 'BARDA', 'the Coalition for Epidemic Preparedness Innovations', 'the Department of Health and Human Services', 'Novavax', 'George Washington University Law School', 'H.H.S.', 'Virginia Tech', 'Getty Images CEPI', 'Doctors Without Borders', 'The New York Times Company', 'House', 'CEPI', 'The Coronavirus Outbreak', 'the World Health Organization', 'Megan Twohey'}\n"
    }
   ],
   "source": [
    "# Extract organizations mentioned in the article\n",
    "orgs = [entity.text for entity in page.ents if entity.label_ == 'ORG']\n",
    "print(set(orgs))"
   ]
  },
  {
   "cell_type": "markdown",
   "metadata": {},
   "source": [
    "The entity recognizer picked up some errors: Trump was considered an organization."
   ]
  },
  {
   "cell_type": "code",
   "execution_count": null,
   "metadata": {},
   "outputs": [],
   "source": []
  }
 ],
 "metadata": {
  "language_info": {
   "codemirror_mode": {
    "name": "ipython",
    "version": 3
   },
   "file_extension": ".py",
   "mimetype": "text/x-python",
   "name": "python",
   "nbconvert_exporter": "python",
   "pygments_lexer": "ipython3",
   "version": 3
  },
  "orig_nbformat": 2,
  "kernelspec": {
   "name": "python_defaultSpec_1594947928792",
   "display_name": "Python 3.8.3 32-bit"
  }
 },
 "nbformat": 4,
 "nbformat_minor": 2
}