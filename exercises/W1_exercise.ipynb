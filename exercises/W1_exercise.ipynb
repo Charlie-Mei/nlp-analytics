{
 "cells": [
  {
   "cell_type": "markdown",
   "metadata": {},
   "source": [
    "## Week 1: Basic Python\n",
    "\n",
    "Topics:\n",
    "\n",
    "- basic variables and data structures and data types\n",
    "- for loops\n",
    "- creating functions\n",
    "- creating emthods (optional)\n",
    "- reading csvs from the csv package"
   ]
  },
  {
   "cell_type": "code",
   "execution_count": 1,
   "metadata": {},
   "outputs": [
    {
     "output_type": "stream",
     "name": "stdout",
     "text": "*** Introductory Examples for the NLTK Book ***\nLoading text1, ..., text9 and sent1, ..., sent9\nType the name of the text or sentence to view it.\nType: 'texts()' or 'sents()' to list the materials.\ntext1: Moby Dick by Herman Melville 1851\ntext2: Sense and Sensibility by Jane Austen 1811\ntext3: The Book of Genesis\ntext4: Inaugural Address Corpus\ntext5: Chat Corpus\ntext6: Monty Python and the Holy Grail\ntext7: Wall Street Journal\ntext8: Personals Corpus\ntext9: The Man Who Was Thursday by G . K . Chesterton 1908\n"
    }
   ],
   "source": [
    "import csv\n",
    "import nltk\n",
    "from  nltk.book import *"
   ]
  },
  {
   "cell_type": "code",
   "execution_count": 4,
   "metadata": {},
   "outputs": [
    {
     "output_type": "execute_result",
     "data": {
      "text/plain": "<Text: Moby Dick by Herman Melville 1851>"
     },
     "metadata": {},
     "execution_count": 4
    }
   ],
   "source": [
    "text1"
   ]
  },
  {
   "cell_type": "markdown",
   "metadata": {},
   "source": [
    "### Reading csv files\n",
    "\n",
    "The csv package reads data line by line in dictionary format when using the ```csv.DictReader()``` method. Each element is read as a tuple of variable name, then its associated value. To read it as a dictionary, include ```dict()``` around the read row.\n",
    "\n",
    "An ordered dictionary differs from a regular dictionary in that it remembers the order in which keys are first read in."
   ]
  },
  {
   "cell_type": "code",
   "execution_count": 3,
   "metadata": {
    "tags": [
     "outputPrepend"
    ]
   },
   "outputs": [],
   "source": [
    "file = csv.DictReader(open(\"cb_sample.csv\"))"
   ]
  },
  {
   "cell_type": "code",
   "execution_count": 6,
   "metadata": {},
   "outputs": [
    {
     "output_type": "execute_result",
     "data": {
      "text/plain": "{'ï»¿name': 'Eventil',\n 'city': '',\n 'region': '',\n 'country': '',\n 'category_list': 'Events,Information Services,Information Technology',\n 'category_groups_list': 'Events,Information Technology,Media and Entertainment',\n 'cb_url': 'https://www.crunchbase.com/organization/eventil',\n 'rank': '333763',\n 'domain': 'eventil.com'}"
     },
     "metadata": {},
     "execution_count": 6
    }
   ],
   "source": [
    "for row in file:\n",
    "    sample = row\n",
    "    break\n",
    "\n",
    "dict(sample)"
   ]
  }
 ],
 "metadata": {
  "language_info": {
   "codemirror_mode": {
    "name": "ipython",
    "version": 3
   },
   "file_extension": ".py",
   "mimetype": "text/x-python",
   "name": "python",
   "nbconvert_exporter": "python",
   "pygments_lexer": "ipython3",
   "version": "3.7.6-final"
  },
  "orig_nbformat": 2,
  "kernelspec": {
   "name": "python3",
   "display_name": "Python 3"
  }
 },
 "nbformat": 4,
 "nbformat_minor": 2
}