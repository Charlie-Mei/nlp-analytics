{
 "cells": [
  {
   "cell_type": "markdown",
   "metadata": {},
   "source": [
    "## Extracing data from various data sources"
   ]
  },
  {
   "cell_type": "markdown",
   "metadata": {},
   "source": [
    "### 1. From a URL Link\n",
    "\n",
    "Python can fetch the HTML/XML from a webpage through the ```urllib``` or the ```requests``` package. We can then use ```BeautifulSoup``` to get the actual text/content!"
   ]
  },
  {
   "cell_type": "code",
   "execution_count": 38,
   "metadata": {},
   "outputs": [],
   "source": [
    "from urllib import request"
   ]
  },
  {
   "cell_type": "code",
   "execution_count": 7,
   "metadata": {
    "tags": [
     "outputPrepend"
    ]
   },
   "outputs": [
    {
     "output_type": "stream",
     "name": "stdout",
     "text": "<!DOCTYPE html>\n<html lang=\"en-US\">\n\t<head>\n\t\t\t\t<meta charset=\"UTF-8\" />\n\t\t<meta name=\"viewport\" con\n"
    }
   ],
   "source": [
    "# The source\n",
    "url = \"https://electrek.co/2019/09/10/tesla-new-assembly-line-fremont-factory-model-y-production/\" \n",
    "\n",
    "# Read in the url in html format, decoded by UTF-8\n",
    "html = request.urlopen(url).read().decode('utf8')\n",
    "print(html[:100])"
   ]
  },
  {
   "cell_type": "code",
   "execution_count": 21,
   "metadata": {
    "tags": [
     "outputPrepend"
    ]
   },
   "outputs": [],
   "source": [
    "# Let's get the actual content\n",
    "from bs4 import BeautifulSoup\n",
    "# First save an instance of the HTML in soup object\n",
    "soup = BeautifulSoup(html, 'html.parser')"
   ]
  },
  {
   "cell_type": "code",
   "execution_count": 33,
   "metadata": {
    "tags": [
     "outputPrepend"
    ]
   },
   "outputs": [
    {
     "output_type": "execute_result",
     "data": {
      "text/plain": "['html', '\\n']"
     },
     "metadata": {},
     "execution_count": 33
    }
   ],
   "source": [
    "# List of all children of a webpage\n",
    "list(soup.children)[:2]"
   ]
  },
  {
   "cell_type": "code",
   "execution_count": 36,
   "metadata": {},
   "outputs": [
    {
     "output_type": "execute_result",
     "data": {
      "text/plain": "['Tesla',\n 'is',\n 'working',\n 'on',\n '5th',\n 'assembly',\n 'line',\n 'at',\n 'Fremont',\n 'factory']"
     },
     "metadata": {},
     "execution_count": 36
    }
   ],
   "source": [
    "from nltk import word_tokenize\n",
    "# Get word tokens from the soup - gets all the text, regardless of its in the heading/body etc.\n",
    "tokens = word_tokenize(soup.get_text())\n",
    "tokens[:10]"
   ]
  },
  {
   "cell_type": "markdown",
   "metadata": {},
   "source": [
    "### Same example with ```requests```"
   ]
  },
  {
   "cell_type": "code",
   "execution_count": 41,
   "metadata": {},
   "outputs": [
    {
     "output_type": "execute_result",
     "data": {
      "text/plain": "<Response [200]>"
     },
     "metadata": {},
     "execution_count": 41
    }
   ],
   "source": [
    "import requests\n",
    "\n",
    "response = requests.get(url)\n",
    "response # 200 implies success! 404 bad."
   ]
  },
  {
   "cell_type": "code",
   "execution_count": 45,
   "metadata": {
    "tags": [
     "outputPrepend"
    ]
   },
   "outputs": [
    {
     "output_type": "stream",
     "name": "stdout",
     "text": "b'<!DOCTYPE html>\\n<html lang=\"en-US\">\\n\\t<head>\\n\\t\\t\\t\\t<meta charset=\"UTF-8\" />\\n\\t\\t<meta name=\"viewport\" con'\n"
    }
   ],
   "source": [
    "# Print out the HTML\n",
    "print(response.content[:100])"
   ]
  },
  {
   "cell_type": "code",
   "execution_count": 48,
   "metadata": {
    "tags": [
     "outputPrepend"
    ]
   },
   "outputs": [
    {
     "output_type": "stream",
     "name": "stdout",
     "text": "<!DOCTYPE html>\n<html lang=\"en-US\">\n <head>\n  <meta charset=\"utf-8\"/>\n  <meta content=\"width=device-\n"
    }
   ],
   "source": [
    "# And then can use beautful soup and nltk again to get the words!\n",
    "soup2 = BeautifulSoup(response.content)\n",
    "print(soup2.prettify()[:100])"
   ]
  },
  {
   "cell_type": "markdown",
   "metadata": {},
   "source": [
    "### 2. Working with JSON libraries\n",
    "\n",
    "We can read JSON files from the web by connection with URL links, as done previously. The ```json``` package can then be used to extract a json file into a python dictionary."
   ]
  },
  {
   "cell_type": "code",
   "execution_count": 50,
   "metadata": {},
   "outputs": [],
   "source": [
    "import json\n",
    "\n",
    "# A toy json file\n",
    "json_query = 'https://api.opencorporates.com/companies/nl/17087985'"
   ]
  },
  {
   "cell_type": "code",
   "execution_count": 57,
   "metadata": {},
   "outputs": [
    {
     "output_type": "stream",
     "name": "stdout",
     "text": "{\"api_version\":\"0.4.8\",\"results\":{\"company\":{\"name\":\"Bover B.V.\",\"company_number\":\"17087985\",\"jurisdiction_code\":\"nl\",\"incorporation_date\":null,\"dissolution_date\":null,\"company_type\":\"Besloten Vennootschap\",\"registry_url\":\"https://www.kvk.nl/zoeken/handelsregister/#!uitgebreid-zoeken\\u0026handelsnaam=\\u0026kvknummer=17087985\\u0026straat=\\u0026postcode=\\u0026huisnummer=\\u0026plaats=\\u0026hoofdvestiging=true\\u0026rechtspersoon=true\\u0026nevenvestiging=false\\u0026zoekvervallen=1\\u0026zoekuitgeschreven=1\\u0026start=0\\u0026initial=0\\u0026searchfield=uitgebreidzoeken\",\"branch\":null,\"branch_status\":null,\"inactive\":false,\"current_status\":\"Active\",\"created_at\":\"2011-01-12T21:50:57+00:00\",\"updated_at\":\"2020-01-12T20:42:49+00:00\",\"retrieved_at\":\"2020-01-10T10:03:54+00:00\",\"opencorporates_url\":\"https://opencorporates.com/companies/nl/17087985\",\"source\":{\"publisher\":\"Kamer van Koophandel (KvK)\",\"url\":\"https://www.kvk.nl/zoeken/handelsregister/#!uitgebreid-zoeken\\u0026handelsnaam=\\u0026kvknummer=17087985\\u0026straat=\\u0026postcode=\\u0026huisnummer=\\u0026plaats=\\u0026hoofdvestiging=true\\u0026rechtspersoon=true\\u0026nevenvestiging=false\\u0026zoekvervallen=1\\u0026zoekuitgeschreven=1\\u0026start=0\\u0026initial=0\\u0026searchfield=uitgebreidzoeken\",\"retrieved_at\":\"2020-01-10T10:03:54+00:00\"},\"agent_name\":null,\"agent_address\":null,\"alternative_names\":[],\"previous_names\":[],\"number_of_employees\":null,\"native_company_number\":null,\"alternate_registration_entities\":[],\"previous_registration_entities\":[],\"subsequent_registration_entities\":[],\"restricted_for_marketing\":true,\"industry_codes\":[],\"identifiers\":[],\"trademark_registrations\":[],\"corporate_groupings\":[],\"data\":{\"most_recent\":[{\"datum\":{\"id\":46897397,\"title\":\"Head Office Address\",\"data_type\":\"CompanyAddress\",\"description\":\"Cimburgalaan 84, Breda, 4819BD\",\"opencorporates_url\":\"https://opencorporates.com/data/46897397\"}},{\"datum\":{\"id\":2457732,\"title\":\"SEC Edgar entry\",\"data_type\":\"OfficialRegisterEntry\",\"description\":\"register id: 1434782\",\"opencorporates_url\":\"https://opencorporates.com/data/2457732\"}},{\"datum\":{\"id\":2457731,\"title\":\"Company Address\",\"data_type\":\"CompanyAddress\",\"description\":\"BOKSHEIDE 20, EERSEL P7 5521 PM\",\"opencorporates_url\":\"https://opencorporates.com/data/2457731\"}}],\"total_count\":3,\"url\":\"https://opencorporates.com/companies/nl/17087985/data\"},\"financial_summary\":null,\"home_company\":null,\"controlling_entity\":null,\"ultimate_beneficial_owners\":[],\"filings\":[],\"officers\":[]}}}\n"
    }
   ],
   "source": [
    "response = requests.get(json_query)\n",
    "print(response.text)"
   ]
  },
  {
   "cell_type": "code",
   "execution_count": 63,
   "metadata": {},
   "outputs": [
    {
     "output_type": "stream",
     "name": "stdout",
     "text": "0.4.8\n"
    }
   ],
   "source": [
    "# Turn the json into a dictionary\n",
    "output = json.loads(response.text)\n",
    "type(output)\n",
    "\n",
    "# An example key from dictionary\n",
    "print(output['api_version'])"
   ]
  },
  {
   "cell_type": "markdown",
   "metadata": {},
   "source": [
    "### 3. Reading other file types\n",
    "\n",
    "### Word files"
   ]
  },
  {
   "cell_type": "code",
   "execution_count": 64,
   "metadata": {},
   "outputs": [],
   "source": [
    "from docx import Document\n",
    "\n",
    "document = Document(\"C:\\\\Github\\\\nlp-analytics\\\\lectures\\\\S2 - Data sources and crawling\\\\sample.docx\")"
   ]
  },
  {
   "cell_type": "code",
   "execution_count": 68,
   "metadata": {},
   "outputs": [
    {
     "output_type": "stream",
     "name": "stdout",
     "text": "[<docx.text.paragraph.Paragraph object at 0x000001AE8395B088>, <docx.text.paragraph.Paragraph object at 0x000001AE839BE208>, <docx.text.paragraph.Paragraph object at 0x000001AE839CEE48>, <docx.text.paragraph.Paragraph object at 0x000001AE839CEF88>, <docx.text.paragraph.Paragraph object at 0x000001AE839CE608>, <docx.text.paragraph.Paragraph object at 0x000001AE839AA588>, <docx.text.paragraph.Paragraph object at 0x000001AE839AA848>, <docx.text.paragraph.Paragraph object at 0x000001AE839AA2C8>, <docx.text.paragraph.Paragraph object at 0x000001AE839AA788>, <docx.text.paragraph.Paragraph object at 0x000001AE839CE748>]\n"
    }
   ],
   "source": [
    "# Can get paragraphs - but this output is encoded\n",
    "print(document.paragraphs[:10])"
   ]
  },
  {
   "cell_type": "code",
   "execution_count": 80,
   "metadata": {
    "tags": [
     "outputPrepend"
    ]
   },
   "outputs": [
    {
     "output_type": "stream",
     "name": "stdout",
     "text": "\n\nTemplate for Preparation of Papers for IEEE Sponsored Conferences & Symposia\n\nFrank Anderson, Sam B. Niles, Jr., and Theodore C. Donald, Member, IEEE\n\nAbstract—These instructions give you guidelines for preparing papers for IEEE conferences. Use this document as a template if you are using Microsoft Word 6.0 or later. Otherwise, use this document as an instruction set. Instructions about final paper and figure submissions in this document are for IEEE journals; please use this document as a “template” to prepare your manuscript. For submission guidelines, follow instructions on paper submission system as well as the Conference website. Do not delete the blank line immediately above the abstract; it sets the footnote at the bottom of this column.\n\nINTRODUCTION\n\n"
    }
   ],
   "source": [
    "for p in document.paragraphs[:5]:\n",
    "    print(p.text + \"\\n\")"
   ]
  },
  {
   "cell_type": "markdown",
   "metadata": {},
   "source": [
    "### PDF Files"
   ]
  },
  {
   "cell_type": "code",
   "execution_count": 82,
   "metadata": {},
   "outputs": [],
   "source": [
    "from PyPDF2 import PdfFileReader, PdfFileWriter"
   ]
  },
  {
   "cell_type": "code",
   "execution_count": 86,
   "metadata": {},
   "outputs": [],
   "source": [
    "file = 'C:\\\\Github\\\\nlp-analytics\\\\lectures\\\\S2 - Data sources and crawling\\\\sample.pdf'\n",
    "\n",
    "pdf = PdfFileReader(file)"
   ]
  },
  {
   "cell_type": "code",
   "execution_count": 87,
   "metadata": {},
   "outputs": [
    {
     "output_type": "stream",
     "name": "stdout",
     "text": "{'/Creator': 'Rave (http://www.nevrona.com/rave)', '/Producer': 'Nevrona Designs', '/CreationDate': 'D:20060301072826'}\n"
    }
   ],
   "source": [
    "# Get Document info\n",
    "print(pdf.getDocumentInfo())"
   ]
  },
  {
   "cell_type": "code",
   "execution_count": 88,
   "metadata": {},
   "outputs": [
    {
     "output_type": "stream",
     "name": "stdout",
     "text": "2\n"
    }
   ],
   "source": [
    "# Get number of pages\n",
    "print(pdf.getNumPages())"
   ]
  },
  {
   "cell_type": "code",
   "execution_count": 92,
   "metadata": {},
   "outputs": [
    {
     "output_type": "execute_result",
     "data": {
      "text/plain": "{'/Type': '/Page',\n '/Parent': {'/Type': '/Pages',\n  '/Count': 2,\n  '/Kids': [IndirectObject(4, 0), IndirectObject(6, 0)]},\n '/Resources': {'/Font': {'/F1': {'/Type': '/Font',\n    '/Subtype': '/Type1',\n    '/Name': '/F1',\n    '/BaseFont': '/Helvetica',\n    '/Encoding': '/WinAnsiEncoding'}},\n  '/ProcSet': ['/PDF', '/Text']},\n '/MediaBox': [0, 0, 612, 792],\n '/Contents': {},\n '/Rotate': 360}"
     },
     "metadata": {},
     "execution_count": 92
    }
   ],
   "source": [
    "# can also rotate PDFs which may be useful for tables in PDFs\n",
    "\n",
    "# Access first page\n",
    "page = pdf.getPage(0)\n",
    "page.rotateClockwise(90)"
   ]
  }
 ],
 "metadata": {
  "language_info": {
   "codemirror_mode": {
    "name": "ipython",
    "version": 3
   },
   "file_extension": ".py",
   "mimetype": "text/x-python",
   "name": "python",
   "nbconvert_exporter": "python",
   "pygments_lexer": "ipython3",
   "version": "3.7.6-final"
  },
  "orig_nbformat": 2,
  "kernelspec": {
   "name": "python3",
   "display_name": "Python 3"
  }
 },
 "nbformat": 4,
 "nbformat_minor": 2
}