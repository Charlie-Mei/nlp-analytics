{
 "cells": [
  {
   "cell_type": "markdown",
   "metadata": {},
   "source": [
    "## Assignment 6 Part 1\n",
    "by Charlie Mei cm3947\n",
    "\n",
    "\n",
    "Review Word2Vec project page and download GoogleNews-vectors-negative300.bin.gz (Links to an external site.) pre-trained model to your computer.\n",
    "\n",
    "Write a Python program based on the provided Class Exercise, which:\n",
    "\n",
    "- Loads the downloaded pre-trained Google Word2Vec model from your computer\n",
    "- Loads your previously obtained dataset of Webhose news articles\n",
    "- For any one selected article title from the dataset, finds 100 most similar titles based on Word2Vec similarity, prints those titles in a descending order of similarity scores."
   ]
  },
  {
   "cell_type": "code",
   "execution_count": 1,
   "metadata": {},
   "outputs": [],
   "source": [
    "import nlp_toolkit as ntk\n",
    "import json\n",
    "import gensim, operator\n",
    "from gensim.models import KeyedVectors"
   ]
  },
  {
   "cell_type": "code",
   "execution_count": 2,
   "metadata": {
    "tags": []
   },
   "outputs": [
    {
     "output_type": "stream",
     "name": "stdout",
     "text": "Loading Word2Vec model...\nFinished loading Word2Vec model...\n"
    }
   ],
   "source": [
    "# Load pretrained Google Word2Vec Model\n",
    "w2v_model = ntk.load_wordvec_model('Word2Vec', 'GoogleNews-vectors-negative300.bin.gz', True, 'C:\\\\Github\\\\nlp-analytics\\\\')"
   ]
  },
  {
   "cell_type": "code",
   "execution_count": 3,
   "metadata": {
    "tags": []
   },
   "outputs": [
    {
     "output_type": "stream",
     "name": "stdout",
     "text": "13 Reasons Why: The popular Netflix show's creator teases chance of a hopeful ending\nJudge gives control of 'Tiger King' Joe Exotic's zoo to Carole Baskin\n"
    }
   ],
   "source": [
    "# Load webhose dataset\n",
    "feeds = ntk.parse_json_file('webhose_netflix.json')\n",
    "for feed in feeds[:2]:\n",
    "    print(feed['title'])"
   ]
  },
  {
   "cell_type": "code",
   "execution_count": 4,
   "metadata": {
    "tags": []
   },
   "outputs": [
    {
     "output_type": "stream",
     "name": "stdout",
     "text": "All about Netflix’s sci-fi television shows we love\n"
    },
    {
     "output_type": "execute_result",
     "data": {
      "text/plain": "25288"
     },
     "metadata": {},
     "execution_count": 4
    }
   ],
   "source": [
    "# Extract just the titles\n",
    "titles = [feed['title'] for feed in feeds]\n",
    "print(titles[9])\n",
    "len(titles)"
   ]
  },
  {
   "cell_type": "code",
   "execution_count": 5,
   "metadata": {},
   "outputs": [],
   "source": [
    "# Create a function that calculates similar articles\n",
    "def identify_similar_articles(title, title_list, vsm, topn=100):\n",
    "    print('Finding similar articles to: \\n' + title + '\\n')\n",
    "    # Remove the test title from title-list, but preserve original title list\n",
    "    title_list2 = title_list\n",
    "    title_list2.remove(title)\n",
    "    vec_sims = []\n",
    "    # Calculate similarities and skip over errors\n",
    "    for feed in title_list2:\n",
    "        try:\n",
    "            vec_sims.append(ntk.calc_similarity(title, feed, vsm))\n",
    "        except:\n",
    "            title_list2.remove(feed)\n",
    "            continue\n",
    "    \n",
    "    # Create a dictionary representation of feed title and similarity score\n",
    "    similarity_dict = dict(zip(title_list2, vec_sims))\n",
    "    # Sort the dictionary in descending order\n",
    "    sorted_sims = {k: v for k, v in sorted(similarity_dict.items(), key=lambda item: item[1], reverse=True)}\n",
    "    # Return top n keys i.e. titles\n",
    "    titles = [title for title in sorted_sims.keys()]\n",
    "    # and their similarities\n",
    "    sims = [sim for sim in sorted_sims.values()]\n",
    "\n",
    "    top_sims = dict(zip(titles[1:topn+1], sims[1:topn+1]))\n",
    "\n",
    "    print('Here are the top ' + str(topn) + ' most similar articles... \\n')\n",
    "    for title in top_sims.keys():\n",
    "        print(title + \": \" + str(top_sims[title]) + '\\n')\n",
    "\n",
    "    # Return top n similarities in dictionary\n",
    "    return top_sims"
   ]
  },
  {
   "cell_type": "code",
   "execution_count": 6,
   "metadata": {
    "tags": []
   },
   "outputs": [
    {
     "output_type": "stream",
     "name": "stdout",
     "text": "Finding similar articles to: \nAll about Netflix’s sci-fi television shows we love\n\nHere are the top 100 most similar articles... \n\nNetflix’s I Love You Stupid Filming Locations: 0.7659882\n\nIs 'The Last Dance' on Netflix or ESPN Plus? How to stream the Michael Jordan documentary - news: 0.7639723\n\nOn 'She-Ra' and 'Killing Eve,' Lesbian Subtext Drops the Sub: 0.7523617\n\nLucifer season 5 - Release date on Netflix, cast and trailer: 0.7440125\n\nMurió Ricardo Barreda: el cuádruple femicida estaba en un geriátrico - Actualidad: 0.7438687\n\nTerrace House Cancelled After Castmate Hana Kimura Dies | E! News Australia: 0.74266684\n\nFrom Silicon Valley to Hollywood, everyone's obsessed with getting the hell off this planet: 0.7367701\n\nArrow Star John Barrowman Has Very Strong Feelings About Netflix's Extraction: 0.7367701\n\n'Becoming' doc review: Michelle Obama (kinda) shows unfiltered glimpse into her life: 0.7350389\n\nThe Culture Book Volume 1: When Culture Clicks by Culturati and Weeva: 0.7350389\n\nTiger King star Joe Exotic’s legal team en route to Washington to ask Donald Trump for a pardon: 0.73047686\n\nNetflix Inc. (NASDAQ:NFLX) To Cancel Accounts That Have Been Inactive For Over 12 Months: 0.73029435\n\nRicky Gervais to bring After Life bac...: 0.72722983\n\nCritter’s Criticism Of Netflix’s New Fresa Series, “Desenfrenadas”: 0.72722983\n\nFirst-ever Pinay version of ‘Buffy the Vampire Slayer’ unveiled in PH-exclusive cover: 0.72678804\n\nNetflix’s Dark releases season 3 teaser, reveals premiere date: 0.72373545\n\nThe Eddy on Netflix release date, cast, trailer, plot for La La Land director's new series: 0.721195\n\n‘Las Crónicas de Narnia’ ¿una serie en Netflix?: 0.71830416\n\nCool, cool, cool - There's a massive Brooklyn Nine-Nine quiz happening this weekend: 0.71794647\n\nAmazon won't support HBO Max without Prime Video Channels tie-in: 0.71792835\n\nGo Inside Hospital Life in Upcoming Netflix Series Lenox Hill: 0.71792835\n\nWarnerMedia, Comcast Ink HBO Max Deal: 0.71792835\n\nApple teams with Martin Scorsese for Killers of the Flower Moon: 0.71792835\n\nJeffrey Epstein: stinking rich: Netflix reveals shocking Details about Prince Andrew | series: 0.71792835\n\nDuo signed up for play to commemorate Wimbledon’s unique story: 0.71792835\n\nGet to Know the Actors Who Play Your Favorite Characters on ‘Dead to Me' Season 1 and 2: 0.71792835\n\nJapanese pro-wrestler in popular reality show dies at 22 - The Edwardsville Intelligencer: 0.7147554\n\nApple reportedly teaming with Paramount for Martin Scorsese's adaptation of 'Killers of the Flower Moon': 0.71448004\n\nNetflix Review – Space Force: 0.71448004\n\nThe best streaming services in: 0.71448004\n\nRace With Ryan: Surprise Track Pack | Launch Trailer: 0.71318305\n\nRyan Murphy’s ‘American Horror Story’ spin-off series receives the green light: 0.71057165\n\nLamps Plus Products Enliven Sets Created by Renowned Set Decorator Brandi Kalish in Highly Anticipated Second Season of Dead to Me: 0.7097347\n\nU.S. Is Still Without Regulations For Personal Protective Equipment: 0.7087179\n\nNetflix's Ibiza drama White Lines set to be a binge watch MUST: 0.7083391\n\nHBO Max is here: Everything you need to know about the new streaming service | General | kptv.com: 0.70712066\n\nTollywood is suffering in silence!: 0.70641494\n\nDwayne 'The Rock' Johnson-Emily Blunt's superhero movie 'Ball And Chain' to release on Netflix: 0.7053547\n\nHend Sabri to be Netflix's new star in 'female-focused' Arabic drama: 0.7048737\n\nScorsese’s next film with DiCaprio and De Niro will be produced by Apple and will be released in theaters: 0.7032949\n\nAnswering Your Coronavirus Questions: Vaccines, Elections And Friendship: 0.7020212\n\n'How many people can watch HBO Go at once?': Here's the number of devices you can connect to one account, and how it compares to HBO's competition: 0.7020212\n\nThe King of Staten Island - Exclusive Clip: 0.70196766\n\nThe Best Cord-Cutting Options: Our 2020 Guide to Cable TV Alternatives: 0.7009009\n\nNetflix Announces The Return Of ‘The Umbrella Academy’ With Dance Video Of The Cast: 0.70080453\n\nThe Only Floor Cleaning Tool You'll Ever Need - WebFox: 0.70080453\n\nDigital Content Market to be Driven by Increase in Connected Devices and Significant Demand for Unique Content Platforms till 2028 | Radiant Insights, Inc.: 0.69977176\n\nNext Year’s Academy Awards Ceremony May be Postponed Due to Pandemic – Report: 0.6988559\n\nHend Sabry to star in a new 'female-focused' Arabic drama on Netflix: 0.6985419\n\nJoe Exotic Movie Reportedly In Development: 0.6985419\n\nWhen billboards go viral: 0.6983244\n\nOsaka izakaya woos virus-wary drinkers with face shields: 0.6978948\n\nMichael Jordan defends most controversial quote: 0.6976335\n\nMarketing the Sault to Filmmakers: 0.6962956\n\n‘After Life’ with Ricky Gervais renewed for season 3 at Netflix: 0.6952935\n\nWhy Fantastic Four’s Josh Trank Didn’t Move Forward With His Star Wars Movie: 0.6952935\n\n12 questions about Dead To Me I urgently need answering so I can sleep at night: 0.6932338\n\nThe Wrong Missy Review: Netflix Delivers the Funny, Vulgar, Slapstick Nonsense We Need: 0.6927524\n\nSilent Hill finally gets a long-awaited revival – but it’s not what you think | TechRadar: 0.6920033\n\nFederal judge awards Carole Baskin control over ‘Joe Exotic’s’ former zoo: 0.6909667\n\nWATCH: Netflix Releases New Trailer For Final Season Of ’13 Reasons Why’: 0.68987375\n\nHow Netflix is showing India to the World: 0.6893605\n\nSteve Carell's Netflix Comedy Series Space Force Should've Waited For More Favorable Launch Conditions: 0.68863297\n\nNicolas Cage To Play Joe Exotic In CBS TV Studios Limited Series: 0.68791795\n\nNetflix Previews The Baby-Sitters Club, Selling Sunset, and Betaal: 0.68767655\n\nNetflix Looks to Save Itself from Viacom's Poaching Suit | Hollywood Reporter: 0.68687224\n\n‘Doom Patrol’ season 2 will debut simultaneously on HBO Max and DC Universe in June: 0.6849753\n\n10 Things In Horror Movies That Just Aren't Scary Anymore: 0.68440956\n\nRoku updates its Roku Channel, pushing it further into competition with Netflix, Hulu, and Amazon: 0.68315756\n\n‘The High Note’ Review: A Cute At-Home Date Night Film: 0.68311965\n\nBlood & Water | Season 1 | Official Teaser | Netflix: 0.68269074\n\nGoogle’s 3D animals turn you into a Tiger King at home. Here’s how: 0.6821803\n\nWhat Scientific Decline?: 0.6819192\n\n12 of the best LGBTQ shows you can watch right now on NOW TV: 0.6819192\n\nThe Wolfman Movie to Star Ryan Gosling: 0.6815697\n\nVIDEO: Joshua Turchin's THE EARLY NIGHT SHOW Releases New Episode Today: 0.68031204\n\nMichelle Obama Dealt Sobering Blow by Critics After Netflix Flop: 0.68009347\n\nJoe Exotic's Tiger King Zoo Reopens to Massive Crowds: 0.6794528\n\nThe best movies on Redbox right now: 0.67938095\n\nAnand Gandhi to reunite with 'An Insignificant Man' directors for different projects - The Week: 0.6785658\n\n37 most shocking twists of all time: 0.67799455\n\nFull List of Student Podcast Challenge 2020 Finalists: 0.67799455\n\nWATCH: A Monkey Tried 'Money Heist' in a Delhi ATM And Escaped Without Getting Caught: 0.6763954\n\nWhat blossoms between boys: 0.67620087\n\nJoe Rogan announces podcast move to Spotify; deal worth more than $100 million: 0.67620087\n\nMegaCast 05/20/20 “A Rainbow Came Outta Where?” | KISW: 0.67620087\n\nHow Shah Rukh Khan Helped Shape Netflix's Betaal: 0.67546165\n\nHere’s how two YouTubers pulled off pranking Carole Baskin of ‘Tiger King’: 0.6745361\n\nApple acquires rights to Martin Scorsese's new film: 0.67427456\n\nThe Dragon Prince Season 4: plot, cast, release date and everything you need to know: 0.67421764\n\nDaredevil Season 4 popular series on Netflix 2020: 0.67421764\n\nIMPPA submits list of projects needing urgent resumption of shoot to Maharashtra CM: 0.6739021\n\n9th ‘BNA – Brand New Animal’ Anime Episode Previewed: 0.6739021\n\nBen Platt Unveils Deluxe Edition of Debut Album, SING TO ME INSTEAD: 0.67330045\n\nCan Disney+ Save Disney? Let’s Look Ahead of Earnings: 0.67291427\n\nFormer DreamWorks COO joins Netflix: 0.67291427\n\nMichael Jordan’s ‘The Last Dance’ Is Currently The World’s Most Famous Documentary: 0.67291427\n\nThe Rush To Find Groceries Has Put An Extra Strain On Rural Stores: 0.67291427\n\nThe trailer for Steve Carell's 'Space Force' is out, and we can't look away: 0.67291427\n\nIt's screen-free week: 0.67291427\n\n"
    }
   ],
   "source": [
    "top_sims = identify_similar_articles(title=titles[9], title_list=titles, vsm=w2v_model)"
   ]
  }
 ],
 "metadata": {
  "language_info": {
   "codemirror_mode": {
    "name": "ipython",
    "version": 3
   },
   "file_extension": ".py",
   "mimetype": "text/x-python",
   "name": "python",
   "nbconvert_exporter": "python",
   "pygments_lexer": "ipython3",
   "version": 3
  },
  "orig_nbformat": 2,
  "kernelspec": {
   "name": "python_defaultSpec_1594581860781",
   "display_name": "Python 3.7.6 64-bit ('base': conda)"
  }
 },
 "nbformat": 4,
 "nbformat_minor": 2
}