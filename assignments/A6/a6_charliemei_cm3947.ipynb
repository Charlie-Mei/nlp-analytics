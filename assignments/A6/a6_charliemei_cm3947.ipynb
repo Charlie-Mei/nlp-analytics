{
 "cells": [
  {
   "cell_type": "markdown",
   "metadata": {},
   "source": [
    "## Assignment 6\n",
    "by Charlie Mei cm3947\n",
    "\n",
    "\n",
    "Review Word2Vec project page and download GoogleNews-vectors-negative300.bin.gz (Links to an external site.) pre-trained model to your computer.\n",
    "\n",
    "Write a Python program based on the provided Class Exercise, which:\n",
    "\n",
    "- Loads the downloaded pre-trained Google Word2Vec model from your computer\n",
    "- Loads your previously obtained dataset of Webhose news articles\n",
    "- For any one selected article title from the dataset, finds 100 most similar titles based on Word2Vec similarity, prints those titles in a descending order of similarity scores."
   ]
  },
  {
   "cell_type": "code",
   "execution_count": 1,
   "metadata": {},
   "outputs": [],
   "source": [
    "import nlp_toolkit as ntk\n",
    "import json\n",
    "import gensim, operator\n",
    "from gensim.models import KeyedVectors"
   ]
  },
  {
   "cell_type": "code",
   "execution_count": 2,
   "metadata": {
    "tags": []
   },
   "outputs": [
    {
     "output_type": "stream",
     "name": "stdout",
     "text": "Loading Word2Vec model...\nFinished loading Word2Vec model...\n"
    }
   ],
   "source": [
    "# Load pretrained Google Word2Vec Model\n",
    "w2v_model = ntk.load_wordvec_model('Word2Vec', 'GoogleNews-vectors-negative300.bin.gz', True, 'C:\\\\Github\\\\nlp-analytics\\\\')"
   ]
  },
  {
   "cell_type": "code",
   "execution_count": 4,
   "metadata": {
    "tags": []
   },
   "outputs": [
    {
     "output_type": "stream",
     "name": "stdout",
     "text": "13 Reasons Why: The popular Netflix show's creator teases chance of a hopeful ending\nJudge gives control of 'Tiger King' Joe Exotic's zoo to Carole Baskin\n"
    }
   ],
   "source": [
    "# Load webhose dataset\n",
    "feeds = ntk.parse_json_file('webhose_netflix.json')\n",
    "for feed in feeds[:2]:\n",
    "    print(feed['title'])"
   ]
  },
  {
   "cell_type": "code",
   "execution_count": 13,
   "metadata": {},
   "outputs": [
    {
     "output_type": "execute_result",
     "data": {
      "text/plain": "[\"13 Reasons Why: The popular Netflix show's creator teases chance of a hopeful ending\",\n \"Judge gives control of 'Tiger King' Joe Exotic's zoo to Carole Baskin\",\n \"A TV reboot of Bong Joon-ho's acclaimed film Snowpiercer has landed on Netflix — what's the deal?\"]"
     },
     "metadata": {},
     "execution_count": 13
    }
   ],
   "source": [
    "# Extract just the titles\n",
    "titles = [feed['title'] for feed in feeds]\n",
    "titles[:3]"
   ]
  },
  {
   "cell_type": "code",
   "execution_count": 58,
   "metadata": {},
   "outputs": [],
   "source": [
    "# Create a function that calculates similar articles\n",
    "def identify_similar_articles(title, title_list, vsm, topn=100):\n",
    "    print('Finding similar articles to: \\n' + title + '\\n')\n",
    "    # Remove the test title from title-list\n",
    "    title_list.remove(title)\n",
    "    vec_sims = []\n",
    "    # Calculate similarities and skip over errors\n",
    "    for feed in title_list:\n",
    "        try:\n",
    "            vec_sims.append(ntk.calc_similarity(title, feed, vsm))\n",
    "        except:\n",
    "            title_list.remove(feed)\n",
    "            continue\n",
    "    \n",
    "    # Create a dictionary representation of feed title and similarity score\n",
    "    similarity_dict = dict(zip(title_list, vec_sims))\n",
    "    # Sort the dictionary in descending order\n",
    "    sorted_sims = {k: v for k, v in sorted(similarity_dict.items(), key=lambda item: item[1], reverse=True)}\n",
    "    # Return top n keys i.e. titles\n",
    "    titles = [title for title in sorted_sims.keys()]\n",
    "    # and their similarities\n",
    "    sims = [sim for sim in sorted_sims.values()]\n",
    "\n",
    "    top_sims = dict(zip(titles[1:topn+1], sims[1:topn+1]))\n",
    "\n",
    "    print('Here are the top ' + str(topn) + ' most similar articles... \\n')\n",
    "    for title in top_sims.keys():\n",
    "        print('\\t' + title + \": \" + str(top_sims[title]) + '\\n')\n",
    "\n",
    "    # Return top n similarities in dictionary\n",
    "    return top_sims"
   ]
  },
  {
   "cell_type": "code",
   "execution_count": 61,
   "metadata": {
    "tags": []
   },
   "outputs": [
    {
     "output_type": "stream",
     "name": "stdout",
     "text": "Finding similar articles to: \nNew: The 'Netflix for Jews'\n\nHere are the top 100 most similar articles... \n\n\tReview: The Willoughbys: 0.76631606\n\n\t8: The Willoughbys Spoiler!!!: 0.76631606\n\n\tThe Reader's stay-at-home chronicles: day 70: 0.75200534\n\n\tReview: The Half of It: 0.72341526\n\n\tMakin’ It Work: The Lark: 0.72036564\n\n\tLast Kingdom: How accurate is The Last Kingdom?: 0.6984327\n\n\t‘Avatar: The Last Airbender,’ A 15 Year-Old Cartoon, Is Now Netflix’s Most Popular Show: 0.6693507\n\n\tThe Half of It – Review: 0.666419\n\n\tThe Last Showing: 0.6621617\n\n\t'Avatar: The Last Airbender' on Netflix: Why a 2005 cartoon is so popular: 0.66123927\n\n\tAvatar: The Last Airbender is back on Netflix, but don’t start with the first episode: 0.6490926\n\n\tReview: The Lovebirds Are Anything But In This Slight Rom-Com: 0.6483616\n\n\tThe Director's Cut: Jody Wisternoff - Nightwhisper: 0.6461748\n\n\tThe Last Kingdom: Who plays Finan in The Last Kingdom?: 0.64197326\n\n\tFilm Review: The Half of It: 0.6416532\n\n\t‘Avatar: The Last Airbender’: 8 Facts That May Surprise You: 0.6398533\n\n\tThe (Jewish) world is flat(tening): 0.6324076\n\n\tOne Challenge With Working For Netflix, According To The Eddy’s Damien Chazelle: 0.6317805\n\n\tThe Half of It, now streaming on Netflix, is a warm-hearted treat for all ages: 0.629622\n\n\t‘Avatar: The Last Airbender’: 8 Facts That May Surprise You - news: 0.62774396\n\n\tThe 7 Best Soundbars for Every Budget (2020): 0.6252854\n\n\tThis Is The Way: Watch the Star Wars saga, plus behind-the-scenes content from 'The Mandalorian': 0.62322146\n\n\tFor All Its Flaws, Netflix’s The Lovebirds Is Still a Lively Romp Through the Heart of New Orleans: 0.6215776\n\n\tThe Shots: Ehlo, Russell playing a role in 'The Last Dance': 0.61563873\n\n\tThe Shots: Ehlo, Russell playing a role in ‘The Last Dance’: 0.61563873\n\n\tNation That Revolted Over Three-Pence Tax On Tea Now ‘Pretty Cool’ With Government Locking Everyone In Their Homes: 0.6134394\n\n\tWhy ‘The Library’ is the defining episode of Avatar: The Last Airbender: 0.61259854\n\n\t‘Avatar: The Last Air Bender’ is now available on Netflix: 0.6124754\n\n\tWho is in the cast of The Woods on Netflix?: 0.60602194\n\n\tDuring Lockdown, Magician Turns To The Internet For His Next Performance: 0.60400295\n\n\tWhat time is The Eddy released on Netflix? When La La Land director's musical series arrives: 0.6025394\n\n\tHere's The First Trailer For “Space Force”: 0.60083187\n\n\tWhen is Damien Chazelle’s The Eddy released on Netflix and what’s it about?: 0.5989725\n\n\tNew poster for The Last Days of American Crime: 0.59874505\n\n\tThe Last Dance is spectacular but leaves the real Michael Jordan up in the air: 0.5979356\n\n\tMichelle Obama Describes Having Children As A ‘Concession’ That Cost Her Her ‘Dreams’: 0.59784776\n\n\tWhen is The Woods release date and what’s the Netflix series about?: 0.59649\n\n\tGreat Home Entertainment Options For Making It Through The Quarantine: 0.5952705\n\n\tThere Is A Website That Has All The Sounds From Disneyland And It’s My New Favorite Thing: 0.59407854\n\n\tNow is The Perfect Time to Watch Avatar: The Last Airbender: 0.5931659\n\n\tTime For A Change?: 0.59226\n\n\tMichael Jordan kids: Why Michael Jordan's kids aren't in The Last Dance.: 0.5919017\n\n\tAfter Life season 3 release date, cast: When is the new series out?: 0.59042627\n\n\tThe Lovebirds earns points for its stars, if not its story: 0.5897095\n\n\tAvatar: The Last Airbender Fans are Celebrating the Best Moments Now that it's on Netflix: 0.5882821\n\n\tAfter watching 'Avatar: The Last Airbender' on Netflix, follow it up with must-watch sequel series 'The Legend of Korra',: 0.5878347\n\n\tAfter watching 'Avatar: The Last Airbender' on Netflix, follow it up with must-watch sequel series 'The Legend of Korra': 0.5878347\n\n\tThe Top 5 New Subscription Services We’re Now Using: 0.58731806\n\n\t‘Kenny Sebastian: The Most Interesting Person In The Room’ Review: Hint, It’s Not Him!: 0.5851162\n\n\tThese Are Avatar: The Last Airbender's Most Heartbreaking Moments: 0.5849227\n\n\tWhen is Sex Education season 3 released on Netflix? Catch The All Updates: 0.58332574\n\n\tBoman Irani Had Proposed His Wife, Zenobia Irani On Their First Date And This Is How She Had Reacted: 0.58296156\n\n\tThe cast of 'Community' reunites for charity today: 0.58185375\n\n\tThe cast of ‘Community’ reunites for charity today: 0.58185375\n\n\tMovie Review: 'The Last Dance' is The Perfect Series for Sports Fans: 0.5812774\n\n\tCheck out ‘Avatar: The Last Airbender’ Which Was Recently Added to Netflix: 0.5809092\n\n\tDee Rees reflects on The Last Thing He Wanted misfire: 0.5806443\n\n\tNetflix’s Betaal May Be A Little Haywire, But The Women In Betaal Truly Impress: 0.5805965\n\n\tThe 5 most anticipated TV shows returning in June are all on Netflix [ARTICLE] | Last Paragon: 0.58017504\n\n\tThe top 5 TV shows returning in May, from 'Homecoming' to 'Dead to Me',: 0.57968783\n\n\tThe top 5 TV shows returning in May, from 'Homecoming' to 'Dead to Me': 0.57968783\n\n\t'LADbible’s The Gap Is Back For A Second Season: 0.57921827\n\n\t‘The Last Dance’ Docuseries Scores On Netflix Outside The U.S.: 0.5790811\n\n\tThe Classic British Boxsets To Binge For Free While Stuck At Home: 0.5790112\n\n\tThe Last Word: Armstrong reflects on being Jordan's teammate: 0.5785911\n\n\tNetflix’s The Half of It Is The Definitive Feel-Good Tragedy Of Our Times: 0.57843065\n\n\tThe Last Kingdom season 3 ending explained: What happened in episode 10?: 0.577039\n\n\t5 things to know about Leah Lewis, Chinese-American star of Netflix’s The Half of It: 0.57655287\n\n\t‘Ozark’ Is The Most Streamed Show For People Starting A New Series During The Coronavirus Pandemic: 0.5762814\n\n\tAfter Netflix's COVID-19 Subscriber Boost, Is There More Upside For The Stock? | Investing.com CA: 0.57612306\n\n\t[VIDEO] The First Trailer For Steve Carell’s “Space Force” Is Here: 0.5758649\n\n\tA New Netflix Show Has Unseated ‘Avatar: The Last Airbender’ For The #1 Spot: 0.5735404\n\n\tAfter Michael Jordan's The Last Dance: 7 Other Great Sports Stories To Watch: 0.5720346\n\n\tSong Kang Mesmerizes With His Spring-like Beauty In The Star’s May 2020 Issue: 0.57141894\n\n\tInside 'Oh, Hello: The P'dcast' With Gil Faizon And George St. Geegland: 0.5713288\n\n\tThe First Official Trailer For Netflix’s ‘Space Force’ Is Here: 0.57110864\n\n\tThe best broadband deals for May: 0.56916046\n\n\t'Avatar: The Last Airbender' Was The Most-Watched Show On Netflix This Week: 0.56882834\n\n\tPopcorn with Zenger: No One to Root For in ‘All Day and a Night’: 0.5682227\n\n\tWayne’s 4×2 – The Outsider, Ozark and More: 0.56810856\n\n\tThe 19 best sci-fi shows of all time, according to fans: 0.56798846\n\n\tWatch the trailer for The King of Staten Island!: 0.56751895\n\n\tThe power of one: Briggs is a man in demand: 0.5672741\n\n\tPandemic Dogs Are A Thing, And I’m Here For It, With One Caution: 0.5669826\n\n\tMy Progress Watching The Walking Dead for the First Time Part 3: 0.5651083\n\n\t'Tokyo Godfathers' Is A Touching, Streetwise Riff On The 3 Wise Men: 0.5642694\n\n\tNetflix: Over 100 One Pieceepisodes announced, but there is a hook | series: 0.56348956\n\n\tThe world is too bleak right now for another season of 'Black Mirror' | Channel24: 0.56338406\n\n\tNetflix Is Removing These Titles In June 2020 - See The Full List!: 0.5633309\n\n\tSeeing The ‘Storage Almost Full’ Message On Your iPhone Or iPad? Here Are Some Tips.: 0.56251967\n\n\tThe End of the F***Ing World: 0.562416\n\n\tExtraction 2 Is Already In The Works At Netflix: 0.5623713\n\n\tThis Is The New Xiaomi Mi TV Stick: 0.5620656\n\n\tHere's the first trailer for Space Force, Netflix's successor to The Office: 0.5619263\n\n\tAndre Holland (‘The Eddy’): It was ‘scary’ to act in French for the first time [EXCLUSIVE VIDEO INTERVIEW]: 0.56180465\n\n\tThe Ending of Netflix's 'Dangerous Lies' Explained, for Morons (Plus, Some Movie Website Inside Baseball): 0.5598966\n\n\tThe Half Of It Star Daniel Diemer Will Try Anything Once: 0.5595634\n\n\tMichael-Jordan-documentary The Last Dance - Under the basket forever king: 0.5592818\n\n\tThe Best New TV Series That Arrived On Netflix This Week: 0.55926037\n\n\tReese Witherspoon Set To Star In Two New Netflix Rom-Coms So Prep The Wine And Popcorn: 0.55921584\n\n"
    }
   ],
   "source": [
    "top_sims = identify_similar_articles(titles[5], titles, w2v_model)"
   ]
  },
  {
   "cell_type": "markdown",
   "metadata": {},
   "source": [
    "Write a Pyspark program based on the other provided Class Exercise, which:\n",
    "\n",
    "- Loads your previously obtained dataset of Webhose news articles into a Spark dataframe\n",
    "- Cleans up and tokenizes article bodies using the RegexTokenizer and Stopword remover functions provided in the Class Exercise\n",
    "- Trains a Word2Vec model based on the output column produced in step 2\n",
    "- Implements any sample search query, as shown in Class Exercise, and produces matching article titles"
   ]
  },
  {
   "cell_type": "code",
   "execution_count": null,
   "metadata": {},
   "outputs": [],
   "source": []
  }
 ],
 "metadata": {
  "language_info": {
   "codemirror_mode": {
    "name": "ipython",
    "version": 3
   },
   "file_extension": ".py",
   "mimetype": "text/x-python",
   "name": "python",
   "nbconvert_exporter": "python",
   "pygments_lexer": "ipython3",
   "version": 3
  },
  "orig_nbformat": 2,
  "kernelspec": {
   "name": "python_defaultSpec_1594511543940",
   "display_name": "Python 3.7.6 64-bit ('base': conda)"
  }
 },
 "nbformat": 4,
 "nbformat_minor": 2
}