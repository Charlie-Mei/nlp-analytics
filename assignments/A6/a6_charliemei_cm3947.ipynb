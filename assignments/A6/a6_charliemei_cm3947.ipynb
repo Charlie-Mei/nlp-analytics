{
 "cells": [
  {
   "cell_type": "markdown",
   "metadata": {},
   "source": [
    "## Assignment 6\n",
    "by Charlie Mei cm3947\n",
    "\n",
    "\n",
    "Review Word2Vec project page and download GoogleNews-vectors-negative300.bin.gz (Links to an external site.) pre-trained model to your computer.\n",
    "\n",
    "Write a Python program based on the provided Class Exercise, which:\n",
    "\n",
    "- Loads the downloaded pre-trained Google Word2Vec model from your computer\n",
    "- Loads your previously obtained dataset of Webhose news articles\n",
    "- For any one selected article title from the dataset, finds 100 most similar titles based on Word2Vec similarity, prints those titles in a descending order of similarity scores."
   ]
  },
  {
   "cell_type": "code",
   "execution_count": 1,
   "metadata": {},
   "outputs": [],
   "source": [
    "import nlp_toolkit"
   ]
  },
  {
   "cell_type": "markdown",
   "metadata": {},
   "source": [
    "Write a Pyspark program based on the other provided Class Exercise, which:\n",
    "\n",
    "- Loads your previously obtained dataset of Webhose news articles into a Spark dataframe\n",
    "- Cleans up and tokenizes article bodies using the RegexTokenizer and Stopword remover functions provided in the Class Exercise\n",
    "- Trains a Word2Vec model based on the output column produced in step 2\n",
    "- Implements any sample search query, as shown in Class Exercise, and produces matching article titles"
   ]
  },
  {
   "cell_type": "code",
   "execution_count": null,
   "metadata": {},
   "outputs": [],
   "source": []
  }
 ],
 "metadata": {
  "language_info": {
   "codemirror_mode": {
    "name": "ipython",
    "version": 3
   },
   "file_extension": ".py",
   "mimetype": "text/x-python",
   "name": "python",
   "nbconvert_exporter": "python",
   "pygments_lexer": "ipython3",
   "version": 3
  },
  "orig_nbformat": 2,
  "kernelspec": {
   "name": "python_defaultSpec_1594496134974",
   "display_name": "Python 3.7.6 64-bit ('base': conda)"
  }
 },
 "nbformat": 4,
 "nbformat_minor": 2
}