{
 "cells": [
  {
   "cell_type": "markdown",
   "metadata": {},
   "source": [
    "## Assignment 3\n",
    "by Charlie Mei cm3947"
   ]
  },
  {
   "cell_type": "code",
   "execution_count": 20,
   "metadata": {},
   "outputs": [],
   "source": [
    "from urllib import request\n",
    "from bs4 import BeautifulSoup\n",
    "from bs4.element import Comment\n",
    "import re\n",
    "from nltk import sent_tokenize, word_tokenize, WordNetLemmatizer, PorterStemmer, ngrams, pos_tag\n",
    "from nltk.corpus import stopwords\n",
    "from collections import Counter"
   ]
  },
  {
   "cell_type": "markdown",
   "metadata": {},
   "source": [
    "### 1. Use urllib or requests package to read this CNBC article"
   ]
  },
  {
   "cell_type": "code",
   "execution_count": 2,
   "metadata": {
    "tags": []
   },
   "outputs": [
    {
     "output_type": "stream",
     "name": "stdout",
     "text": "b'<!DOCTYPE html><html lang=\"en\" prefix=\"og=https://ogp.me/ns#\" itemType=\"https://schema.org/WebPage\">'\n"
    }
   ],
   "source": [
    "url = 'https://www.cnbc.com/2019/01/17/netflix-price-hike-helps-disney-upcoming-streaming-service-analyst.html'\n",
    "\n",
    "html = request.urlopen(url).read()\n",
    "print(html[:100])"
   ]
  },
  {
   "cell_type": "markdown",
   "metadata": {},
   "source": [
    "2. Use BeautifulSoup or another HTML parsing package to extract text from the article."
   ]
  },
  {
   "cell_type": "code",
   "execution_count": 3,
   "metadata": {
    "tags": []
   },
   "outputs": [],
   "source": [
    "soup = BeautifulSoup(html, 'html.parser')\n",
    "# Find all instances of text data\n",
    "data = soup.findAll(text=True)"
   ]
  },
  {
   "cell_type": "code",
   "execution_count": 4,
   "metadata": {},
   "outputs": [],
   "source": [
    "# Extract all text from the url, using code provided by lecturer in class 3 exercise\n",
    "def tag_visible(element):\n",
    "    if element.parent.name in ['style', 'script', 'head', 'title', 'meta', '[document]', 'Comment']:\n",
    "        return False\n",
    "    if isinstance(element, Comment):\n",
    "        return False\n",
    "    return True\n",
    "\n",
    "\n",
    "def text_from_html(body):\n",
    "    soup = BeautifulSoup(body, 'html.parser')\n",
    "    texts = soup.findAll(text=True)\n",
    "    visible_texts = filter(tag_visible, texts)  \n",
    "    return u\" \".join(t.strip() for t in visible_texts)"
   ]
  },
  {
   "cell_type": "code",
   "execution_count": 5,
   "metadata": {},
   "outputs": [],
   "source": [
    "text = text_from_html(html)"
   ]
  },
  {
   "cell_type": "markdown",
   "metadata": {},
   "source": [
    "### 3. Use re (regular expression) package to:\n",
    "- Find all matches of $ amounts in the article\n",
    "- Substitute all numbers with # character and print the output\n",
    "- Count (using regular expressions) ”Netflix” and “Disney” mentions "
   ]
  },
  {
   "cell_type": "markdown",
   "metadata": {},
   "source": [
    "#### Find all matches of $ amounts in the article"
   ]
  },
  {
   "cell_type": "code",
   "execution_count": 6,
   "metadata": {},
   "outputs": [
    {
     "output_type": "execute_result",
     "data": {
      "text/plain": "[3577, 3619]"
     },
     "metadata": {},
     "execution_count": 6
    }
   ],
   "source": [
    "matcher = re.finditer(r\"\\$\", text)\n",
    "\n",
    "matches = []\n",
    "for match in matcher:\n",
    "    matches.append(match.start())\n",
    "matches\n"
   ]
  },
  {
   "cell_type": "markdown",
   "metadata": {},
   "source": [
    "#### Substitute all numbers with # character and print the output"
   ]
  },
  {
   "cell_type": "code",
   "execution_count": 7,
   "metadata": {
    "tags": []
   },
   "outputs": [
    {
     "output_type": "stream",
     "name": "stdout",
     "text": "[605, 606, 607, 608, 1290, 1291, 1292, 1293, 1491, 1492, 1571, 1572, 1574, 1575, 1576, 1577, 1579, 1581, 1582, 1608, 1609, 1611, 1612, 1613, 1614, 1616, 1618, 1619, 1969, 1971, 1972, 1974, 1975, 1977, 1978, 2026, 2027, 2571, 2573, 2833, 2834, 2948, 2950, 2951, 2953, 2954, 2956, 2957, 3104, 3105, 3119, 3120, 3529, 3578, 3579, 3580, 3620, 3621, 3622, 3654, 3655, 3821, 3822, 3841, 3842, 4313, 4314, 4315, 4316, 4414, 4415, 4416, 4417, 4569, 4570, 4571, 4572, 5815, 5816, 5817, 5818, 5934, 5935]\n"
    }
   ],
   "source": [
    "pattern = \"[0-9]\"\n",
    "matcher = re.finditer(pattern, text)\n",
    "\n",
    "# Find all occurrences of numbers\n",
    "matches = []\n",
    "for match in matcher:\n",
    "    matches.append(match.start())\n",
    "print(matches)"
   ]
  },
  {
   "cell_type": "code",
   "execution_count": 8,
   "metadata": {},
   "outputs": [
    {
     "output_type": "execute_result",
     "data": {
      "text/plain": "'× LOG IN SIGN UP Keep Me Logged In Skip Navigation SIGN IN Pro Watchlist Make It Select USA INTL Markets Pre-Markets U.S. Markets Currencies Cryptocurrency Futures & Commodities Bonds Funds & ETFs Watchlist Business Economy Finance Health & Science Media Real Estate Energy Transportation Industrials Retail Wealth Small Business Investing Invest In You Personal Finance Financial Advisors Trading Nation Options Action ETF Street Buffett Archive Earnings Trader Talk Tech Cybersecurity Enterprise Internet Media Mobile Social Media Venture Capital Tech Guide Politics White House Policy Defense Congress #### Elections CNBC TV Live TV Live Audio Latest Video Top Video CEO Interviews Business Day Shows Primetime Shows CNBC World Digital Originals Full Episodes Menu SEARCH QUOTES Markets Pre-Markets U.S. Markets Currencies Cryptocurrency Futures & Commodities Bonds Funds & ETFs Watchlist Business Economy Finance Health & Science Media Real Estate Energy Transportation Industrials Retail Wealth '"
     },
     "metadata": {},
     "execution_count": 8
    }
   ],
   "source": [
    "# Replace all numbers with #\n",
    "\n",
    "# Turn text into temporary list\n",
    "temp = list(text)\n",
    "\n",
    "# Replace each match to a number with #\n",
    "for position in matches:\n",
    "    temp[position] = '#'\n",
    "    text = \"\".join(temp)\n",
    "\n",
    "text[:1000]"
   ]
  },
  {
   "cell_type": "markdown",
   "metadata": {},
   "source": [
    "#### Count (using regular expressions) \"Netflix\" and \"Disney\" mentions"
   ]
  },
  {
   "cell_type": "code",
   "execution_count": 9,
   "metadata": {
    "tags": []
   },
   "outputs": [
    {
     "output_type": "stream",
     "name": "stdout",
     "text": "There are 13 mentions of Netflix.\n"
    }
   ],
   "source": [
    "pattern = \"Netflix\"\n",
    "matcher = re.finditer(pattern, text)\n",
    "# Find all occurrences of numbers\n",
    "matches = []\n",
    "for match in matcher:\n",
    "    matches.append(match.start())\n",
    "print(\"There are \" + str(len(matches)) + \" mentions of Netflix.\")\n"
   ]
  },
  {
   "cell_type": "code",
   "execution_count": 10,
   "metadata": {
    "tags": []
   },
   "outputs": [
    {
     "output_type": "stream",
     "name": "stdout",
     "text": "There are 7 mentions of Disney.\n"
    }
   ],
   "source": [
    "pattern = \"Disney\"\n",
    "matcher = re.finditer(pattern, text)\n",
    "# Find all occurrences of numbers\n",
    "matches = []\n",
    "for match in matcher:\n",
    "    matches.append(match.start())\n",
    "print(\"There are \" + str(len(matches)) + \" mentions of Disney.\")"
   ]
  },
  {
   "cell_type": "markdown",
   "metadata": {},
   "source": [
    "### 4. Use NTLK and/or Spacy (Links to an external site.) tokenization features to:\n",
    "- Tokenize sentences and words\n",
    "- Remove all English stop words\n",
    "- List and count n-grams for any given input n\n",
    "- Lemmatize and deduplicate unigrams into a vocabulary of terms.\n",
    "- Print bigrams and trigrams in the first 5 sentences\n",
    "- Print POS tags in the first 5 sentences"
   ]
  },
  {
   "cell_type": "markdown",
   "metadata": {},
   "source": [
    "#### Tokenize sentences and words"
   ]
  },
  {
   "cell_type": "code",
   "execution_count": 11,
   "metadata": {
    "tags": []
   },
   "outputs": [
    {
     "output_type": "stream",
     "name": "stdout",
     "text": "× LOG IN SIGN UP Keep Me Logged In Skip Navigation SIGN IN Pro Watchlist Make It Select USA INTL Markets Pre-Markets U.S. Markets Currencies Cryptocurrency Futures & Commodities Bonds Funds & ETFs Watchlist Business Economy Finance Health & Science Media Real Estate Energy Transportation Industrials Retail Wealth Small Business Investing Invest In You Personal Finance Financial Advisors Trading Nation Options Action ETF Street Buffett Archive Earnings Trader Talk Tech Cybersecurity Enterprise Internet Media Mobile Social Media Venture Capital Tech Guide Politics White House Policy Defense Congress #### Elections CNBC TV Live TV Live Audio Latest Video Top Video CEO Interviews Business Day Shows Primetime Shows CNBC World Digital Originals Full Episodes Menu SEARCH QUOTES Markets Pre-Markets U.S. Markets Currencies Cryptocurrency Futures & Commodities Bonds Funds & ETFs Watchlist Business Economy Finance Health & Science Media Real Estate Energy Transportation Industrials Retail Wealth Small Business Investing Invest In You Personal Finance Financial Advisors Trading Nation Options Action ETF Street Buffett Archive Earnings Trader Talk Tech Cybersecurity Enterprise Internet Media Mobile Social Media Venture Capital Tech Guide Politics White House Policy Defense Congress #### Elections CNBC TV Live TV Live Audio Latest Video Top Video CEO Interviews Business Day Shows Primetime Shows CNBC World Digital Originals Full Episodes Menu Tech Netflix's price hike is a 'Catch-##'  that actually helps Disney's upcoming streaming service Published Thu, Jan ## #### #:## PM EST Updated Thu, Jan ## #### #:## PM EST Tyler Clifford @_TylerTheTyler_ Key Points Netflix subscription price hike is a \"key dilemma\" that makes future competitors like Disney more viable, New Constructs CEO David Trainer says.\n\nHowever, Aegis Capital's Victory Anthony sees the Netflix price increase as extra money to invest in more original content or pad the bottom line.\n\nVIDEO #:## ##:## Netflix's decision to raise prices is a Catch-##, says New Constructs' David Trainer Closing Bell Disney will have a competitive advantage over Netflix when the entertainment conglomerate launches a competing video streaming platform later this year, according to Wall Street analyst David Trainer.\n\n\"[Disney's] got the ability to merchandise, which is another way to monetize content in a way that Netflix does not have,\" Trainer said on CNBC's \"Closing Bell\" Wednesday.\n\nHe's chief of the New Constructs research firm.\n\n"
    }
   ],
   "source": [
    "sentences = sent_tokenize(text)\n",
    "for sentence in sentences[:5]:\n",
    "    print(sentence + '\\n')"
   ]
  },
  {
   "cell_type": "code",
   "execution_count": 13,
   "metadata": {
    "tags": []
   },
   "outputs": [
    {
     "output_type": "stream",
     "name": "stdout",
     "text": "×\nLOG\nIN\nSIGN\nUP\nKeep\nMe\nLogged\nIn\nSkip\nNavigation\nSIGN\nIN\nPro\nWatchlist\nMake\nIt\nSelect\nUSA\nINTL\n"
    }
   ],
   "source": [
    "words = word_tokenize(text)\n",
    "for word in words[:20]:\n",
    "    print(word)"
   ]
  },
  {
   "cell_type": "markdown",
   "metadata": {},
   "source": [
    "#### Remove all English stopwords"
   ]
  },
  {
   "cell_type": "code",
   "execution_count": 18,
   "metadata": {},
   "outputs": [
    {
     "output_type": "execute_result",
     "data": {
      "text/plain": "234"
     },
     "metadata": {},
     "execution_count": 18
    }
   ],
   "source": [
    "# Create a set of stopwords\n",
    "stop_words = set(stopwords.words('english'))\n",
    "\n",
    "# Remove stopwords\n",
    "filtered_words = [word for word in words if not word in stop_words]\n",
    "\n",
    "# How many stopwords removed in the text?\n",
    "len(words) - len(filtered_words)"
   ]
  },
  {
   "cell_type": "markdown",
   "metadata": {},
   "source": [
    "#### List and count n-grams for any given input n"
   ]
  },
  {
   "cell_type": "code",
   "execution_count": 56,
   "metadata": {},
   "outputs": [],
   "source": [
    "# Define a function that lists and counts n-grams for any n\n",
    "def ngram_count(tokens, n):\n",
    "    n_grams = ngrams(tokens, n)\n",
    "    # List of n_grams to be dictionary keys\n",
    "    n_grams_list = [' '.join(grams) for grams in n_grams]\n",
    "\n",
    "    # Now create a frequency count dictionary\n",
    "    freq_count = {}\n",
    "    for gram in n_grams_list:\n",
    "        if gram in freq_count:\n",
    "            freq_count[gram] += 1\n",
    "        else:\n",
    "            freq_count[gram] = 1\n",
    "    return(freq_count)\n"
   ]
  },
  {
   "cell_type": "markdown",
   "metadata": {},
   "source": [
    "#### Lemmatize and deduplicate unigrams into a vocabulary of terms"
   ]
  },
  {
   "cell_type": "code",
   "execution_count": 86,
   "metadata": {
    "tags": []
   },
   "outputs": [
    {
     "output_type": "stream",
     "name": "stdout",
     "text": "['subscribers', 'generate', 'revenue', 'business', 'model', 'look', 'fundamentals', 'really', \"n't\", 'work', 'alleged', 'Snap', \"'take\", 'check', 'anyone', 'comes', 'knocking', 'expert', 'Squawk', 'Alley', 'ranges', 'positive', 'view', 'generally', 'shared', 'investment', 'community', 'profit', 'either', 'use', 'let', 'drop', 'Thursday', 'put', 'hold', 'Neflix', 'current', 'levels', 'higher', 'target', '$', 'trading', 'steady', 'around', 'midday', 'since', 'Christmas', 'Eve', 'washout', 'releases']\n['subscriber', 'generate', 'revenue', 'business', 'model', 'look', 'fundamental', 'really', \"n't\", 'work', 'alleged', 'Snap', \"'take\", 'check', 'anyone', 'come', 'knocking', 'expert', 'Squawk', 'Alley', 'range', 'positive', 'view', 'generally', 'shared', 'investment', 'community', 'profit', 'either', 'use', 'let', 'drop', 'Thursday', 'put', 'hold', 'Neflix', 'current', 'level', 'higher', 'target', '$', 'trading', 'steady', 'around', 'midday', 'since', 'Christmas', 'Eve', 'washout', 'release']\n"
    }
   ],
   "source": [
    "unigram_terms = list(ngram_count(filtered_words, 1).keys())\n",
    "\n",
    "# Lemmatize the unigrams\n",
    "unigram_vocab = []\n",
    "\n",
    "# Define a lemmatizer\n",
    "lemmatizer = WordNetLemmatizer()\n",
    "\n",
    "for term in unigram_terms:\n",
    "    unigram_vocab.append(lemmatizer.lemmatize(term))\n",
    "\n",
    "print(unigram_terms[200:250])\n",
    "print(unigram_vocab[200:250])"
   ]
  },
  {
   "cell_type": "markdown",
   "metadata": {},
   "source": [
    "#### Print bigrams and trigrams in the first 5 sentences"
   ]
  },
  {
   "cell_type": "code",
   "execution_count": 89,
   "metadata": {
    "tags": []
   },
   "outputs": [
    {
     "output_type": "stream",
     "name": "stdout",
     "text": "× LOG IN SIGN UP Keep Me Logged In Skip Navigation SIGN IN Pro Watchlist Make It Select USA INTL Markets Pre-Markets U.S. Markets Currencies Cryptocurrency Futures & Commodities Bonds Funds & ETFs Watchlist Business Economy Finance Health & Science Media Real Estate Energy Transportation Industrials Retail Wealth Small Business Investing Invest In You Personal Finance Financial Advisors Trading Nation Options Action ETF Street Buffett Archive Earnings Trader Talk Tech Cybersecurity Enterprise Internet Media Mobile Social Media Venture Capital Tech Guide Politics White House Policy Defense Congress #### Elections CNBC TV Live TV Live Audio Latest Video Top Video CEO Interviews Business Day Shows Primetime Shows CNBC World Digital Originals Full Episodes Menu SEARCH QUOTES Markets Pre-Markets U.S. Markets Currencies Cryptocurrency Futures & Commodities Bonds Funds & ETFs Watchlist Business Economy Finance Health & Science Media Real Estate Energy Transportation Industrials Retail Wealth Small Business Investing Invest In You Personal Finance Financial Advisors Trading Nation Options Action ETF Street Buffett Archive Earnings Trader Talk Tech Cybersecurity Enterprise Internet Media Mobile Social Media Venture Capital Tech Guide Politics White House Policy Defense Congress #### Elections CNBC TV Live TV Live Audio Latest Video Top Video CEO Interviews Business Day Shows Primetime Shows CNBC World Digital Originals Full Episodes Menu Tech Netflix's price hike is a 'Catch-##'  that actually helps Disney's upcoming streaming service Published Thu, Jan ## #### #:## PM EST Updated Thu, Jan ## #### #:## PM EST Tyler Clifford @_TylerTheTyler_ Key Points Netflix subscription price hike is a \"key dilemma\" that makes future competitors like Disney more viable, New Constructs CEO David Trainer says.\n\nHowever, Aegis Capital's Victory Anthony sees the Netflix price increase as extra money to invest in more original content or pad the bottom line.\n\nVIDEO #:## ##:## Netflix's decision to raise prices is a Catch-##, says New Constructs' David Trainer Closing Bell Disney will have a competitive advantage over Netflix when the entertainment conglomerate launches a competing video streaming platform later this year, according to Wall Street analyst David Trainer.\n\n\"[Disney's] got the ability to merchandise, which is another way to monetize content in a way that Netflix does not have,\" Trainer said on CNBC's \"Closing Bell\" Wednesday.\n\nHe's chief of the New Constructs research firm.\n\n"
    }
   ],
   "source": [
    "# Save the first five sentences\n",
    "sentences_5 = []\n",
    "for sentence in sentences[:5]:\n",
    "    sentences_5.append(sentence)\n",
    "    print(sentence + '\\n')"
   ]
  },
  {
   "cell_type": "code",
   "execution_count": 90,
   "metadata": {},
   "outputs": [],
   "source": [
    "def return_grams(sentence, n):\n",
    "    # First word tokenize the sentence\n",
    "    words = word_tokenize(sentence)\n",
    "    # Parse through to previously created ngra_count function to extract ngrams and counts\n",
    "    freq_counts = ngram_count(words, n)\n",
    "    # Return just the ngrams\n",
    "    return(list(freq_counts.keys()))"
   ]
  },
  {
   "cell_type": "code",
   "execution_count": 99,
   "metadata": {
    "tags": []
   },
   "outputs": [
    {
     "output_type": "stream",
     "name": "stdout",
     "text": "Sentence 1 bigrams and trigrams: \n['× LOG', 'LOG IN', 'IN SIGN', 'SIGN UP', 'UP Keep', 'Keep Me', 'Me Logged', 'Logged In', 'In Skip', 'Skip Navigation', 'Navigation SIGN', 'SIGN IN', 'IN Pro', 'Pro Watchlist', 'Watchlist Make', 'Make It', 'It Select', 'Select USA', 'USA INTL', 'INTL Markets', 'Markets Pre-Markets', 'Pre-Markets U.S.', 'U.S. Markets', 'Markets Currencies', 'Currencies Cryptocurrency', 'Cryptocurrency Futures', 'Futures &', '& Commodities', 'Commodities Bonds', 'Bonds Funds', 'Funds &', '& ETFs', 'ETFs Watchlist', 'Watchlist Business', 'Business Economy', 'Economy Finance', 'Finance Health', 'Health &', '& Science', 'Science Media', 'Media Real', 'Real Estate', 'Estate Energy', 'Energy Transportation', 'Transportation Industrials', 'Industrials Retail', 'Retail Wealth', 'Wealth Small', 'Small Business', 'Business Investing', 'Investing Invest', 'Invest In', 'In You', 'You Personal', 'Personal Finance', 'Finance Financial', 'Financial Advisors', 'Advisors Trading', 'Trading Nation', 'Nation Options', 'Options Action', 'Action ETF', 'ETF Street', 'Street Buffett', 'Buffett Archive', 'Archive Earnings', 'Earnings Trader', 'Trader Talk', 'Talk Tech', 'Tech Cybersecurity', 'Cybersecurity Enterprise', 'Enterprise Internet', 'Internet Media', 'Media Mobile', 'Mobile Social', 'Social Media', 'Media Venture', 'Venture Capital', 'Capital Tech', 'Tech Guide', 'Guide Politics', 'Politics White', 'White House', 'House Policy', 'Policy Defense', 'Defense Congress', 'Congress #', '# #', '# Elections', 'Elections CNBC', 'CNBC TV', 'TV Live', 'Live TV', 'Live Audio', 'Audio Latest', 'Latest Video', 'Video Top', 'Top Video', 'Video CEO', 'CEO Interviews', 'Interviews Business', 'Business Day', 'Day Shows', 'Shows Primetime', 'Primetime Shows', 'Shows CNBC', 'CNBC World', 'World Digital', 'Digital Originals', 'Originals Full', 'Full Episodes', 'Episodes Menu', 'Menu SEARCH', 'SEARCH QUOTES', 'QUOTES Markets', 'Menu Tech', 'Tech Netflix', \"Netflix 's\", \"'s price\", 'price hike', 'hike is', 'is a', \"a 'Catch-\", \"'Catch- #\", \"# '\", \"' that\", 'that actually', 'actually helps', 'helps Disney', \"Disney 's\", \"'s upcoming\", 'upcoming streaming', 'streaming service', 'service Published', 'Published Thu', 'Thu ,', ', Jan', 'Jan #', '# :', ': #', '# PM', 'PM EST', 'EST Updated', 'Updated Thu', 'EST Tyler', 'Tyler Clifford', 'Clifford @', '@ _TylerTheTyler_', '_TylerTheTyler_ Key', 'Key Points', 'Points Netflix', 'Netflix subscription', 'subscription price', 'a ``', '`` key', 'key dilemma', \"dilemma ''\", \"'' that\", 'that makes', 'makes future', 'future competitors', 'competitors like', 'like Disney', 'Disney more', 'more viable', 'viable ,', ', New', 'New Constructs', 'Constructs CEO', 'CEO David', 'David Trainer', 'Trainer says', 'says .']\n['× LOG IN', 'LOG IN SIGN', 'IN SIGN UP', 'SIGN UP Keep', 'UP Keep Me', 'Keep Me Logged', 'Me Logged In', 'Logged In Skip', 'In Skip Navigation', 'Skip Navigation SIGN', 'Navigation SIGN IN', 'SIGN IN Pro', 'IN Pro Watchlist', 'Pro Watchlist Make', 'Watchlist Make It', 'Make It Select', 'It Select USA', 'Select USA INTL', 'USA INTL Markets', 'INTL Markets Pre-Markets', 'Markets Pre-Markets U.S.', 'Pre-Markets U.S. Markets', 'U.S. Markets Currencies', 'Markets Currencies Cryptocurrency', 'Currencies Cryptocurrency Futures', 'Cryptocurrency Futures &', 'Futures & Commodities', '& Commodities Bonds', 'Commodities Bonds Funds', 'Bonds Funds &', 'Funds & ETFs', '& ETFs Watchlist', 'ETFs Watchlist Business', 'Watchlist Business Economy', 'Business Economy Finance', 'Economy Finance Health', 'Finance Health &', 'Health & Science', '& Science Media', 'Science Media Real', 'Media Real Estate', 'Real Estate Energy', 'Estate Energy Transportation', 'Energy Transportation Industrials', 'Transportation Industrials Retail', 'Industrials Retail Wealth', 'Retail Wealth Small', 'Wealth Small Business', 'Small Business Investing', 'Business Investing Invest', 'Investing Invest In', 'Invest In You', 'In You Personal', 'You Personal Finance', 'Personal Finance Financial', 'Finance Financial Advisors', 'Financial Advisors Trading', 'Advisors Trading Nation', 'Trading Nation Options', 'Nation Options Action', 'Options Action ETF', 'Action ETF Street', 'ETF Street Buffett', 'Street Buffett Archive', 'Buffett Archive Earnings', 'Archive Earnings Trader', 'Earnings Trader Talk', 'Trader Talk Tech', 'Talk Tech Cybersecurity', 'Tech Cybersecurity Enterprise', 'Cybersecurity Enterprise Internet', 'Enterprise Internet Media', 'Internet Media Mobile', 'Media Mobile Social', 'Mobile Social Media', 'Social Media Venture', 'Media Venture Capital', 'Venture Capital Tech', 'Capital Tech Guide', 'Tech Guide Politics', 'Guide Politics White', 'Politics White House', 'White House Policy', 'House Policy Defense', 'Policy Defense Congress', 'Defense Congress #', 'Congress # #', '# # #', '# # Elections', '# Elections CNBC', 'Elections CNBC TV', 'CNBC TV Live', 'TV Live TV', 'Live TV Live', 'TV Live Audio', 'Live Audio Latest', 'Audio Latest Video', 'Latest Video Top', 'Video Top Video', 'Top Video CEO', 'Video CEO Interviews', 'CEO Interviews Business', 'Interviews Business Day', 'Business Day Shows', 'Day Shows Primetime', 'Shows Primetime Shows', 'Primetime Shows CNBC', 'Shows CNBC World', 'CNBC World Digital', 'World Digital Originals', 'Digital Originals Full', 'Originals Full Episodes', 'Full Episodes Menu', 'Episodes Menu SEARCH', 'Menu SEARCH QUOTES', 'SEARCH QUOTES Markets', 'QUOTES Markets Pre-Markets', 'Episodes Menu Tech', 'Menu Tech Netflix', \"Tech Netflix 's\", \"Netflix 's price\", \"'s price hike\", 'price hike is', 'hike is a', \"is a 'Catch-\", \"a 'Catch- #\", \"'Catch- # #\", \"# # '\", \"# ' that\", \"' that actually\", 'that actually helps', 'actually helps Disney', \"helps Disney 's\", \"Disney 's upcoming\", \"'s upcoming streaming\", 'upcoming streaming service', 'streaming service Published', 'service Published Thu', 'Published Thu ,', 'Thu , Jan', ', Jan #', 'Jan # #', '# # :', '# : #', ': # #', '# # PM', '# PM EST', 'PM EST Updated', 'EST Updated Thu', 'Updated Thu ,', 'PM EST Tyler', 'EST Tyler Clifford', 'Tyler Clifford @', 'Clifford @ _TylerTheTyler_', '@ _TylerTheTyler_ Key', '_TylerTheTyler_ Key Points', 'Key Points Netflix', 'Points Netflix subscription', 'Netflix subscription price', 'subscription price hike', 'is a ``', 'a `` key', '`` key dilemma', \"key dilemma ''\", \"dilemma '' that\", \"'' that makes\", 'that makes future', 'makes future competitors', 'future competitors like', 'competitors like Disney', 'like Disney more', 'Disney more viable', 'more viable ,', 'viable , New', ', New Constructs', 'New Constructs CEO', 'Constructs CEO David', 'CEO David Trainer', 'David Trainer says', 'Trainer says .']\n\n\nSentence 2 bigrams and trigrams: \n['However ,', ', Aegis', 'Aegis Capital', \"Capital 's\", \"'s Victory\", 'Victory Anthony', 'Anthony sees', 'sees the', 'the Netflix', 'Netflix price', 'price increase', 'increase as', 'as extra', 'extra money', 'money to', 'to invest', 'invest in', 'in more', 'more original', 'original content', 'content or', 'or pad', 'pad the', 'the bottom', 'bottom line', 'line .']\n['However , Aegis', ', Aegis Capital', \"Aegis Capital 's\", \"Capital 's Victory\", \"'s Victory Anthony\", 'Victory Anthony sees', 'Anthony sees the', 'sees the Netflix', 'the Netflix price', 'Netflix price increase', 'price increase as', 'increase as extra', 'as extra money', 'extra money to', 'money to invest', 'to invest in', 'invest in more', 'in more original', 'more original content', 'original content or', 'content or pad', 'or pad the', 'pad the bottom', 'the bottom line', 'bottom line .']\n\n\nSentence 3 bigrams and trigrams: \n['VIDEO #', '# :', ': #', '# #', '# Netflix', \"Netflix 's\", \"'s decision\", 'decision to', 'to raise', 'raise prices', 'prices is', 'is a', 'a Catch-', 'Catch- #', '# ,', ', says', 'says New', 'New Constructs', \"Constructs '\", \"' David\", 'David Trainer', 'Trainer Closing', 'Closing Bell', 'Bell Disney', 'Disney will', 'will have', 'have a', 'a competitive', 'competitive advantage', 'advantage over', 'over Netflix', 'Netflix when', 'when the', 'the entertainment', 'entertainment conglomerate', 'conglomerate launches', 'launches a', 'a competing', 'competing video', 'video streaming', 'streaming platform', 'platform later', 'later this', 'this year', 'year ,', ', according', 'according to', 'to Wall', 'Wall Street', 'Street analyst', 'analyst David', 'Trainer .']\n['VIDEO # :', '# : #', ': # #', '# # #', '# # :', '# # Netflix', \"# Netflix 's\", \"Netflix 's decision\", \"'s decision to\", 'decision to raise', 'to raise prices', 'raise prices is', 'prices is a', 'is a Catch-', 'a Catch- #', 'Catch- # #', '# # ,', '# , says', ', says New', 'says New Constructs', \"New Constructs '\", \"Constructs ' David\", \"' David Trainer\", 'David Trainer Closing', 'Trainer Closing Bell', 'Closing Bell Disney', 'Bell Disney will', 'Disney will have', 'will have a', 'have a competitive', 'a competitive advantage', 'competitive advantage over', 'advantage over Netflix', 'over Netflix when', 'Netflix when the', 'when the entertainment', 'the entertainment conglomerate', 'entertainment conglomerate launches', 'conglomerate launches a', 'launches a competing', 'a competing video', 'competing video streaming', 'video streaming platform', 'streaming platform later', 'platform later this', 'later this year', 'this year ,', 'year , according', ', according to', 'according to Wall', 'to Wall Street', 'Wall Street analyst', 'Street analyst David', 'analyst David Trainer', 'David Trainer .']\n\n\nSentence 4 bigrams and trigrams: \n['`` [', '[ Disney', \"Disney 's\", \"'s ]\", '] got', 'got the', 'the ability', 'ability to', 'to merchandise', 'merchandise ,', ', which', 'which is', 'is another', 'another way', 'way to', 'to monetize', 'monetize content', 'content in', 'in a', 'a way', 'way that', 'that Netflix', 'Netflix does', 'does not', 'not have', 'have ,', \", ''\", \"'' Trainer\", 'Trainer said', 'said on', 'on CNBC', \"CNBC 's\", \"'s ``\", '`` Closing', 'Closing Bell', \"Bell ''\", \"'' Wednesday\", 'Wednesday .']\n['`` [ Disney', \"[ Disney 's\", \"Disney 's ]\", \"'s ] got\", '] got the', 'got the ability', 'the ability to', 'ability to merchandise', 'to merchandise ,', 'merchandise , which', ', which is', 'which is another', 'is another way', 'another way to', 'way to monetize', 'to monetize content', 'monetize content in', 'content in a', 'in a way', 'a way that', 'way that Netflix', 'that Netflix does', 'Netflix does not', 'does not have', 'not have ,', \"have , ''\", \", '' Trainer\", \"'' Trainer said\", 'Trainer said on', 'said on CNBC', \"on CNBC 's\", \"CNBC 's ``\", \"'s `` Closing\", '`` Closing Bell', \"Closing Bell ''\", \"Bell '' Wednesday\", \"'' Wednesday .\"]\n\n\nSentence 5 bigrams and trigrams: \n[\"He 's\", \"'s chief\", 'chief of', 'of the', 'the New', 'New Constructs', 'Constructs research', 'research firm', 'firm .']\n[\"He 's chief\", \"'s chief of\", 'chief of the', 'of the New', 'the New Constructs', 'New Constructs research', 'Constructs research firm', 'research firm .']\n\n\n"
    }
   ],
   "source": [
    "for i in range(len(sentences_5)):\n",
    "    print(\"Sentence \" + str(i+1) + \" bigrams and trigrams: \")\n",
    "    print(return_grams(sentences_5[i], 2))\n",
    "    print(return_grams(sentences_5[i], 3))\n",
    "    print('\\n')"
   ]
  },
  {
   "cell_type": "markdown",
   "metadata": {},
   "source": [
    "#### Print POS tags in the first 5 sentences"
   ]
  },
  {
   "cell_type": "code",
   "execution_count": 101,
   "metadata": {
    "tags": []
   },
   "outputs": [
    {
     "output_type": "stream",
     "name": "stdout",
     "text": "Sentence 1 POS tags:\n[('×', 'JJ'), ('LOG', 'NNP'), ('IN', 'NNP'), ('SIGN', 'NNP'), ('UP', 'NNP'), ('Keep', 'NNP'), ('Me', 'NNP'), ('Logged', 'NNP'), ('In', 'IN'), ('Skip', 'NNP'), ('Navigation', 'NNP'), ('SIGN', 'NNP'), ('IN', 'NNP'), ('Pro', 'NNP'), ('Watchlist', 'NNP'), ('Make', 'NNP'), ('It', 'PRP'), ('Select', 'NNP'), ('USA', 'NNP'), ('INTL', 'NNP'), ('Markets', 'NNP'), ('Pre-Markets', 'NNP'), ('U.S.', 'NNP'), ('Markets', 'NNP'), ('Currencies', 'NNP'), ('Cryptocurrency', 'NNP'), ('Futures', 'NNP'), ('&', 'CC'), ('Commodities', 'NNP'), ('Bonds', 'NNP'), ('Funds', 'NNP'), ('&', 'CC'), ('ETFs', 'NNP'), ('Watchlist', 'NNP'), ('Business', 'NNP'), ('Economy', 'NNP'), ('Finance', 'NNP'), ('Health', 'NNP'), ('&', 'CC'), ('Science', 'NNP'), ('Media', 'NNP'), ('Real', 'NNP'), ('Estate', 'NNP'), ('Energy', 'NNP'), ('Transportation', 'NNP'), ('Industrials', 'NNP'), ('Retail', 'NNP'), ('Wealth', 'NNP'), ('Small', 'NNP'), ('Business', 'NNP'), ('Investing', 'NNP'), ('Invest', 'NNP'), ('In', 'IN'), ('You', 'PRP'), ('Personal', 'NNP'), ('Finance', 'NNP'), ('Financial', 'NNP'), ('Advisors', 'NNPS'), ('Trading', 'NNP'), ('Nation', 'NN'), ('Options', 'NNP'), ('Action', 'NNP'), ('ETF', 'NNP'), ('Street', 'NNP'), ('Buffett', 'NNP'), ('Archive', 'NNP'), ('Earnings', 'NNP'), ('Trader', 'NNP'), ('Talk', 'NNP'), ('Tech', 'NNP'), ('Cybersecurity', 'NNP'), ('Enterprise', 'NNP'), ('Internet', 'NNP'), ('Media', 'NNP'), ('Mobile', 'NNP'), ('Social', 'NNP'), ('Media', 'NNP'), ('Venture', 'NNP'), ('Capital', 'NNP'), ('Tech', 'NNP'), ('Guide', 'NNP'), ('Politics', 'NNP'), ('White', 'NNP'), ('House', 'NNP'), ('Policy', 'NN'), ('Defense', 'NNP'), ('Congress', 'NNP'), ('#', '#'), ('#', '#'), ('#', '#'), ('#', '#'), ('Elections', 'NNP'), ('CNBC', 'NNP'), ('TV', 'NNP'), ('Live', 'NNP'), ('TV', 'NN'), ('Live', 'NNP'), ('Audio', 'NNP'), ('Latest', 'NNP'), ('Video', 'NNP'), ('Top', 'NNP'), ('Video', 'NNP'), ('CEO', 'NNP'), ('Interviews', 'NNP'), ('Business', 'NNP'), ('Day', 'NNP'), ('Shows', 'NNP'), ('Primetime', 'NNP'), ('Shows', 'NNP'), ('CNBC', 'NNP'), ('World', 'NNP'), ('Digital', 'NNP'), ('Originals', 'NNP'), ('Full', 'NNP'), ('Episodes', 'NNP'), ('Menu', 'NNP'), ('SEARCH', 'NNP'), ('QUOTES', 'NNP'), ('Markets', 'NNP'), ('Pre-Markets', 'NNP'), ('U.S.', 'NNP'), ('Markets', 'NNP'), ('Currencies', 'NNP'), ('Cryptocurrency', 'NNP'), ('Futures', 'NNP'), ('&', 'CC'), ('Commodities', 'NNP'), ('Bonds', 'NNP'), ('Funds', 'NNP'), ('&', 'CC'), ('ETFs', 'NNP'), ('Watchlist', 'NNP'), ('Business', 'NNP'), ('Economy', 'NNP'), ('Finance', 'NNP'), ('Health', 'NNP'), ('&', 'CC'), ('Science', 'NNP'), ('Media', 'NNP'), ('Real', 'NNP'), ('Estate', 'NNP'), ('Energy', 'NNP'), ('Transportation', 'NNP'), ('Industrials', 'NNP'), ('Retail', 'NNP'), ('Wealth', 'NNP'), ('Small', 'NNP'), ('Business', 'NNP'), ('Investing', 'NNP'), ('Invest', 'NNP'), ('In', 'IN'), ('You', 'PRP'), ('Personal', 'NNP'), ('Finance', 'NNP'), ('Financial', 'NNP'), ('Advisors', 'NNPS'), ('Trading', 'NNP'), ('Nation', 'NN'), ('Options', 'NNP'), ('Action', 'NNP'), ('ETF', 'NNP'), ('Street', 'NNP'), ('Buffett', 'NNP'), ('Archive', 'NNP'), ('Earnings', 'NNP'), ('Trader', 'NNP'), ('Talk', 'NNP'), ('Tech', 'NNP'), ('Cybersecurity', 'NNP'), ('Enterprise', 'NNP'), ('Internet', 'NNP'), ('Media', 'NNP'), ('Mobile', 'NNP'), ('Social', 'NNP'), ('Media', 'NNP'), ('Venture', 'NNP'), ('Capital', 'NNP'), ('Tech', 'NNP'), ('Guide', 'NNP'), ('Politics', 'NNP'), ('White', 'NNP'), ('House', 'NNP'), ('Policy', 'NN'), ('Defense', 'NNP'), ('Congress', 'NNP'), ('#', '#'), ('#', '#'), ('#', '#'), ('#', '#'), ('Elections', 'NNP'), ('CNBC', 'NNP'), ('TV', 'NNP'), ('Live', 'NNP'), ('TV', 'NN'), ('Live', 'NNP'), ('Audio', 'NNP'), ('Latest', 'NNP'), ('Video', 'NNP'), ('Top', 'NNP'), ('Video', 'NNP'), ('CEO', 'NNP'), ('Interviews', 'NNP'), ('Business', 'NNP'), ('Day', 'NNP'), ('Shows', 'NNP'), ('Primetime', 'NNP'), ('Shows', 'NNP'), ('CNBC', 'NNP'), ('World', 'NNP'), ('Digital', 'NNP'), ('Originals', 'NNP'), ('Full', 'NNP'), ('Episodes', 'NNP'), ('Menu', 'NNP'), ('Tech', 'NNP'), ('Netflix', 'NNP'), (\"'s\", 'POS'), ('price', 'NN'), ('hike', 'NN'), ('is', 'VBZ'), ('a', 'DT'), (\"'Catch-\", 'JJ'), ('#', '#'), ('#', '#'), (\"'\", 'POS'), ('that', 'WDT'), ('actually', 'RB'), ('helps', 'VBZ'), ('Disney', 'NNP'), (\"'s\", 'POS'), ('upcoming', 'VBG'), ('streaming', 'VBG'), ('service', 'NN'), ('Published', 'NNP'), ('Thu', 'NNP'), (',', ','), ('Jan', 'NNP'), ('#', '#'), ('#', '#'), ('#', '#'), ('#', '#'), ('#', '#'), ('#', '#'), ('#', '#'), (':', ':'), ('#', '#'), ('#', '#'), ('PM', 'NNP'), ('EST', 'NNP'), ('Updated', 'NNP'), ('Thu', 'NNP'), (',', ','), ('Jan', 'NNP'), ('#', '#'), ('#', '#'), ('#', '#'), ('#', '#'), ('#', '#'), ('#', '#'), ('#', '#'), (':', ':'), ('#', '#'), ('#', '#'), ('PM', 'NNP'), ('EST', 'NNP'), ('Tyler', 'NNP'), ('Clifford', 'NNP'), ('@', 'NNP'), ('_TylerTheTyler_', 'NNP'), ('Key', 'NNP'), ('Points', 'NNP'), ('Netflix', 'NNP'), ('subscription', 'NN'), ('price', 'NN'), ('hike', 'NN'), ('is', 'VBZ'), ('a', 'DT'), ('``', '``'), ('key', 'JJ'), ('dilemma', 'NN'), (\"''\", \"''\"), ('that', 'WDT'), ('makes', 'VBZ'), ('future', 'JJ'), ('competitors', 'NNS'), ('like', 'IN'), ('Disney', 'NNP'), ('more', 'RBR'), ('viable', 'JJ'), (',', ','), ('New', 'NNP'), ('Constructs', 'NNP'), ('CEO', 'NNP'), ('David', 'NNP'), ('Trainer', 'NNP'), ('says', 'VBZ'), ('.', '.')]\n\n\nSentence 2 POS tags:\n[('However', 'RB'), (',', ','), ('Aegis', 'NNP'), ('Capital', 'NNP'), (\"'s\", 'POS'), ('Victory', 'NNP'), ('Anthony', 'NNP'), ('sees', 'VBZ'), ('the', 'DT'), ('Netflix', 'NNP'), ('price', 'NN'), ('increase', 'NN'), ('as', 'IN'), ('extra', 'JJ'), ('money', 'NN'), ('to', 'TO'), ('invest', 'VB'), ('in', 'IN'), ('more', 'RBR'), ('original', 'JJ'), ('content', 'NN'), ('or', 'CC'), ('pad', 'VB'), ('the', 'DT'), ('bottom', 'JJ'), ('line', 'NN'), ('.', '.')]\n\n\nSentence 3 POS tags:\n[('VIDEO', 'NNP'), ('#', '#'), (':', ':'), ('#', '#'), ('#', '#'), ('#', '#'), ('#', '#'), (':', ':'), ('#', '#'), ('#', '#'), ('Netflix', 'NNP'), (\"'s\", 'POS'), ('decision', 'NN'), ('to', 'TO'), ('raise', 'VB'), ('prices', 'NNS'), ('is', 'VBZ'), ('a', 'DT'), ('Catch-', 'JJ'), ('#', '#'), ('#', '#'), (',', ','), ('says', 'VBZ'), ('New', 'NNP'), ('Constructs', 'NNP'), (\"'\", 'POS'), ('David', 'NNP'), ('Trainer', 'NNP'), ('Closing', 'NNP'), ('Bell', 'NNP'), ('Disney', 'NNP'), ('will', 'MD'), ('have', 'VB'), ('a', 'DT'), ('competitive', 'JJ'), ('advantage', 'NN'), ('over', 'IN'), ('Netflix', 'NNP'), ('when', 'WRB'), ('the', 'DT'), ('entertainment', 'NN'), ('conglomerate', 'NN'), ('launches', 'VBZ'), ('a', 'DT'), ('competing', 'VBG'), ('video', 'NN'), ('streaming', 'VBG'), ('platform', 'NN'), ('later', 'RBR'), ('this', 'DT'), ('year', 'NN'), (',', ','), ('according', 'VBG'), ('to', 'TO'), ('Wall', 'NNP'), ('Street', 'NNP'), ('analyst', 'NN'), ('David', 'NNP'), ('Trainer', 'NNP'), ('.', '.')]\n\n\nSentence 4 POS tags:\n[('``', '``'), ('[', 'JJ'), ('Disney', 'NNP'), (\"'s\", 'POS'), (']', 'NNP'), ('got', 'VBD'), ('the', 'DT'), ('ability', 'NN'), ('to', 'TO'), ('merchandise', 'NN'), (',', ','), ('which', 'WDT'), ('is', 'VBZ'), ('another', 'DT'), ('way', 'NN'), ('to', 'TO'), ('monetize', 'VB'), ('content', 'NN'), ('in', 'IN'), ('a', 'DT'), ('way', 'NN'), ('that', 'IN'), ('Netflix', 'NNP'), ('does', 'VBZ'), ('not', 'RB'), ('have', 'VB'), (',', ','), (\"''\", \"''\"), ('Trainer', 'NNP'), ('said', 'VBD'), ('on', 'IN'), ('CNBC', 'NNP'), (\"'s\", 'POS'), ('``', '``'), ('Closing', 'NNP'), ('Bell', 'NNP'), (\"''\", \"''\"), ('Wednesday', 'NNP'), ('.', '.')]\n\n\nSentence 5 POS tags:\n[('He', 'PRP'), (\"'s\", 'VBZ'), ('chief', 'NN'), ('of', 'IN'), ('the', 'DT'), ('New', 'NNP'), ('Constructs', 'NNP'), ('research', 'NN'), ('firm', 'NN'), ('.', '.')]\n\n\n"
    }
   ],
   "source": [
    "for i in range(len(sentences_5)):\n",
    "    # Word tokenize first\n",
    "    words = word_tokenize(sentences_5[i])\n",
    "    print(\"Sentence \" + str(i+1) + \" POS tags:\")\n",
    "    print(pos_tag(words))\n",
    "    print('\\n')"
   ]
  }
 ],
 "metadata": {
  "language_info": {
   "codemirror_mode": {
    "name": "ipython",
    "version": 3
   },
   "file_extension": ".py",
   "mimetype": "text/x-python",
   "name": "python",
   "nbconvert_exporter": "python",
   "pygments_lexer": "ipython3",
   "version": "3.7.6-final"
  },
  "orig_nbformat": 2,
  "kernelspec": {
   "name": "python3",
   "display_name": "Python 3"
  }
 },
 "nbformat": 4,
 "nbformat_minor": 2
}