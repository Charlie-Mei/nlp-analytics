{
 "cells": [
  {
   "cell_type": "markdown",
   "metadata": {},
   "source": [
    "## Assignment 1\n",
    "By Charlie Mei cm3947"
   ]
  },
  {
   "cell_type": "markdown",
   "metadata": {},
   "source": [
    "### The Task\n",
    "\n",
    "Read the provided CSV document with multiple columns into a list or array of dictionaries, each row is a dictionary. Note: There are repeated rows. \n",
    "\n",
    "Sort the dictionary by the \"rank\" field in ascending order:\n",
    "- Copying values into an array or list, and sorting, or\n",
    "- Using Python sorted function on the dictionary\n",
    "\n",
    "Create a set containing only unique (non-repeated) rows from the list of dictionaries\n",
    "\n",
    "### My Response"
   ]
  },
  {
   "cell_type": "code",
   "execution_count": 17,
   "metadata": {
    "tags": [
     "outputPrepend"
    ]
   },
   "outputs": [
    {
     "output_type": "execute_result",
     "data": {
      "text/plain": "OrderedDict([('ï»¿name', 'Eventige'),\n             ('city', 'New York'),\n             ('region', 'New York'),\n             ('country', 'US'),\n             ('category_list',\n              'Advertising,Brand Marketing,Digital Marketing,E-Commerce,Identity Management,Marketing,Semantic Search,SEO'),\n             ('category_groups_list',\n              'Advertising,Commerce and Shopping,Information Technology,Internet Services,Privacy and Security,Sales and Marketing'),\n             ('cb_url', 'https://www.crunchbase.com/organization/eventige'),\n             ('rank', '225832'),\n             ('domain', 'eventige.com')])"
     },
     "metadata": {},
     "execution_count": 17
    }
   ],
   "source": [
    "import csv\n",
    "\n",
    "# Reading the csv as an array of dictionaries, each row is a dictionary\n",
    "file = csv.DictReader(open(\"cb_sample.csv\"))\n",
    "\n",
    "doc = []\n",
    "for row in file:\n",
    "    doc.append(row)\n",
    "\n",
    "doc[0]"
   ]
  },
  {
   "cell_type": "code",
   "execution_count": 33,
   "metadata": {},
   "outputs": [
    {
     "output_type": "stream",
     "text": "\u001b[1;31mSignature:\u001b[0m \u001b[0msorted\u001b[0m\u001b[1;33m(\u001b[0m\u001b[0miterable\u001b[0m\u001b[1;33m,\u001b[0m \u001b[1;33m/\u001b[0m\u001b[1;33m,\u001b[0m \u001b[1;33m*\u001b[0m\u001b[1;33m,\u001b[0m \u001b[0mkey\u001b[0m\u001b[1;33m=\u001b[0m\u001b[1;32mNone\u001b[0m\u001b[1;33m,\u001b[0m \u001b[0mreverse\u001b[0m\u001b[1;33m=\u001b[0m\u001b[1;32mFalse\u001b[0m\u001b[1;33m)\u001b[0m\u001b[1;33m\u001b[0m\u001b[1;33m\u001b[0m\u001b[0m\n\u001b[1;31mDocstring:\u001b[0m\nReturn a new list containing all items from the iterable in ascending order.\n\nA custom key function can be supplied to customize the sort order, and the\nreverse flag can be set to request the result in descending order.\n\u001b[1;31mType:\u001b[0m      builtin_function_or_method\n"
    }
   ],
   "source": [
    "# How does the sorted function in Python work?\n",
    "?sorted"
   ]
  },
  {
   "cell_type": "code",
   "execution_count": 56,
   "metadata": {
    "tags": [
     "outputPrepend"
    ]
   },
   "outputs": [
    {
     "output_type": "stream",
     "name": "stdout",
     "text": "{'ï»¿name': 'Eventmag.ru', 'city': 'Moscow', 'region': 'Moscow City', 'country': 'RU', 'category_list': 'E-Commerce,Marketplace,Ticketing', 'category_groups_list': 'Commerce and Shopping,Events,Media and Entertainment', 'cb_url': 'https://www.crunchbase.com/organization/eventmag-ru', 'rank': '115506', 'domain': 'eventmag.ru'}\n{'ï»¿name': 'Eventmag.ru', 'city': 'Moscow', 'region': 'Moscow City', 'country': 'RU', 'category_list': 'E-Commerce,Marketplace,Ticketing', 'category_groups_list': 'Commerce and Shopping,Events,Media and Entertainment', 'cb_url': 'https://www.crunchbase.com/organization/eventmag-ru', 'rank': '115506', 'domain': 'eventmag.ru'}\n{'ï»¿name': 'Eventpig', 'city': 'London', 'region': 'England', 'country': 'GB', 'category_list': 'Event Management,Events,Social Media,Ticketing', 'category_groups_list': 'Events,Internet Services,Media and Entertainment', 'cb_url': 'https://www.crunchbase.com/organization/eventpig', 'rank': '146909', 'domain': 'eventpig.com'}\n{'ï»¿name': 'Eventpig', 'city': 'London', 'region': 'England', 'country': 'GB', 'category_list': 'Event Management,Events,Social Media,Ticketing', 'category_groups_list': 'Events,Internet Services,Media and Entertainment', 'cb_url': 'https://www.crunchbase.com/organization/eventpig', 'rank': '146909', 'domain': 'eventpig.com'}\n{'ï»¿name': 'Eventim UK Ltd', 'city': 'London', 'region': 'England', 'country': 'GB', 'category_list': 'E-Commerce,Logistics,Ticketing', 'category_groups_list': 'Commerce and Shopping,Events,Media and Entertainment,Transportation', 'cb_url': 'https://www.crunchbase.com/organization/eventim-uk-ltd', 'rank': '150353', 'domain': 'eventim.co.uk'}\n{'ï»¿name': 'Eventogy', 'city': 'London', 'region': 'England', 'country': 'GB', 'category_list': 'Event Management,Events,Mobile Apps', 'category_groups_list': 'Apps,Events,Media and Entertainment,Mobile,Software', 'cb_url': 'https://www.crunchbase.com/organization/eventogy', 'rank': '161026', 'domain': 'eventogy.com'}\n{'ï»¿name': 'EventNook', 'city': 'Singapore', 'region': 'Central Region', 'country': 'SG', 'category_list': 'Ticketing', 'category_groups_list': 'Events,Media and Entertainment', 'cb_url': 'https://www.crunchbase.com/organization/eventnook', 'rank': '165226', 'domain': 'eventnook.com'}\n{'ï»¿name': 'Eventix', 'city': 'Amsterdam', 'region': 'Noord-Holland', 'country': 'NL', 'category_list': 'Ticketing', 'category_groups_list': 'Events,Media and Entertainment', 'cb_url': 'https://www.crunchbase.com/organization/eventix', 'rank': '167778', 'domain': 'eventix.io'}\n{'ï»¿name': 'Eventilla', 'city': 'Oulu', 'region': 'Oulu', 'country': 'FI', 'category_list': 'Email Marketing,Event Management', 'category_groups_list': 'Events,Media and Entertainment,Sales and Marketing', 'cb_url': 'https://www.crunchbase.com/organization/eventilla', 'rank': '177482', 'domain': 'eventilla.com'}\n{'ï»¿name': 'EVENTION', 'city': 'Hong Kong', 'region': 'Hong Kong Island', 'country': 'HK', 'category_list': 'Event Management,Information Technology,Mobile', 'category_groups_list': 'Events,Information Technology,Media and Entertainment,Mobile', 'cb_url': 'https://www.crunchbase.com/organization/evention', 'rank': '179522', 'domain': 'eventionapp.com'}\n"
    }
   ],
   "source": [
    "# Sorting the array of dictionaries by rank\n",
    "\n",
    "sorted_doc = sorted(doc, key=lambda x: x['rank'])\n",
    "\n",
    "# See the output!\n",
    "i = 0\n",
    "while i<10:\n",
    "    print(dict(sorted_doc[i]))\n",
    "    i = i+1"
   ]
  },
  {
   "cell_type": "code",
   "execution_count": 58,
   "metadata": {},
   "outputs": [
    {
     "output_type": "stream",
     "name": "stdout",
     "text": "{'ï»¿name': 'Eventmag.ru', 'city': 'Moscow', 'region': 'Moscow City', 'country': 'RU', 'category_list': 'E-Commerce,Marketplace,Ticketing', 'category_groups_list': 'Commerce and Shopping,Events,Media and Entertainment', 'cb_url': 'https://www.crunchbase.com/organization/eventmag-ru', 'rank': '115506', 'domain': 'eventmag.ru'}\n{'ï»¿name': 'Eventpig', 'city': 'London', 'region': 'England', 'country': 'GB', 'category_list': 'Event Management,Events,Social Media,Ticketing', 'category_groups_list': 'Events,Internet Services,Media and Entertainment', 'cb_url': 'https://www.crunchbase.com/organization/eventpig', 'rank': '146909', 'domain': 'eventpig.com'}\n{'ï»¿name': 'Eventim UK Ltd', 'city': 'London', 'region': 'England', 'country': 'GB', 'category_list': 'E-Commerce,Logistics,Ticketing', 'category_groups_list': 'Commerce and Shopping,Events,Media and Entertainment,Transportation', 'cb_url': 'https://www.crunchbase.com/organization/eventim-uk-ltd', 'rank': '150353', 'domain': 'eventim.co.uk'}\n{'ï»¿name': 'Eventogy', 'city': 'London', 'region': 'England', 'country': 'GB', 'category_list': 'Event Management,Events,Mobile Apps', 'category_groups_list': 'Apps,Events,Media and Entertainment,Mobile,Software', 'cb_url': 'https://www.crunchbase.com/organization/eventogy', 'rank': '161026', 'domain': 'eventogy.com'}\n{'ï»¿name': 'EventNook', 'city': 'Singapore', 'region': 'Central Region', 'country': 'SG', 'category_list': 'Ticketing', 'category_groups_list': 'Events,Media and Entertainment', 'cb_url': 'https://www.crunchbase.com/organization/eventnook', 'rank': '165226', 'domain': 'eventnook.com'}\n{'ï»¿name': 'Eventix', 'city': 'Amsterdam', 'region': 'Noord-Holland', 'country': 'NL', 'category_list': 'Ticketing', 'category_groups_list': 'Events,Media and Entertainment', 'cb_url': 'https://www.crunchbase.com/organization/eventix', 'rank': '167778', 'domain': 'eventix.io'}\n{'ï»¿name': 'Eventilla', 'city': 'Oulu', 'region': 'Oulu', 'country': 'FI', 'category_list': 'Email Marketing,Event Management', 'category_groups_list': 'Events,Media and Entertainment,Sales and Marketing', 'cb_url': 'https://www.crunchbase.com/organization/eventilla', 'rank': '177482', 'domain': 'eventilla.com'}\n{'ï»¿name': 'EVENTION', 'city': 'Hong Kong', 'region': 'Hong Kong Island', 'country': 'HK', 'category_list': 'Event Management,Information Technology,Mobile', 'category_groups_list': 'Events,Information Technology,Media and Entertainment,Mobile', 'cb_url': 'https://www.crunchbase.com/organization/evention', 'rank': '179522', 'domain': 'eventionapp.com'}\n{'ï»¿name': 'Evently', 'city': 'San Francisco', 'region': 'California', 'country': 'US', 'category_list': 'Events,Internet,SaaS,Software', 'category_groups_list': 'Events,Internet Services,Media and Entertainment,Software', 'cb_url': 'https://www.crunchbase.com/organization/evently', 'rank': '180464', 'domain': 'evently.com'}\n{'ï»¿name': 'Eventinterface', 'city': 'Scottsdale', 'region': 'Arizona', 'country': 'US', 'category_list': 'Event Management,Events,Mobile Apps,SaaS,Software', 'category_groups_list': 'Apps,Events,Media and Entertainment,Mobile,Software', 'cb_url': 'https://www.crunchbase.com/organization/eventinterface', 'rank': '194383', 'domain': 'eventinterface.com'}\n"
    }
   ],
   "source": [
    "# List to capture jus the unique rows\n",
    "unique_doc = [sorted_doc[0]]\n",
    "\n",
    "# A proxy to compare one row from the next, using the sorted document\n",
    "proxy = sorted_doc[0]\n",
    "\n",
    "for i in range(1, len(sorted_doc)):\n",
    "    if proxy == sorted_doc[i-1]:\n",
    "        continue\n",
    "    else:\n",
    "        unique_doc.append(sorted_doc[i])\n",
    "        proxy == sorted_doc[i]\n",
    "\n",
    "# See the output!\n",
    "i = 0\n",
    "while i<10:\n",
    "    print(dict(unique_doc[i]))\n",
    "    i = i+1\n",
    "    "
   ]
  },
  {
   "cell_type": "code",
   "execution_count": null,
   "metadata": {},
   "outputs": [],
   "source": []
  }
 ],
 "metadata": {
  "language_info": {
   "codemirror_mode": {
    "name": "ipython",
    "version": 3
   },
   "file_extension": ".py",
   "mimetype": "text/x-python",
   "name": "python",
   "nbconvert_exporter": "python",
   "pygments_lexer": "ipython3",
   "version": "3.7.6-final"
  },
  "orig_nbformat": 2,
  "kernelspec": {
   "name": "python3",
   "display_name": "Python 3"
  }
 },
 "nbformat": 4,
 "nbformat_minor": 2
}