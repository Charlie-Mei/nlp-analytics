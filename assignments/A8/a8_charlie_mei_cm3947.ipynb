{
 "metadata": {
  "language_info": {
   "codemirror_mode": {
    "name": "ipython",
    "version": 3
   },
   "file_extension": ".py",
   "mimetype": "text/x-python",
   "name": "python",
   "nbconvert_exporter": "python",
   "pygments_lexer": "ipython3",
   "version": 3
  },
  "orig_nbformat": 2,
  "kernelspec": {
   "name": "python_defaultSpec_1595704350790",
   "display_name": "Python 3.7.6 64-bit ('base': conda)"
  }
 },
 "nbformat": 4,
 "nbformat_minor": 2,
 "cells": [
  {
   "cell_type": "markdown",
   "metadata": {},
   "source": [
    "## Assignment 8\n",
    "by Charlie Mei cm3947\n",
    "\n",
    "Write a Python program based on the Week 8 class exercises (with Gensim, Scikit-Learn, or Spark MLLib), implementing LDA training and topic modeling on your dataset of deduplicated Webhose feeds\n",
    "\n",
    "- You may use LDA from Scikit-Learn, Gensim or Spark packages\n",
    "- Modify the values of min_df and max_df, max_features and max_iter (sklearn) to achieve best results\n",
    "- Your final submission should include:\n",
    "    - Jupyter Notebook or Python (.py) with your implementation\n",
    "    - Output showing set of n topic clusters with up to 10 keywords per cluster"
   ]
  },
  {
   "cell_type": "code",
   "execution_count": 1,
   "metadata": {},
   "outputs": [],
   "source": [
    "import json\n",
    "import numpy as np\n",
    "from sklearn.feature_extraction.text import CountVectorizer\n",
    "from sklearn.decomposition import LatentDirichletAllocation\n",
    "import nltk, re\n",
    "from nltk.stem.wordnet import WordNetLemmatizer\n",
    "from nltk.corpus import stopwords\n",
    "import time"
   ]
  },
  {
   "cell_type": "markdown",
   "metadata": {},
   "source": [
    "#### Importing my deduplicated dataset"
   ]
  },
  {
   "cell_type": "code",
   "execution_count": 2,
   "metadata": {},
   "outputs": [],
   "source": [
    "DATA_FILE = 'unique_data.json'\n",
    "\n",
    "def parse_json_file(json_file):\n",
    "    with open(json_file) as f:\n",
    "        json_parsed = f.readlines()\n",
    "    json_data = [json.loads(row) for row in json_parsed]\n",
    "    return json_data\n",
    "\n",
    "mydata = parse_json_file(DATA_FILE)[0]"
   ]
  },
  {
   "cell_type": "code",
   "execution_count": 3,
   "metadata": {},
   "outputs": [],
   "source": [
    "stories = [story['text'] for story in mydata]"
   ]
  },
  {
   "cell_type": "code",
   "execution_count": 4,
   "metadata": {
    "tags": []
   },
   "outputs": [
    {
     "output_type": "stream",
     "name": "stdout",
     "text": "iOS 14 Will Support All iPhone Models That Run iOS 13, Including iPhone 6s Series: Report iOS 14 Will Support All iPhone Models That Run iOS 13, Including iPhone 6s Series: Report Apple will reportedly provide iOS 14 as the last major update on the iPhone 6s series and the iPhone SE. By Jagmeet Singh | Updated: 3 June 2020 12:28 IST Apple is hosting its WWDC on June 22 where we expect the formal launch of iOS 14 Highlights iOS 14 compatible devices list could include iPhone 6s and iPhone 6s Plus iPhone 7 series will reportedly receive updates until iOS 16 Apple is likely to release a beta version of iOS 14 following its launch\nApple will reportedly support iOS 14 for all iPhone models that can run iOS 13. This suggests that the Cupertino giant wouldn't make any changes in the list of compatible devices for the next iOS version from what it offered last year. The new development is, of course, good news for iPhone 6s and iPhone 6s Plus users as they both were launched with iOS 9 in September 2015. Apple is hosting its WWDC event later this month where we're likely to get an official word on the compatibility of iOS 14.\nIsraeli website The Verifier, on the basis of the early development code of iOS 14 and citing a person familiar with the development, wrote that the next iOS version will be compatible with all the iPhone models that were supported by iOS 13 . The list includes the iPhone 6s , iPhone 6s Plus , iPhone SE , iPhone 7 , iPhone 7 Plus , iPhone 8 , iPhone 8 Plus , iPhone X , iPhone XR , iPhone XS , and iPhone XS Max . The list also includes the newer devices, namely the iPhone 11 , iPhone 11 Pro , iPhone 11 Pro Max , and the iPhone SE (2020) , as well as the seventh-generation iPod touch.\nThe report also mentions that iOS 14 will be the last major update for the iPhone 6s series and the iPhone SE, while the iPhone 7 and iPhone 7 Plus will receive two additional updates after iOS 14. This suggests that the iPhone 7 series may be eligible for even iOS 16 in 2022. iOS 14 May Bring a Redesigned Multitasking Interface to iPhone\nApple hasn't provided any details about iOS 14. However, the company is expected to announce the new operating system for its mobile devices at WWDC 2020 on June 22 .\nIf the rollout proceeds as in the past, then iOS 14 would initially be offered in a beta version after the WWDC announcement later this month. It will then reach the stable release stage later this year — during the iPhone 12 launch, looking at the rollout in previous years.\nAn earlier report claimed that iOS 14 will come with a new Clips feature that would let users preview or test applications before installing them on their devices. The new iOS version is also rumoured to come with an enhanced iCloud Keychain and include redesigned wallpaper settings .\n\nin: News iPhone Looters Receives Being Tracked, Gets Warning From Apple After Opening Stolen Phones\niPhone LOOTERS BEING TRACKED – Following the death of George Floyd, several protests have erupted throughout the United States.\nPeople from different walks of life have banded together and protested against police brutality and injustice. However, there were several cases of bad actors capitalizing on the cause for their own gain.\nRioters began to burn down small businesses and looting became rampant. There was even a case where a policeman was caught looting Nike Shoes during a protest. Image from: Twitter\nMeanwhile, one of the stores heavily hit by the looting was Apple stores. With their range of premium products, they were a prime target for the hungry looters. However, little did they know that the phones could actually lead to their arrest.\nApple has been known to place proximity software on phones illegally taken from their stores. But, the software has seen little use as security within Apple stores are usually tight. Image from: Business Insider\nBut, this changed when people began looting for iPhones. However, after turning on the device, it simply said:\n“This device has been disabled and is being tracked”“Local authorities will be alerted”\nEven with this, there were still some mixed reactions on social media. Others have used this as an opportunity to promote their side business of unlocking iPhones. Meanwhile, others turned to memes to express their thoughts.\nThere were also people in social media who defended the looting. One user said that “stealing from a multi-billion-dollar company is never a loss” even if you don’t get money.\nWhat do you think about this issue? Leave a comment below!\nThanks for reading. We aim to provide our readers with the freshest and most in-demand content. Come back next time for the latest news here on Philnews.\n\n"
    }
   ],
   "source": [
    "# View some of the text\n",
    "for story in stories[:2]:\n",
    "    print(story)\n",
    "    print()"
   ]
  },
  {
   "cell_type": "markdown",
   "metadata": {},
   "source": [
    "#### Building a Word Tokeenizer"
   ]
  },
  {
   "cell_type": "code",
   "execution_count": 5,
   "metadata": {},
   "outputs": [],
   "source": [
    "def tokenize_stories_lemma(story):\n",
    "    tokens = nltk.word_tokenize(story)\n",
    "    lmtzr = WordNetLemmatizer()\n",
    "    filtered_tokens = []\n",
    "\n",
    "    for token in tokens:\n",
    "        token = token.replace(\"'s\", \" \").replace(\"n't\", \" not\").replace(\"'ve\", \" have\")\n",
    "        token = re.sub(r'[^a-zA-Z0-9 ]', '', token)\n",
    "        if token not in stopwords.words('english'):\n",
    "            filtered_tokens.append(token.lower())\n",
    "    \n",
    "    lemmas = [lmtzr.lemmatize(t, 'v') for t in filtered_tokens]\n",
    "    return lemmas"
   ]
  },
  {
   "cell_type": "markdown",
   "metadata": {},
   "source": [
    "#### Building an LDA creator\n",
    "\n",
    "The LDA will run on unigrams only."
   ]
  },
  {
   "cell_type": "code",
   "execution_count": 17,
   "metadata": {},
   "outputs": [],
   "source": [
    "def clstr_lda(num_topics, stories, min_df, max_df, max_iter, max_features=10, n_top_words=10):\n",
    "    tic = time.clock()\n",
    "\n",
    "    \n",
    "    print('Tokenizing...')\n",
    "    # Create word vectors from stories\n",
    "    tf_vectorizer = CountVectorizer(max_df=max_df, min_df=min_df, max_features=max_features, tokenizer=tokenize_stories_lemma, ngram_range=(1, 1))\n",
    "    tf = tf_vectorizer.fit_transform(stories)\n",
    "    \n",
    "    toc = time.clock()\n",
    "    print('Tokenization finished in {} mins'.format((toc-tic)/60))\n",
    "\n",
    "    # Instantiate a LDA model\n",
    "    lda = LatentDirichletAllocation(n_components=num_topics, max_iter=max_iter, learning_method='batch', learning_offset=10, random_state=1)\n",
    "    # Using batch method since using on a massive dataset\n",
    "\n",
    "    print('Applying LDA model...')\n",
    "    tic = time.clock()\n",
    "    \n",
    "    lda.fit(tf)\n",
    "    tf_feature_names = tf_vectorizer.get_feature_names()\n",
    "\n",
    "    topics = dict()\n",
    "    for topic_idx, topic in enumerate(lda.components_):\n",
    "        topics[topic_idx] = [tf_feature_names[i] for i in topic.argsort()[:-n_top_words-1:-1]]\n",
    "        print(\"Topic \" + str(topic_idx))\n",
    "        print(\" | \".join([tf_feature_names[i] for i in topic.argsort()[:-n_top_words-1:-1]]))\n",
    "    \n",
    "\n",
    "    toc = time.clock()\n",
    "    print('Time taken to run LDA: {} mins'.format((toc-tic)/60))\n",
    "\n",
    "    return topics"
   ]
  },
  {
   "cell_type": "markdown",
   "metadata": {},
   "source": [
    "#### Training an LDA model"
   ]
  },
  {
   "cell_type": "code",
   "execution_count": 19,
   "metadata": {
    "tags": []
   },
   "outputs": [
    {
     "output_type": "stream",
     "name": "stdout",
     "text": "Tokenizing...\nTokenization finished in 38.622762644999966 mins\nApplying LDA model...\nTopic 0\n5g | keyboard | table\nTopic 1\nhbo | aapl | remote\nTopic 2\ntrump | remote | table\nTopic 3\ntable | ratio | aapl\nTopic 4\nlaptop | keyboard | ratio\nTime taken to run LDA: 0.183505718333375 mins\n"
    },
    {
     "output_type": "execute_result",
     "data": {
      "text/plain": "{0: ['5g', 'keyboard', 'table'],\n 1: ['hbo', 'aapl', 'remote'],\n 2: ['trump', 'remote', 'table'],\n 3: ['table', 'ratio', 'aapl'],\n 4: ['laptop', 'keyboard', 'ratio']}"
     },
     "metadata": {},
     "execution_count": 19
    }
   ],
   "source": [
    "clstr_lda(5, stories, min_df=100, max_df=500, max_iter=10, max_features=10, n_top_words=3)"
   ]
  },
  {
   "cell_type": "markdown",
   "metadata": {},
   "source": [
    "There seems to be too many topics as words such as ```keyboard``` and ```table``` show up in multiple topics. The keywords themselves perhaps could be more specific as well."
   ]
  },
  {
   "cell_type": "code",
   "execution_count": null,
   "metadata": {},
   "outputs": [],
   "source": []
  }
 ]
}