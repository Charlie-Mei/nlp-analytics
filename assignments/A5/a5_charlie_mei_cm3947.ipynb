{
 "cells": [
  {
   "cell_type": "markdown",
   "metadata": {},
   "source": [
    "## Assignment 5\n",
    "by Charlie Mei cm3947\n",
    "\n",
    "Select any one article from your Webhose dataset, and write a Python program (in Jypyter Notebook) to perform the following operations on the body of the article:\n",
    "\n",
    "- Extract and print subject-verb-object (SVO) relations from each sentence \n",
    "- Apply TextRank for ranking and selecting key phrases, print the result\n",
    "- Apply LexRank to produce an extractive summary of 5 sentences."
   ]
  },
  {
   "cell_type": "code",
   "execution_count": 1,
   "metadata": {},
   "outputs": [],
   "source": [
    "# A toolkit of all functions learnt in class so far\n",
    "import nlp_toolkit\n",
    "\n",
    "from urllib import request\n",
    "from bs4 import BeautifulSoup\n",
    "\n",
    "from nltk import sent_tokenize\n",
    "\n",
    "import spacy\n",
    "from spacy.util import minibatch, compounding\n",
    "from spacy.pipeline import SentenceSegmenter\n",
    "from spacy.lang.en.stop_words import STOP_WORDS\n",
    "\n",
    "from sumy.parsers.plaintext import PlaintextParser\n",
    "from sumy.parsers.html import HtmlParser\n",
    "from sumy.nlp.tokenizers import Tokenizer\n",
    "from sumy.summarizers.lex_rank import LexRankSummarizer"
   ]
  },
  {
   "cell_type": "markdown",
   "metadata": {},
   "source": [
    "### Cleaning text data from URL"
   ]
  },
  {
   "cell_type": "code",
   "execution_count": 2,
   "metadata": {
    "tags": []
   },
   "outputs": [
    {
     "output_type": "stream",
     "name": "stdout",
     "text": "National World Business Climate Change Sport Entertainment Life & Style Homed Travel Motoring Stuff Nation Play Stuff Quizzes Politics Premium Well & Good Food & Wine Parenting Rugby Farming Technology Opinion Auckland Wellington Canterbury Waikato Bay of Plenty Taranaki Manawatu Nelson Marlborough Timaru Otago Southland Careers Advertising Contact Privacy © 2020 Stuff Limited Entertainment TV & Radio 13 Reasons Why: The popular Netflix show's creator teases chance of a hopeful ending 14:49, Jun 03 2020 Facebook Twitter Whats App Reddit Email NETFLIX The final season of 13 Reasons Why is out. The controversial 13  Reasons Why is returning for its fourth and final season on Netflix from Friday and creator Brian Yorkey has indicated there will be a hopeful ending. Adapted from Jay Asher's 2007 novel, the show was released on Netflix in 2017 and began with the first season focused on the death of Hannah Baker, a 17-year-old American high school student who\n"
    }
   ],
   "source": [
    "url = 'https://www.stuff.co.nz/entertainment/tv-radio/300026661/13-reasons-why-the-popular-netflix-shows-creator-teases-chance-of-a-hopeful-ending'\n",
    "\n",
    "# Get all body text from the webpage\n",
    "html = request.urlopen(url).read()\n",
    "soup = BeautifulSoup(html, 'html.parser')\n",
    "data = soup.findAll(text=True)\n",
    "text = nlp_toolkit.text_from_html(html)\n",
    "print(text[:1000])"
   ]
  },
  {
   "cell_type": "markdown",
   "metadata": {},
   "source": [
    "### Extracting SVO relations from each sentence"
   ]
  },
  {
   "cell_type": "code",
   "execution_count": 4,
   "metadata": {},
   "outputs": [
    {
     "output_type": "execute_result",
     "data": {
      "text/plain": "[('suicide', 'set', 'tone'),\n ('netflix', 'edited', 'scene'),\n ('show', 'include', 'depression'),\n ('they', 'explore', 'themes'),\n ('cast', 'hold', 'tears'),\n ('foundation', 'urges', 'parents'),\n ('netflix', 'debuts', 'season'),\n ('we', 'follow', 'that'),\n ('yorkey', 'told', 'weekly'),\n ('covers', 'attracted', 'criticism'),\n ('glorifies', 'puts', 'people'),\n ('we', 'end', 'series'),\n ('it', 'earned', 'hope'),\n ('yorkey', 'told', 'weekly'),\n ('we', 'infuse', 'it'),\n ('ability', 'survive', 'moments'),\n ('ability', 'survive', 'ability'),\n ('we', 'achieved', 'that'),\n ('she', 'avoided', 'life'),\n ('robinson', 'found', 'dead'),\n ('speech', 'flouts', 'rules'),\n ('deal', 'mean', 'quiz'),\n ('harry', 'close', 'charity')]"
     },
     "metadata": {},
     "execution_count": 4
    }
   ],
   "source": [
    "nlp = spacy.load('en_core_web_sm')\n",
    "\n",
    "tok = nlp(text)\n",
    "svos = nlp_toolkit.findSVOs(tok)\n",
    "svos"
   ]
  },
  {
   "cell_type": "markdown",
   "metadata": {},
   "source": [
    "### Applying TextRank"
   ]
  },
  {
   "cell_type": "code",
   "execution_count": 5,
   "metadata": {
    "tags": []
   },
   "outputs": [
    {
     "output_type": "stream",
     "name": "stdout",
     "text": "season - 3.4231083734700563\nNetflix - 3.260140734440743\nseries - 2.803306912490849\nsuicide - 2.749014050157208\nStuff - 2.4637979443009472\ndeath - 2.0421209565412233\nlife - 1.9947319913216641\nEntertainment - 1.9766971899081658\nhope - 1.9306290719787125\nHannah - 1.8108652138618\nYorkey - 1.8025878973880944\nCareers - 1.6027340917248196\nLife - 1.4700500809308923\nending - 1.4406588958037738\nNation - 1.2714430964469017\nNeighbourly - 1.2709033061909092\nDeath - 1.2644049827550856\nNotices - 1.2610329251252157\nCoupons - 1.2604468685313464\nBaker - 1.2492870731489245\ncharity - 1.1947775877015232\nAdvertising - 1.1816943928705603\n"
    }
   ],
   "source": [
    "keyextractor = nlp_toolkit.TextRank4Keyword()\n",
    "keyextractor.analyze(text, candidate_pos=['NOUN', 'PROPN', 'ADP'], window_size=8)\n",
    "keyextractor.get_keywords(20)"
   ]
  },
  {
   "cell_type": "markdown",
   "metadata": {},
   "source": [
    "### LexRank Extractive Summary"
   ]
  },
  {
   "cell_type": "code",
   "execution_count": 6,
   "metadata": {},
   "outputs": [
    {
     "output_type": "execute_result",
     "data": {
      "text/plain": "'The controversial 13  Reasons Why is returning for its fourth and final season on Netflix from Friday and creator Brian Yorkey has indicated there will be a hopeful ending.NETFLIX Season four of 13 Reasons Why is out on Netflix on Friday.READ MORE: * 13 Reasons Why is coming to an end, and the cast can’t hold back tears * After Life: Ricky Gervais’ Netflix show speaks to Covid-19 life like nothing else * Mental Health Foundation urges parents to school up on suicide, as Netflix debuts a new season of 13 Reasons Why  \"Our North Star has always been that the inciting incident of the whole series is Hannah’s death and the tapes she leaves behind, and so we want to follow that to its logical conclusion and I think and hope that’s what we do in season 4,\" Yorkey told Entertainment Weekly .\"The series was born in darkness and as is often pointed out, it is a dark series, but we have always tried to infuse it with hope and with humor where we can, and we wanted to end on a note of hope that was earned and that was not forced and also not overly sunny in a way that wouldn’t be consistent with what had gone before.\"Yorkey also said he wanted the show to prove that \"real darkness\" could be overcome.'"
     },
     "metadata": {},
     "execution_count": 6
    }
   ],
   "source": [
    "textsummary = nlp_toolkit.TextSummary(text, num_sents=5)\n",
    "textsummary.output()"
   ]
  }
 ],
 "metadata": {
  "language_info": {
   "codemirror_mode": {
    "name": "ipython",
    "version": 3
   },
   "file_extension": ".py",
   "mimetype": "text/x-python",
   "name": "python",
   "nbconvert_exporter": "python",
   "pygments_lexer": "ipython3",
   "version": 3
  },
  "orig_nbformat": 2,
  "kernelspec": {
   "name": "python_defaultSpec_1593878040852",
   "display_name": "Python 3.7.6 64-bit ('base': conda)"
  }
 },
 "nbformat": 4,
 "nbformat_minor": 2
}