{
 "cells": [
  {
   "cell_type": "markdown",
   "metadata": {},
   "source": [
    "## Assignment 2\n",
    "\n",
    "By Charlie Mei (UNI: cm3947)\n",
    "\n",
    "### The Task\n",
    "\n",
    "Write a Python program that:\n",
    "- Reads JSON objects of newsfeeds from the data file into a list or an array of Python dictionaries (or a Pandas dataframe)\n",
    "- Prints the schema of the JSON object\n",
    "- Prints the number of newsfeeds (JSON objects) in the collection\n",
    "- Creates a set of unique newsfeeds by title and prints the new total collection size\n",
    "- Prints the latest 100 article titles and urls\n",
    "\n",
    "### My Response"
   ]
  },
  {
   "cell_type": "code",
   "execution_count": 1,
   "metadata": {},
   "outputs": [],
   "source": [
    "import json\n",
    "import pandas as pd\n",
    "from genson import SchemaBuilder\n",
    "import webhoseio"
   ]
  },
  {
   "cell_type": "markdown",
   "metadata": {},
   "source": [
    "#### Acquiring feeds for Amazon in the last 10 days and printing the number of newsfeeds"
   ]
  },
  {
   "cell_type": "code",
   "execution_count": 88,
   "metadata": {},
   "outputs": [],
   "source": [
    "# Configuration for my webhoseio\n",
    "webhoseio.config(token=\"ee3b1bdb-7d4b-4a0d-8465-59f05d96783f\")\n",
    "query_params = {\n",
    "    \"q\": \"organization:Amazon language:english\",\n",
    "    \"ts\": \"1591230943381\",\n",
    "    \"sort\": \"published\"\n",
    "}"
   ]
  },
  {
   "cell_type": "code",
   "execution_count": 89,
   "metadata": {},
   "outputs": [
    {
     "output_type": "execute_result",
     "data": {
      "text/plain": "100"
     },
     "metadata": {},
     "execution_count": 89
    }
   ],
   "source": [
    "# Get the first 100 feeds\n",
    "output = webhoseio.query(\"filterWebContent\", query_params)\n",
    "feeds = [item for item in output['posts']]\n",
    "len(feeds)"
   ]
  },
  {
   "cell_type": "code",
   "execution_count": 97,
   "metadata": {},
   "outputs": [
    {
     "output_type": "execute_result",
     "data": {
      "text/plain": "201.9"
     },
     "metadata": {},
     "execution_count": 97
    }
   ],
   "source": [
    "# How many more pages do we need?\n",
    "(output['totalResults'] - 100) / 100"
   ]
  },
  {
   "cell_type": "code",
   "execution_count": 94,
   "metadata": {},
   "outputs": [
    {
     "output_type": "execute_result",
     "data": {
      "text/plain": "20290"
     },
     "metadata": {},
     "execution_count": 94
    }
   ],
   "source": [
    "count = 202\n",
    "while count>0:\n",
    "    output = webhoseio.get_next()\n",
    "    for item in output['posts']:\n",
    "        feeds.append(item)\n",
    "    count -=1\n",
    "\n",
    "len(feeds)"
   ]
  },
  {
   "cell_type": "markdown",
   "metadata": {},
   "source": [
    "#### Acquiring the Schema of a feed"
   ]
  },
  {
   "cell_type": "code",
   "execution_count": 98,
   "metadata": {},
   "outputs": [
    {
     "output_type": "execute_result",
     "data": {
      "text/plain": "{'$schema': 'http://json-schema.org/schema#',\n 'type': 'object',\n 'properties': {'thread': {'type': 'object',\n   'properties': {'uuid': {'type': 'string'},\n    'url': {'type': 'string'},\n    'site_full': {'type': 'string'},\n    'site': {'type': 'string'},\n    'site_section': {'type': 'string'},\n    'site_categories': {'type': 'array'},\n    'section_title': {'type': 'string'},\n    'title': {'type': 'string'},\n    'title_full': {'type': 'string'},\n    'published': {'type': 'string'},\n    'replies_count': {'type': 'integer'},\n    'participants_count': {'type': 'integer'},\n    'site_type': {'type': 'string'},\n    'country': {'type': 'string'},\n    'spam_score': {'type': 'number'},\n    'main_image': {'type': 'null'},\n    'performance_score': {'type': 'integer'},\n    'domain_rank': {'type': 'null'},\n    'social': {'type': 'object',\n     'properties': {'facebook': {'type': 'object',\n       'properties': {'likes': {'type': 'integer'},\n        'comments': {'type': 'integer'},\n        'shares': {'type': 'integer'}},\n       'required': ['comments', 'likes', 'shares']},\n      'gplus': {'type': 'object',\n       'properties': {'shares': {'type': 'integer'}},\n       'required': ['shares']},\n      'pinterest': {'type': 'object',\n       'properties': {'shares': {'type': 'integer'}},\n       'required': ['shares']},\n      'linkedin': {'type': 'object',\n       'properties': {'shares': {'type': 'integer'}},\n       'required': ['shares']},\n      'stumbledupon': {'type': 'object',\n       'properties': {'shares': {'type': 'integer'}},\n       'required': ['shares']},\n      'vk': {'type': 'object',\n       'properties': {'shares': {'type': 'integer'}},\n       'required': ['shares']}},\n     'required': ['facebook',\n      'gplus',\n      'linkedin',\n      'pinterest',\n      'stumbledupon',\n      'vk']}},\n   'required': ['country',\n    'domain_rank',\n    'main_image',\n    'participants_count',\n    'performance_score',\n    'published',\n    'replies_count',\n    'section_title',\n    'site',\n    'site_categories',\n    'site_full',\n    'site_section',\n    'site_type',\n    'social',\n    'spam_score',\n    'title',\n    'title_full',\n    'url',\n    'uuid']},\n  'uuid': {'type': 'string'},\n  'url': {'type': 'string'},\n  'ord_in_thread': {'type': 'integer'},\n  'parent_url': {'type': 'null'},\n  'author': {'type': 'string'},\n  'published': {'type': 'string'},\n  'title': {'type': 'string'},\n  'text': {'type': 'string'},\n  'highlightText': {'type': 'string'},\n  'highlightTitle': {'type': 'string'},\n  'highlightThreadTitle': {'type': 'string'},\n  'language': {'type': 'string'},\n  'external_links': {'type': 'array'},\n  'external_images': {'type': 'array'},\n  'entities': {'type': 'object',\n   'properties': {'persons': {'type': 'array',\n     'items': {'type': 'object',\n      'properties': {'name': {'type': 'string'},\n       'sentiment': {'type': 'string'}},\n      'required': ['name', 'sentiment']}},\n    'organizations': {'type': 'array',\n     'items': {'type': 'object',\n      'properties': {'name': {'type': 'string'},\n       'sentiment': {'type': 'string'}},\n      'required': ['name', 'sentiment']}},\n    'locations': {'type': 'array',\n     'items': {'type': 'object',\n      'properties': {'name': {'type': 'string'},\n       'sentiment': {'type': 'string'}},\n      'required': ['name', 'sentiment']}}},\n   'required': ['locations', 'organizations', 'persons']},\n  'rating': {'type': 'null'},\n  'crawled': {'type': 'string'},\n  'updated': {'type': 'string'}},\n 'required': ['author',\n  'crawled',\n  'entities',\n  'external_images',\n  'external_links',\n  'highlightText',\n  'highlightThreadTitle',\n  'highlightTitle',\n  'language',\n  'ord_in_thread',\n  'parent_url',\n  'published',\n  'rating',\n  'text',\n  'thread',\n  'title',\n  'updated',\n  'url',\n  'uuid']}"
     },
     "metadata": {},
     "execution_count": 98
    }
   ],
   "source": [
    "# Get the keys and values from a proxy feed\n",
    "proxy = feeds[0]\n",
    "\n",
    "# Generate a schema builder from genson\n",
    "builder = SchemaBuilder()\n",
    "builder.add_object(proxy)\n",
    "builder.to_schema()"
   ]
  },
  {
   "cell_type": "markdown",
   "metadata": {},
   "source": [
    "#### What is the total number of feeds?"
   ]
  },
  {
   "cell_type": "code",
   "execution_count": 99,
   "metadata": {},
   "outputs": [
    {
     "output_type": "stream",
     "name": "stdout",
     "text": "There are a total of 20290 feeds.\n"
    }
   ],
   "source": [
    "# The number of feeds in the collection\n",
    "print(\"There are a total of \" + str(len(feeds)) + \" feeds.\")"
   ]
  },
  {
   "cell_type": "markdown",
   "metadata": {},
   "source": [
    "#### Creating a set of unique newsfeeds by title and prints the number of unique feeds"
   ]
  },
  {
   "cell_type": "code",
   "execution_count": 115,
   "metadata": {},
   "outputs": [
    {
     "output_type": "stream",
     "name": "stdout",
     "text": "There are 16246 unique feeds.\n"
    }
   ],
   "source": [
    "# Create a new dictionary with keys that are the titles\n",
    "unique_feeds = list({f['title']: f for f in feeds}.values())\n",
    "# Duplicate titles will just be rewritten over for the same key\n",
    "print(\"There are \" + str(len(unique_feeds)) + \" unique feeds.\")"
   ]
  },
  {
   "cell_type": "markdown",
   "metadata": {},
   "source": [
    "#### The title and url of the latest 100 feeds\n",
    "\n",
    "Latest feeds are defined as those with the latest *publish date*, so based on the ```published``` key field."
   ]
  },
  {
   "cell_type": "code",
   "execution_count": 116,
   "metadata": {},
   "outputs": [],
   "source": [
    "# Defining latest feeds as those with the latest PUBLISH DATE from the published key\n",
    "latest_feeds = sorted(unique_feeds, key=lambda x: x['published'], reverse=True)\n",
    "latest_100 = latest_feeds[:100]"
   ]
  },
  {
   "cell_type": "code",
   "execution_count": 117,
   "metadata": {
    "tags": [
     "outputPrepend"
    ]
   },
   "outputs": [
    {
     "output_type": "stream",
     "name": "stdout",
     "text": "Feed from: 2020-06-14T03:30:00.000+03:00\nNinja Air Fryer that Cooks, Crisps and Dehydrates $99: https://freebies2deals.com/2020/06/ninja-air-fryer-that-cooks-crisps-and-dehydrates-99.html\n\nFeed from: 2020-06-14T03:14:00.000+03:00\nAnchorseal 2 $28.47 at Woodcraft: https://slickdeals.net/f/14125592-anchorseal-2-28-47-at-woodcraft?utm_source=rss&utm_content=9&utm_medium=RSS2\n\nFeed from: 2020-06-14T03:11:00.000+03:00\nINTRODUCCIร“N ยฟQUร‰ ES EL DROPSHIPPING? en automรกtico con Ebay Amazon y eBot.: https://latiendadelapiar.blogspot.com/2020/06/introduccion-que-es-el-dropshipping-en.html\n\nFeed from: 2020-06-14T03:01:00.000+03:00\n27 Products Under $20 That Mean Business: https://www.buzzfeed.com/maitlandquitmeyer/products-under-20-that-mean-business-june-2020\n\nFeed from: 2020-06-14T03:00:00.000+03:00\nStar Wars Boba Fett The Black Series Helmet + Free Shipping $99.99: https://slickdeals.net/f/14125070-star-wars-boba-fett-the-black-series-helmet-free-shipping-99-99?utm_source=rss&utm_content=fp&utm_medium=RSS2\n\nFeed from: 2020-06-14T02:59:00.000+03:00\nRockstar Energy Drink -16 oz (24 pack) Sugar Free - $23.99 after coupon at Amazon: https://slickdeals.net/f/14125586-rockstar-energy-drink-16-oz-24-pack-sugar-free-23-99-after-coupon-at-amazon?utm_source=rss&utm_content=9&utm_medium=RSS2\n\nFeed from: 2020-06-14T02:41:00.000+03:00\n10 SFF Works by Black Authors: https://thegreatnoveladventure.wordpress.com/2020/06/13/10-sff-works-by-black-authors/\n\nFeed from: 2020-06-14T02:30:00.000+03:00\nBe Kind Tee – $10: https://www.pinchingyourpennies.com/kind-tee-10/\n\nFeed from: 2020-06-14T02:30:00.000+03:00\nBest Father’s Day 2020 Gifts Under $50: https://people.com/lifestyle/fathers-day-gifts-2020-amazon/\n\nFeed from: 2020-06-14T02:15:00.000+03:00\nGoogle Alert - images: https://imagesgoogleonline.blogspot.com/2020/06/google-alert-images_660.html\n\nFeed from: 2020-06-14T02:14:00.000+03:00\nA Weighty Subject: As Gyms Remain Closed, Barbells Reach Top Of Amazon Best Sellers: https://home.sparklight.com/player/category/news/article/wochit_news-a_weighty_subject_as_gyms_remain_closed_barbells_r-velephant\n\nFeed from: 2020-06-14T02:13:00.000+03:00\n300,000 Sign UP For Trump's Rally: http://lunaticoutpost.com/thread-192211.html\n\nFeed from: 2020-06-14T02:08:00.000+03:00\nGravity Defyer Sneakers Are Proven to Reduce Foot Pain: https://people.com/style/gravity-defyer-shoes-amazon/\n\nFeed from: 2020-06-14T02:08:00.000+03:00\nPermanent Laser Hair Removal for Women for $64.99 Shipped! (Reg. Price $129.99): https://thecouponboutique.com/permanent-laser-hair-removal-for-women-for-64-99-shipped-reg-price-129-99/\n\nFeed from: 2020-06-14T02:08:00.000+03:00\n5×8 Daily Planner 2020-2021 for $8.19 Shipped! (Reg.Price $37.97): https://thecouponboutique.com/5x8-daily-planner-2020-2021-for-8-19-shipped-reg-price-37-97/\n\nFeed from: 2020-06-14T02:06:00.000+03:00\nBusiness Listing UK Directory Website: https://internetmarketingbusinessblog.com/2020/06/13/business-listing-uk-directory-website/\n\nFeed from: 2020-06-14T02:04:00.000+03:00\nGeorge Floyd and Jesus: https://latreiaandpoliteia.wordpress.com/2020/06/13/george-floyd-and-jesus/\n\nFeed from: 2020-06-14T02:01:00.000+03:00\nLight #midnighthaiku: https://scvincent.com/2020/06/14/light-midnighthaiku-3/\n\nFeed from: 2020-06-14T02:00:00.000+03:00\nSleeveless Midi Dress $19.99: https://www.pinchingyourpennies.com/sleeveless-midi-dress-19-99/\n\nFeed from: 2020-06-14T02:00:00.000+03:00\nFather's Day gifts: save 25% on Bowers & Wilkins wireless headphones: https://www.whathifi.com/news/save-25-on-bowers-and-wilkins-wireless-headphones-for-fathers-day-2020\n\nFeed from: 2020-06-14T01:58:00.000+03:00\nDouble Wall Stainless Steel Vacuum Insulated Travel Mug w/ Lid & Straw: https://www.couponersunited.com/double-wall-stainless-steel-vacuum-insulated-travel-mug-w-lid-straw/\n\nFeed from: 2020-06-14T01:51:00.000+03:00\niHealth No-Touch Forehead Thermometer: https://www.couponersunited.com/ihealth-no-touch-forehead-thermometer/\n\nFeed from: 2020-06-14T01:50:00.000+03:00\n5-Count Crystal Light Pure Peach Iced Tea Drink Mix Pitcher Packs $2.40 + Free Shipping w/ Prime: https://slickdeals.net/f/14125502-5-count-crystal-light-pure-peach-iced-tea-drink-mix-pitcher-packs-2-40-free-shipping-w-prime?utm_source=rss&utm_content=ht&utm_medium=RSS2\n\nFeed from: 2020-06-14T01:48:00.000+03:00\nReports: Amazon Business Practices Under Scrutiny By California, Washington: https://sacramento.cbslocal.com/2020/06/13/reports-amazon-business-practices-under-scrutiny-by-california-washington/\n\nFeed from: 2020-06-14T01:45:00.000+03:00\nBulldog Original 2-in-1 Beard Shampoo and Conditioner, 200ml, £4 (Prime) + £4.49 NP @ Amazon: https://www.hotukdeals.com/deals/bulldog-original-2-in-1-beard-shampoo-and-conditioner-200ml-4-prime-at-amazon-3485030\n\nFeed from: 2020-06-14T01:45:00.000+03:00\nEVOC Stage Capture 16l rucksack £137.41 @ Amazon: https://www.hotukdeals.com/deals/evoc-stage-capture-16l-rucksack-3485027\n\nFeed from: 2020-06-14T01:38:00.000+03:00\nRonseal Interior Varnish Clear Satin 750ml £15.66+ £4.99 non prime @ Amazon: https://www.hotukdeals.com/deals/ronseal-interior-varnish-clear-satin-750ml-1566-499-non-prime-at-amazon-3485026\n\nFeed from: 2020-06-14T01:32:00.000+03:00\nVERSETILE: http://theshillongtimes.com/2020/06/14/versetile-51/\n\nFeed from: 2020-06-14T01:30:00.000+03:00\nIntex Floating Hoops Basketball Game $10: https://www.pinchingyourpennies.com/intex-floating-hoops-basketball-game-10/\n\nFeed from: 2020-06-14T01:30:00.000+03:00\nGoogle Alert - dvd movies online: https://dvdmoviesonlines.blogspot.com/2020/06/google-alert-dvd-movies-online_49.html\n\nFeed from: 2020-06-14T01:29:00.000+03:00\nUla raises $10.5mn in round led by Sequoia, Lightspeed India: https://indiaincgroup.com/ula-raises-10-5mn-in-round-led-by-sequoia-lightspeed-india/\n\nFeed from: 2020-06-14T01:24:00.000+03:00\n2-Pack Speed Stick Irish Spring Antiperspirant Deodorant, Original 2.7 Ounce - $2.83 FS w/ S&S (2 replies): https://slickdeals.net/f/14125478-2-pack-speed-stick-irish-spring-antiperspirant-deodorant-original-2-7-ounce-2-83-fs-w-s-s\n\nFeed from: 2020-06-14T01:24:00.000+03:00\n2-Pack Speed Stick Irish Spring Antiperspirant Deodorant, Original 2.7 Ounce - $2.83 FS w/ S: https://slickdeals.net/f/14125478-2-pack-speed-stick-irish-spring-antiperspirant-deodorant-original-2-7-ounce-2-83-fs-w-s-s?utm_source=rss&utm_content=9&utm_medium=RSS2\n\nFeed from: 2020-06-14T01:23:00.000+03:00\nTarget Dresses You’ll Want To Live In This Summer: https://cuteandlittle.com/target-summer-2020-dresses/\n\nFeed from: 2020-06-14T01:21:00.000+03:00\nTop 500 Favorite Songs, #240-231: https://intellectualthicket.wordpress.com/2020/06/13/top-500-favorite-songs-240-231/\n\nFeed from: 2020-06-14T01:20:00.000+03:00\na self-reflection.: https://fidelisdiem.com/2020/06/13/a-self-reflection/\n\nFeed from: 2020-06-14T01:20:00.000+03:00\nAmazon Has All the Cool Wall Art Your Home Is Missing - Shop Our 25 Affordable Favorites: https://gossipbucket.com/popsugar/1708924/amazon-cool-wall-art-home-missing-shop-our-25/\n\nFeed from: 2020-06-14T01:15:00.000+03:00\nFunko Plush Lion King Pumbaa Only $3.39 on Amazon (Regularly $11): https://hip2save.com/2020/06/13/funko-plush-lion-king-pumbaa-only-3-91-on-amazon-regularly-11/\n\nFeed from: 2020-06-14T01:13:00.000+03:00\nKasa Mini Smart Plug £13.99 with Amazon prime and £5.00 off voucher +£4.99 non prime @ Amazon: https://www.hotukdeals.com/deals/kasa-mini-smart-plug-1399-with-amazon-prime-and-500-off-voucher-499-non-prime-3485001\n\nFeed from: 2020-06-14T01:10:00.000+03:00\nColman's Original Mustard (8 x 170 g) £8 at Amazon (£7.60 with S&S / + £4.49 NP): https://www.hotukdeals.com/deals/colmans-original-mustard-8-x-170-g-8-at-amazon-760-with-ss-449-np-3485013\n\nFeed from: 2020-06-14T01:07:00.000+03:00\nTwin Pack - Suave Antiperspirant Deodorant, Wild Cherry Blossom 2.6 oz, - $2.24 FS w/ S: https://slickdeals.net/f/14125442-twin-pack-suave-antiperspirant-deodorant-wild-cherry-blossom-2-6-oz-2-24-fs-w-s-s?utm_source=rss&utm_content=9&utm_medium=RSS2\n\nFeed from: 2020-06-14T01:03:00.000+03:00\nDevo - Smooth Noodle Maps Deluxe Edition 2 x LP Neon Pink & Green Coloured 180g Vinyl Prime - £12.50 Prime / £15.49 non-Prime @ Amazon: https://www.hotukdeals.com/deals/devo-smooth-noodle-maps-deluxe-edition-2-x-lp-neon-pink-green-coloured-180g-vinyl-prime-1250-prime-1549-non-prime-at-amazon-3485009\n\nFeed from: 2020-06-14T01:01:00.000+03:00\nLoretta Chase - The Last Hellion: https://books-reading-vice.blogspot.com/2020/06/loretta-chase-last-hellion.html\n\nFeed from: 2020-06-14T01:00:00.000+03:00\nBarbie Color Reveal Doll with 7 Surprises $11.99: https://freebies2deals.com/2020/06/barbie-color-reveal-doll-with-7-surprises-11-99.html\n\nFeed from: 2020-06-14T01:00:00.000+03:00\nShhh: Secret sales you can only get as an Amazon Prime member—starting at $9: https://www.yahoo.com/lifestyle/prime-only-sales-203012883.html\n\nFeed from: 2020-06-14T00:59:00.000+03:00\nFacebook News is filled with stories too mainstream to do well on the rest of FB: https://news.ycombinator.com/item?id=23511055\n\nFeed from: 2020-06-14T00:58:00.000+03:00\nphones Father's Day in: https://www.cnet.com/news/the-best-phones-for-fathers-day-in-2020/\n\nFeed from: 2020-06-14T00:55:00.000+03:00\nPocket Monster TV: https://pokemon.fandom.com/wiki/Pocket_Monster_TV\n\nFeed from: 2020-06-14T00:50:00.000+03:00\nVictorinox Fibrox Pro Chef's Knife, 8-Inch Chef's FFP $28.86: https://slickdeals.net/f/14125109-victorinox-fibrox-pro-chef-s-knife-8-inch-chef-s-ffp-28-86?utm_source=rss&utm_content=fp&utm_medium=RSS2\n\nFeed from: 2020-06-14T00:44:00.000+03:00\nBoris Johnson urged to tax giants like Amazon to help ailing shops post-lockdown: https://www.mirror.co.uk/news/uk-news/boris-johnson-urged-tax-giants-22188624\n\nFeed from: 2020-06-14T00:43:00.000+03:00\nBlast from the past: Tamagotchi continues comeback with new 'Wonder Garden' toys: https://mynbc15.com/news/offbeat/blast-from-the-past-tamagotchi-continues-comeback-with-new-wonder-garden-toys\n\nFeed from: 2020-06-14T00:41:00.000+03:00\n#BlogTour The Summer We Ran Away by Jenny Oliver: https://cherylmmbookblog.blogspot.com/2020/06/blogtour-summer-we-ran-away-by-jenny.html\n\nFeed from: 2020-06-14T00:40:00.000+03:00\n#BlogTour The Summer We Ran Away by: https://mmcheryl.wordpress.com/2020/06/13/blogtour-the-summer-we-ran-away-by/\n\nFeed from: 2020-06-14T00:39:00.000+03:00\nWhat do you say to Mother Nature when she tells you , you are a witch.: http://lunaticoutpost.com/thread-192199.html\n\nFeed from: 2020-06-14T00:39:00.000+03:00\n'The Dukes of Hazzard' May Soon Be Removed by Amazon for Featuring the Confederate Flag: https://www.freerepublic.com/focus/f-news/3855301/posts\n\nFeed from: 2020-06-14T00:37:00.000+03:00\nBreaking...Video shows Atlanta Cops kill Black man --cold blood: http://lunaticoutpost.com/thread-192198.html\n\nFeed from: 2020-06-14T00:35:00.000+03:00\nNew World’s closed beta release set announced for July: https://gaminghardware0.wordpress.com/2020/06/13/new-worlds-closed-beta-release-set-announced-for-july/\n\nFeed from: 2020-06-14T00:34:00.000+03:00\nAnker PowerCore Essential 20000 PD USB C Portable Charger (18W) @Amazon $29.99 (0 replies): https://slickdeals.net/f/14125394-anker-powercore-essential-20000-pd-usb-c-portable-charger-18w-amazon-29-99\n\nFeed from: 2020-06-14T00:30:00.000+03:00\nYour lawn mower maintenance checklist: https://prostoknow.com/landscaping/article_ef323940-9595-11e7-8574-77089bea464b.html\n\nFeed from: 2020-06-14T00:28:00.000+03:00\nflorencepugh: WILD STRAWBERRIES (1957), dir. Ingmar...: https://florencepugh.tumblr.com/post/188350824155/wild-strawberries-1957-dir-ingmar-bergman\n\nFeed from: 2020-06-14T00:21:00.000+03:00\nSave up to 20% on metene products: http://www.dealcolossus.com/amazoncom/save-up-to-20-on-metene-products/\n\nFeed from: 2020-06-14T00:20:00.000+03:00\nWyze Labs Smart Home Starter Pack Just $79 Shipped (Regularly $117): https://hip2save.com/2020/06/13/wyze-labs-smart-home-starter-pack-just-79-shipped-regularly-117/\n\nFeed from: 2020-06-14T00:20:00.000+03:00\nReports: Amazon under scrutiny by California, Washington - News: https://www.cincinnatibell.net/news/read/category/News/article/the_associated_press-reports_amazon_under_scrutiny_by_california_washin-ap\n\nFeed from: 2020-06-14T00:17:00.000+03:00\nAvisering från Google – Shania Twain: https://newsflyers.blogspot.com/2020/06/avisering-fran-google-shania-twain_42.html\n\nFeed from: 2020-06-14T00:13:00.000+03:00\nFacebook Fires Employee Who Criticised Coworker’s BLM Response, Protested Inaction on Trump Post: https://www.gizmodo.com.au/2020/06/facebook-fires-employee-who-criticised-coworkers-blm-response-protested-inaction-on-trump-post/\n\nFeed from: 2020-06-14T00:13:00.000+03:00\nFacebook Fires Employee Who Criticized Coworker's BLM Response, Protested Inaction on Trump Post: https://gizmodo.com/facebook-fires-employee-who-criticized-coworkers-blm-re-1844026489\n\nFeed from: 2020-06-14T00:07:00.000+03:00\nNew World player housing preview: how your homes will matter: https://www.pcgamer.com/new-world-player-housing-preview-how-your-homes-will-matter/\n\nFeed from: 2020-06-14T00:06:00.000+03:00\nThis Hammock Pool Float Has An Inner Spring For Added Stability And I Need It In My Life: https://totallythebomb.com/hammock-pool-float\n\nFeed from: 2020-06-14T00:05:00.000+03:00\nEXTRA 30% OFF must-shop 🔝 brands: https://bangondeals.blogspot.com/2020/06/extra-30-off-must-shop-brands.html\n\nFeed from: 2020-06-14T00:05:00.000+03:00\nAOC raises $10.5 million ahead of heated June 23 primary: https://www.freerepublic.com/focus/f-news/3855288/posts\n\nFeed from: 2020-06-14T00:03:00.000+03:00\nThe best TVs and streaming devices for Father's Day 2020: https://www.cnet.com/news/the-best-tvs-and-streaming-devices-for-fathers-day-2020/\n\nFeed from: 2020-06-14T00:00:00.000+03:00\nHow to use an Echo Show with Ring's Doorbell to see who's at the door: https://www.androidcentral.com/how-use-amazon-echo-show-ring-doorbell\n\nFeed from: 2020-06-14T00:00:00.000+03:00\nDunlop 3mm Big Stubby Picks 6-pack Only $2.69 on Amazon (Regularly $5): https://hip2save.com/2020/06/13/dunlop-3mm-big-stubby-picks-6-pack-only-2-69-on-amazon-regularly-5/\n\nFeed from: 2020-06-14T00:00:00.000+03:00\nBANZAI 14ft x 14ft Homerun Splash Baseball Slide $30: https://www.pinchingyourpennies.com/banzai-14ft-x-14ft-homerun-splash-baseball-slide-30/\n\nFeed from: 2020-06-14T00:00:00.000+03:00\nAmazon’s Most Wanted Beauty Product Is a Sugar Scrub: https://people.com/beauty/tree-hut-shea-sugar-scrub-amazon/\n\nFeed from: 2020-06-13T23:59:00.000+03:00\nWHAT THE HELL ***YOU*** LOOKIN’ AT? (Part Three): http://www.watcherofweasels.org/what-the-hell-you-lookin-at-part-three/\n\nFeed from: 2020-06-13T23:51:00.000+03:00\nEdith Nebitt - The Railway Children Kindle Edition - Free @ Amazon: https://www.hotukdeals.com/deals/edith-nebitt-the-railway-children-kindle-edition-free-at-amazon-3484974\n\nFeed from: 2020-06-13T23:51:00.000+03:00\nAmazon is having a big sale on Roomba vacuums — save up to $300: https://www.yahoo.com/lifestyle/roomba-sale-205159767.html\n\nFeed from: 2020-06-13T23:49:00.000+03:00\nNew World Shows Off Combat, Announces Closed Beta Date: https://comicbook.com/gaming/news/new-world-combat-trailer-closed-beta-date/\n\nFeed from: 2020-06-13T23:46:00.000+03:00\nGalaxy Note 10+ is the latest Samsung device to go on sale: https://www.phonedog.com/2020/06/13/galaxy-note-10-plus-sale\n\nFeed from: 2020-06-13T23:45:00.000+03:00\nQuaker Big Chewy Chocolate Chip Granola Bar (5-Pack), 7.4 Ounce $2 FS w/ Prime: https://slickdeals.net/f/14125313-quaker-big-chewy-chocolate-chip-granola-bar-5-pack-7-4-ounce-2-fs-w-prime?utm_source=rss&utm_content=9&utm_medium=RSS2\n\nFeed from: 2020-06-13T23:45:00.000+03:00\nQuaker Big Chewy Chocolate Chip Granola Bar (5-Pack), 7.4 Ounce $2 FS w/ Prime (1 replies): https://slickdeals.net/f/14125313-quaker-big-chewy-chocolate-chip-granola-bar-5-pack-7-4-ounce-2-fs-w-prime\n\nFeed from: 2020-06-13T23:41:00.000+03:00\nAmazon: Get $25 Bonus w/ $100 Gift Cards Purchase (YMMV), Etc.: https://www.hustlermoneyblog.com/amazon-mastercard-credit/\n\nFeed from: 2020-06-13T23:41:00.000+03:00\nTech companies push for nationwide facial recognition law. Now comes the hard part – CNN: http://worldnewsnetwork.co.in/tech-companies-push-for-nationwide-facial-recognition-law-now-comes-the-hard-part-cnn/\n\nFeed from: 2020-06-13T23:39:00.000+03:00\nAmazon Fire TV Cube 2nd-Gen is on sale for $99.99: https://www.aftvnews.com/amazon-fire-tv-cube-2nd-gen-is-on-sale-for-99-99/\n\nFeed from: 2020-06-13T23:38:00.000+03:00\nPritt Stick 3 x 22g - £2.75 at Amazon (£2.61 with S&S / + £4.49 non Prime): https://www.hotukdeals.com/deals/pritt-stick-3-x-22g-275-at-amazon-261-with-ss-449-np-3484966\n\nFeed from: 2020-06-13T23:36:00.000+03:00\nAmazon: $19.77 Choosy Chef Magnetic Cheeseboard w/Utensils (reg. $36.95; SAVE 46%): https://www.couponaholic.net/2020/06/amazon-19-77-choosy-chef-magnetic-cheeseboard-w-utensils-reg-36-95-save-46/\n\nFeed from: 2020-06-13T23:34:00.000+03:00\nRock, Paper, Shotgun: Amazon's MMO New World is getting a closed beta next month: http://www.virginworlds.com/reader.php?solo=289490\n\nFeed from: 2020-06-13T23:33:00.000+03:00\nRacial Justice: Resources for Kids: https://katherinemuseus.wordpress.com/2020/06/13/racial-justice-resources-for-kids/\n\nFeed from: 2020-06-13T23:33:00.000+03:00\nAmazon: $52.99 BSTY 8-Quart 13-in-1 Pressure Cooker (reg. $105.99; AWESOME Reviews!): https://www.couponaholic.net/2020/06/amazon-52-99-bsty-8-quart-13-in-1-pressure-cooker-reg-105-99-awesome-reviews/\n\nFeed from: 2020-06-13T23:31:00.000+03:00\nAmazon: $84.99 Elechomes Pro Series Large Room Air Purifier (reg. $169.99; SAVE 50%): https://www.couponaholic.net/2020/06/amazon-84-99-elechomes-pro-series-large-room-air-purifier-reg-169-99-save-50/\n\nFeed from: 2020-06-13T23:29:00.000+03:00\nAmazon's MMO New World is getting a closed beta next month: https://www.rockpapershotgun.com/2020/06/13/amazons-mmo-new-world-is-getting-a-closed-beta-next-month/\n\nFeed from: 2020-06-13T23:29:00.000+03:00\nNot known Details About best stock trading podcast reddit: http://free-online-trading-lesso43207.fitnell.com/31828436/not-known-details-about-best-stock-trading-podcast-reddit\n\nFeed from: 2020-06-13T23:29:00.000+03:00\nAmazon: $6.95 Ultimate Essential Oil Roller Bottles 6-pack (reg. $12.95; SAVE 46%): https://www.couponaholic.net/2020/06/amazon-6-95-ultimate-essential-oil-roller-bottles-6-pack-reg-12-95-save-46/\n\nFeed from: 2020-06-13T23:28:00.000+03:00\n122° - Ibiyaya Gourd Pet House (Triangle or Zig-zag design) £7.19 (+£2.95 P&P) @ Pet & Country Store: https://www.hotukdeals.com/deals/ibiyaya-gourd-pet-house-triangle-or-zig-zag-design-719-295-pp-at-pet-country-store-3484840\n\nFeed from: 2020-06-13T23:27:00.000+03:00\nAmazon: $8.39 100% Premium Wool Dryer Balls 6-pack (reg. $13.99; SAVE 40%): https://www.couponaholic.net/2020/06/amazon-8-39-100-premium-wool-dryer-balls-6-pack-reg-13-99-save-40/\n\nFeed from: 2020-06-13T23:26:00.000+03:00\nNew World gets another gameplay trailer and a beta date: https://www.pcinvasion.com/new-world-amazon-beta-gameplay/\n\nFeed from: 2020-06-13T23:25:00.000+03:00\nAmazon’s New World MMO enters closed beta in July: https://www.thesixthaxis.com/2020/06/13/amazons-new-world-mmo-enters-closed-beta-in-july/\n\nFeed from: 2020-06-13T23:25:00.000+03:00\nAmazon: $4.99 Shower Curtain Liner w/Rustproof Metal Grommets (reg. $9.99; SAVE 50%): https://www.couponaholic.net/2020/06/amazon-4-99-shower-curtain-liner-w-rustproof-metal-grommets-reg-9-99-save-50/\n\nFeed from: 2020-06-13T23:24:00.000+03:00\nIndiana labor chief resigns as feds say state too quickly cleared Amazon in worker death: https://www.southbendtribune.com/news/business/indiana-labor-chief-resigns-as-feds-say-state-too-quickly-cleared-amazon-in-worker-death/article_0589aa1e-adb4-11ea-a5ff-cf3af2e1b432.html\n\n"
    }
   ],
   "source": [
    "for feed in latest_100:\n",
    "    print(\"Feed from: \" + feed['published'])\n",
    "    print(feed['title'] + \": \" + feed['url'] + \"\\n\")"
   ]
  }
 ],
 "metadata": {
  "language_info": {
   "codemirror_mode": {
    "name": "ipython",
    "version": 3
   },
   "file_extension": ".py",
   "mimetype": "text/x-python",
   "name": "python",
   "nbconvert_exporter": "python",
   "pygments_lexer": "ipython3",
   "version": "3.7.6-final"
  },
  "orig_nbformat": 2,
  "kernelspec": {
   "name": "python3",
   "display_name": "Python 3"
  }
 },
 "nbformat": 4,
 "nbformat_minor": 2
}