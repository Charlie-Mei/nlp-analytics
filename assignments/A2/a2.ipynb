{
 "cells": [
  {
   "cell_type": "markdown",
   "metadata": {},
   "source": [
    "## Assignment 2\n",
    "\n",
    "By Charlie Mei (UNI: cm3947)\n",
    "\n",
    "### The Task\n",
    "\n",
    "Write a Python program that:\n",
    "- Reads JSON objects of newsfeeds from the data file into a list or an array of Python dictionaries (or a Pandas dataframe)\n",
    "- Prints the schema of the JSON object\n",
    "- Prints the number of newsfeeds (JSON objects) in the collection\n",
    "- Creates a set of unique newsfeeds by title and prints the new total collection size\n",
    "- Prints the latest 100 article titles and urls\n",
    "\n",
    "### My Response"
   ]
  },
  {
   "cell_type": "code",
   "execution_count": 11,
   "metadata": {},
   "outputs": [],
   "source": [
    "import json\n",
    "import pandas as pd\n",
    "from genson import SchemaBuilder"
   ]
  },
  {
   "cell_type": "markdown",
   "metadata": {},
   "source": [
    "#### Loading the data"
   ]
  },
  {
   "cell_type": "code",
   "execution_count": 2,
   "metadata": {},
   "outputs": [],
   "source": [
    "# Read in JSON object as a list of Python dictionaries\n",
    "with open('webhose_netflix.json') as f:\n",
    "    data = f.readlines()\n",
    "\n",
    "# Save feeds as a list of dictionaries\n",
    "feeds = [json.loads(feed) for feed in data]"
   ]
  },
  {
   "cell_type": "markdown",
   "metadata": {},
   "source": [
    "#### Acquiring the Schema of a feed"
   ]
  },
  {
   "cell_type": "code",
   "execution_count": 3,
   "metadata": {},
   "outputs": [
    {
     "output_type": "execute_result",
     "data": {
      "text/plain": "{'$schema': 'http://json-schema.org/schema#',\n 'type': 'object',\n 'properties': {'thread': {'type': 'object',\n   'properties': {'uuid': {'type': 'string'},\n    'url': {'type': 'string'},\n    'site_full': {'type': 'string'},\n    'site': {'type': 'string'},\n    'site_section': {'type': 'string'},\n    'site_categories': {'type': 'array', 'items': {'type': 'string'}},\n    'section_title': {'type': 'string'},\n    'title': {'type': 'string'},\n    'title_full': {'type': 'string'},\n    'published': {'type': 'string'},\n    'replies_count': {'type': 'integer'},\n    'participants_count': {'type': 'integer'},\n    'site_type': {'type': 'string'},\n    'country': {'type': 'string'},\n    'spam_score': {'type': 'number'},\n    'main_image': {'type': 'string'},\n    'performance_score': {'type': 'integer'},\n    'domain_rank': {'type': 'integer'},\n    'social': {'type': 'object',\n     'properties': {'facebook': {'type': 'object',\n       'properties': {'likes': {'type': 'integer'},\n        'comments': {'type': 'integer'},\n        'shares': {'type': 'integer'}},\n       'required': ['comments', 'likes', 'shares']},\n      'gplus': {'type': 'object',\n       'properties': {'shares': {'type': 'integer'}},\n       'required': ['shares']},\n      'pinterest': {'type': 'object',\n       'properties': {'shares': {'type': 'integer'}},\n       'required': ['shares']},\n      'linkedin': {'type': 'object',\n       'properties': {'shares': {'type': 'integer'}},\n       'required': ['shares']},\n      'stumbledupon': {'type': 'object',\n       'properties': {'shares': {'type': 'integer'}},\n       'required': ['shares']},\n      'vk': {'type': 'object',\n       'properties': {'shares': {'type': 'integer'}},\n       'required': ['shares']}},\n     'required': ['facebook',\n      'gplus',\n      'linkedin',\n      'pinterest',\n      'stumbledupon',\n      'vk']}},\n   'required': ['country',\n    'domain_rank',\n    'main_image',\n    'participants_count',\n    'performance_score',\n    'published',\n    'replies_count',\n    'section_title',\n    'site',\n    'site_categories',\n    'site_full',\n    'site_section',\n    'site_type',\n    'social',\n    'spam_score',\n    'title',\n    'title_full',\n    'url',\n    'uuid']},\n  'uuid': {'type': 'string'},\n  'url': {'type': 'string'},\n  'ord_in_thread': {'type': 'integer'},\n  'parent_url': {'type': 'null'},\n  'author': {'type': 'string'},\n  'published': {'type': 'string'},\n  'title': {'type': 'string'},\n  'text': {'type': 'string'},\n  'highlightText': {'type': 'string'},\n  'highlightTitle': {'type': 'string'},\n  'highlightThreadTitle': {'type': 'string'},\n  'language': {'type': 'string'},\n  'external_links': {'type': 'array'},\n  'external_images': {'type': 'array'},\n  'entities': {'type': 'object',\n   'properties': {'persons': {'type': 'array',\n     'items': {'type': 'object',\n      'properties': {'name': {'type': 'string'},\n       'sentiment': {'type': 'string'}},\n      'required': ['name', 'sentiment']}},\n    'organizations': {'type': 'array',\n     'items': {'type': 'object',\n      'properties': {'name': {'type': 'string'},\n       'sentiment': {'type': 'string'}},\n      'required': ['name', 'sentiment']}},\n    'locations': {'type': 'array'}},\n   'required': ['locations', 'organizations', 'persons']},\n  'rating': {'type': 'null'},\n  'crawled': {'type': 'string'}},\n 'required': ['author',\n  'crawled',\n  'entities',\n  'external_images',\n  'external_links',\n  'highlightText',\n  'highlightThreadTitle',\n  'highlightTitle',\n  'language',\n  'ord_in_thread',\n  'parent_url',\n  'published',\n  'rating',\n  'text',\n  'thread',\n  'title',\n  'url',\n  'uuid']}"
     },
     "metadata": {},
     "execution_count": 3
    }
   ],
   "source": [
    "# Get the keys and values from a proxy feed\n",
    "proxy = feeds[0]\n",
    "\n",
    "# Generate a schema builder from genson\n",
    "builder = SchemaBuilder()\n",
    "builder.add_object(proxy)\n",
    "builder.to_schema()"
   ]
  },
  {
   "cell_type": "markdown",
   "metadata": {},
   "source": [
    "#### What is the total number of feeds?"
   ]
  },
  {
   "cell_type": "code",
   "execution_count": 4,
   "metadata": {},
   "outputs": [
    {
     "output_type": "stream",
     "name": "stdout",
     "text": "There is a total of 25288 feeds.\n"
    }
   ],
   "source": [
    "# The number of feeds in the collection\n",
    "print(\"There is a total of \" + str(len(feeds)) + \" feeds.\")"
   ]
  },
  {
   "cell_type": "markdown",
   "metadata": {},
   "source": [
    "#### Creating a set of unique newsfeeds by title and prints the number of unique feeds"
   ]
  },
  {
   "cell_type": "code",
   "execution_count": 5,
   "metadata": {},
   "outputs": [
    {
     "output_type": "stream",
     "name": "stdout",
     "text": "There are 19514 unique feeds.\n"
    }
   ],
   "source": [
    "# Create a new dictionary with keys that are the titles\n",
    "unique_feeds = list({feed['title']: feed for feed in feeds}.values())\n",
    "# Duplicate titles will just be rewritten over for the same key\n",
    "print(\"There are \" + str(len(unique_feeds)) + \" unique feeds.\")"
   ]
  },
  {
   "cell_type": "markdown",
   "metadata": {},
   "source": [
    "#### The title and url of the latest 100 feeds\n",
    "\n",
    "Latest feeds are defined as those with the latest *publish date*, so based on the ```published``` key field."
   ]
  },
  {
   "cell_type": "code",
   "execution_count": 6,
   "metadata": {},
   "outputs": [],
   "source": [
    "# Defining latest feeds as those with the latest PUBLISH DATE from the published key\n",
    "latest_feeds = sorted(unique_feeds, key=lambda x: x['published'], reverse=True)\n",
    "latest_100 = latest_feeds[:100]"
   ]
  },
  {
   "cell_type": "code",
   "execution_count": 8,
   "metadata": {
    "tags": [
     "outputPrepend"
    ]
   },
   "outputs": [
    {
     "output_type": "stream",
     "name": "stdout",
     "text": "Feed from: 2020-06-03T22:49:00.000+03:00\n13 Reasons Why: The popular Netflix show's creator teases chance of a hopeful ending: http://omgili.com/ri/.wHSUbtEfZSCvFgWhG.N__Y_kk6rEaYdjsrpI1bEeKmoCc0M_39dynSM56R6HIaYHQb2iaKLcfpCeAIHag3wvcOsuDtZvPdYxN1tBRxA4Hm8FSvJ6kVO10.ObZ3FpwSLKFW7k_06pIBSt.nChTTEKY1WdyGTuTmASa5H4UZHxGGOYFtRgQKk7rwvpg01M7EL\n\nFeed from: 2020-06-03T07:33:00.000+03:00\nA TV reboot of Bong Joon-ho's acclaimed film Snowpiercer has landed on Netflix — what's the deal?: http://omgili.com/ri/.wHSUbtEfZSvmJKugzHb_f4zAMZSmc0Tw9Lbg6dKYM_tvS.4yIw9SRIfO51Mo40h6m0sQe61rmlFUDUyIcFLalrWUdui2l2P3dAXZTJ8WgzqSPhKXeQQsD0AXKxkWg9T0GWSeWkd0reGCT8eynVmSw--\n\nFeed from: 2020-06-03T07:00:00.000+03:00\n2-Pack: Ideaworks Mosquito Killer Lamps (battery powered) 2 for $15: http://omgili.com/ri/.wHSUbtEfZTqX_2tXJqGoKlaYsSVurRxrDVEoi9Rqy_uXn2yaTd5VXr7oQuo19Jz12otJRKgTofI_TmTuBGdl2De3EZ2uAP8c8GF5JpdPwY-\n\nFeed from: 2020-06-03T06:45:00.000+03:00\nAlready-Obese Average Americans Have Drunk & Eaten Their Way To An Extra 5lbs During Lockdown: http://omgili.com/ri/.0rSU5LtMgwxhVu4uw52IUGPG4rk6XRGm8fl60c1R6_j8nrhcHznBxD06AWZlByEl935fnDGoOULqh1snMGn6_mW8A7YjAJxE_O1bZdtl8x0VAjVbe.o0AEyslKEUii23dbACjwyogRkSoH_xMT8lwlfWGn9BZdg1dV7sffXNwQ-\n\nFeed from: 2020-06-03T06:39:00.000+03:00\nNetflix, Disney join other big brands in support of George Floyd protests on 'Blackout Tuesday': http://omgili.com/ri/.wHSUbtEfZThiio0hiTRCuDRHUBYjhYkIQt01x3Mm2VVrRsQ0mQqAJ42KA7_HeQkzxh_TjoxtJ0c96EyuQ5eROlHc3fBtKdQG1vbPS2u6bGraZGM0QUYG1GGzjCOizzOo6N8o.ESPnp19uDUlZzvIVB9rQYyBp7TJl4.NWLmFQBy2ez4DXqwh6ndv3Hr_sw0Fq.txjxVfxk-\n\nFeed from: 2020-06-03T06:06:00.000+03:00\nNovel Entertainment's First Animated Feature-Length Horrid Henry Special to Air on Netflix – aNb Media: http://omgili.com/ri/.wHSUbtEfZSKGAN5cNsgLsyo0B_eSdvZukidd2VWvXGqTJnt6TWTfWRAm8889X56917.Kn2yuDaV7XtLrdMZNRFKNH0ntH1eK0ObsxOeYYo4.EFBO0zy.L_y8xNli6RMxbv93heyQl2ftPldpQ.do4Dchx_xJIzuKQg2y2T9dGM29oEM4Wcfsw--\n\nFeed from: 2020-06-03T05:58:00.000+03:00\nAnime Based On Best-Selling 1973 Disaster Novel, Japan Sinks: 2020 Lands On Netflix This July: http://omgili.com/ri/.wHSUbtEfZQWtoCKOsZc0dhs0QRu9BCGWjjZ1k1WSNxMMUVjIosbzjWY7kFWqbzDeYtM2.VpGIWqGwJqq1jxQePjPPebwGksI4tTAj4JdADhlqho4PS3cAG1qTYl12atkDMqREfaskOzcqT0aTn76U02.L1us2WC\n\nFeed from: 2020-06-03T05:57:00.000+03:00\nTiger King star Carole Baskin’s dead husband’s signature on his will was forged, says sheriff: http://omgili.com/ri/.wHSUbtEfZQD1RVKFqxhqwVEBNS8V3Eldhd3Q1d53R8oxr8HRy8sGhJRORdEQyFbIaNPePByWHScrEANdTJmJ1SzjMECk0NANh1cykjgcWs6fLpWE.hK7iOSjuFI5Z4VqNmVyNkHxjw-\n\nFeed from: 2020-06-03T05:42:00.000+03:00\nAll about Netflix’s sci-fi television shows we love: http://omgili.com/ri/.wHSUbtEfZRrqAH1UjXSpXrcopv5H2aVWPNSx8VCAU9jfJI4XXdwuTTpH_WZ4EG2YgtUH2GLWtIMUySH4nLECDU8_gn2FCE9mcqh1lwWcrqja6PVtMUUqA--\n\nFeed from: 2020-06-03T05:30:00.000+03:00\nFile:Federation starbase, 2230s.png: http://omgili.com/ri/.wHSUbtEfZQzgU.BYEgsHJEurA6bfH1CXqkeTJ38c3Sy2wCgMyxK5VUpyIZPHahAxXyDTUMut3EvP.Rh7r.mDyCkHrtN.unr\n\nFeed from: 2020-06-03T05:28:00.000+03:00\nnews: Reemerged documentary reveals reason behind Her Majesty’s iconic wave: http://omgili.com/ri/.wHSUbtEfZQ5KwN3j6K0SaRVt7ZUdZctL5qUptdbpky7ebZjioldflqzQqEjHEAVr_PrSB0cxYMsruTdHh0dCgDI6i3YE5MZtIWbxU6K1jfZOyVZTPesWaXsAoTDbQ9K_nzDixJmuhcG82pCM25XuNO5kz2Fgvy6\n\nFeed from: 2020-06-03T05:09:00.000+03:00\nSamsung TV Plus Launches LGBTQ+ Streaming Network Revry: http://omgili.com/ri/.wHSUbtEfZQvB0Ren7pZibxKwlTKEuecy2besUl74RGFdoZQRkkswwGk79sl9HGKTHlYBQLstoJiNPMBMNHsj9fdT7m0uxkGoNh9.Jt1Djg_cMR0ygCWIruUZaZFBKn.\n\nFeed from: 2020-06-03T05:07:00.000+03:00\nUS Says Will Investigate India, Other Nations Over Taxes on Tech Giants | Coastaldigest.com - The Trusted News Portal of India, Coastal Karnataka: http://omgili.com/ri/jHIAmI4hxg9p_UOqC.BTRToTMg5yjOrFfDBVNkTimcUxJIb.3NH2ynMdm22dbq.RSRIt9C.2VR71Il_hWs_y._pZYJWNEwoBZFosa.7WKuK.Fa4eLZ3G.L4qHaLTT_ozJT74y6FPJNw-\n\nFeed from: 2020-06-03T04:56:00.000+03:00\nCOMPACT PRO G3 | GAMING NATIVE HD SMART ANDROID MINI BLUETOOTH PROJECTOR: http://omgili.com/ri/.wHSUbtEfZRsKhd3t2BKyuMUqKQzyYJgJ29lWMRzIy7uFuyPXb.KRK.G0WdfkSeiewPT42nmTQx0.Tv202mb6RsUHkM93es3\n\nFeed from: 2020-06-03T04:28:00.000+03:00\nEven with Masterchef, programming more desert than dessert: http://omgili.com/ri/.wHSUbtEfZQnx.pKprvuwbg69SeiKcf9PcOI.nGMfOZJ9H23luObF5eJcnDjDj8YkdlIDQuL8R2i7Jl4uzhT6SQq1GPlF3R56_23dgnWuh84SCUZTwONRs9SmPcBkdUiuW3vtjRQCp4t0DoqEdgWUA--\n\nFeed from: 2020-06-03T04:15:00.000+03:00\nWho Is Abigail Koppel? Everything To Know About Billionaire Les Wexner's Wife Who's Charity Received Millions From Jeffrey Epstein Scandal: http://omgili.com/ri/.wHSUbtEfZRQ8TTpGdBoLB36f.LevkxY14BPUC85ZrmAqcd9uHDEEwrBWwrkvUJi_WVMvqHvbn7dIHvHIw6RB3HleDGsJlut4yjQJdsi7ZAiid298qF_2KZ9tR9zIfvOmZgpNCEfbYzLx_1pnp7CRcx7j42QP3n4dcUuKeZHHKG2rifIh3JT7Q--\n\nFeed from: 2020-06-03T04:12:00.000+03:00\nEgypt- Legendary director Youssef Chahine's films to: http://omgili.com/ri/.wHSUbtEfZRYvNcn2RnUd8hVlA.FngPhgZ5a42wFzqRRNX4eeW0qrN5Hz1WQl3UhcoVrkXuYdKx0WKtkFXPIvbf33aamPvN9TI1VCuRz_UC3snFzBHGsTNFZ26sZG1zINTca2XQ0G9Ds2E9u_oN9UA--\n\nFeed from: 2020-06-03T04:02:00.000+03:00\n“Hollywood” Gives 1940s Movie History an Interesting but Flawed Rewrite: http://omgili.com/ri/.wHSUbtEfZT2o9n_qqxW779oCnEMCGWDp3QSC0o_t5zFx8m.s_jTPaNg4cXw_qsqjw7PlYAKZm8XiVWMu6te82.MjqjXLoxONxXofPNR2ZeQnKxgds17ys.lr8EYJMqqR4RQfe_iUB1tqoglViGYtSk4BB21i0bi\n\nFeed from: 2020-06-03T04:00:00.000+03:00\nViz Media Brings ‘Megalobox’ Anime To Netflix: http://omgili.com/ri/.wHSUbtEfZRKlAOjaY1hqXKv.fAyWBP0NO8dzOHvWfsW3V9LL_x6lbxyCy6ZGmGducpCnQSMqX5Rzf0b0aEZ3nKRZLTdIklvQlOrAj9uV_qHtO91sHWBFw--\n\nFeed from: 2020-06-03T03:56:00.000+03:00\nNow that you have reached the end of Netflix...: http://omgili.com/ri/.wHSUbtEfZRns.wRzPAduw6fO74ec_SODXk6HM5Khz.DP8IlH4Fl6I0qYoiQyrEvXL_xFi0UbtU-\n\nFeed from: 2020-06-03T03:55:00.000+03:00\nFacebook and Twitter need more Peter Thiel and less Jack Dorsey: http://omgili.com/ri/.wHSUbtEfZQwU97HLU2a0.qaf5TL6eIY7u5bqKZi1xTEV96UBmLAHw_8NxAE7FEu2weIeKaICv3PUB.uIDJT1lgDTcnK0qbiV4be7TPJR_DdpfN1RPjzEdxyBUb96DHJ.5SFBrOJUNyQZpi.9x9Jkg--\n\nFeed from: 2020-06-03T03:50:00.000+03:00\nCompanies back ‘black lives  matter’ campaign: http://omgili.com/ri/.wHSUbtEfZRiDpHw2pFua177Xskmz1X0c5r7sfBXgkdfwysdIpYhiP6PV5uotO4Kp3jB339i_SsPHkmntUo5u6CnzJsJhIRo0PaIK.TLIHFPDpmiU.05U5xqNQu05TFMzifFA3m_kFM-\n\nFeed from: 2020-06-03T03:36:00.000+03:00\nLG 50\" Class 4K UHD 2160P Smart TV 50UN6950ZUF 2020 Model for $278: http://omgili.com/ri/.wHSUbtEfZSCskm_gl44z4jqEd7docXh5Om6uSxzxByhHR4IKgbqGIOSlb0m7eBD6yB4ol6YpDtR6lPL8bGLZbme.h15sZsSNqs_grMVDDQPMwFAAUbD6w--\n\nFeed from: 2020-06-03T03:21:00.000+03:00\nWalmart refuses to sell film on threat to free speech in America: http://omgili.com/ri/.wHSUbtEfZRUj3Dq8TgVCKSqt3yFPmcv4gSHRxMlEb_cJUADZNWoJvElDDStCvoYgbWhhfiIxpaMdGJClDJwlh3NHYA0gv5DtpRoWULuLxzhQxO9hDuz6g--\n\nFeed from: 2020-06-03T03:15:00.000+03:00\nThe will of 'Tiger King' star Carole Baskin's missing husband Don Lewis was forged, sheriff says: http://omgili.com/ri/.wHSUbtEfZSmdQCdG.r1hbDzkTQ7w4cT8Nia4M0sc2OuK3cr0Xfkk8Mm537NgHMvSDHDG7cNBle57SkGqZEJ73BuaXtALKcnqWcZBlcPl.dI64vpEjTaKNGaiJbIZRGDD4HuIChN6j4fE5FdZEeJx4L2EUDEy.f0\n\nFeed from: 2020-06-03T03:12:00.000+03:00\n'Black Lives Matter:' Netflix, HBO, and Amazon Prime Video voice their support | Showbiz: http://omgili.com/ri/.wHSUbtEfZT93nQ_4cToN1ascNeZdq.PvXBAKd_H4uqgNPURABqTw5f8BTbTBjhfOhGJ6J_bcRVM88x66so5pflok1eP_eaPe4hx_KLme0j4Q6mxSATkrYWSYwUfNzb2Y8thepzzj7P81N.U.w4ORRvmLg5gPj0Wkh9NhMwf0cuqSH.3iwvuJw--\n\nFeed from: 2020-06-03T03:02:00.000+03:00\nThe 9 best Showtime series you can watch right now: http://omgili.com/ri/.wHSUbtEfZRx.QesslmhJgMYAg.P33yQxbzfNTS4VQ6ypIQrLqxYu17kphZPn1ohi4rjag4rnnZWZceyCkDSFg--\n\nFeed from: 2020-06-03T03:00:00.000+03:00\nSteve Martin and Martin Short have rescheduled their 'The Funniest Show In Town...At The Moment' tour dates - 03-Jun-2020 - NZ Entertainment news: http://omgili.com/ri/.wHSUbtEfZTiK8pf51MwdFFZOh3plBciX4ure_LxSmUHGGefVKiKvUaQcWYjErrWo.yGZrPWR_v_zACcB.arlfebYX003JFO5ouGCnC0uGU-\n\nFeed from: 2020-06-03T03:00:00.000+03:00\n'Tiger King' star loses animal park to nemesis he tried to kill - Kogonuso: http://omgili.com/ri/.wHSUbtEfZQxX.eoYWnkJDPDonXpLrFpDsRalzpY1h377X9GnAeZ1rNc_d50KcKVraIFj4xCeRi7ZExfC.u_Sg8I1.jtUH4e6kzLEaAMHIBQzlF_Yq3v5Q--\n\nFeed from: 2020-06-03T03:00:00.000+03:00\n\"SAL VELEZ JR.\" The Baka Boyz Show on The City part of DASH Radio - KISS NWA: http://omgili.com/ri/.wHSUbtEfZTsnrROA5kwRRmmV..vGbT3.Oka0V7dW69eI.syLT_g1v_7TEtaXDAoqAOsccJI6LK96n40Gwe9qb_kwvRogx7IVMo58xYrZ9en7K4Inl75tQ--\n\nFeed from: 2020-06-03T03:00:00.000+03:00\nBBC’s own Beeb voice assistant enters beta trials: http://omgili.com/ri/.wHSUbtEfZRh5.iGfYdzc9xTKpfNhrmBCdYX1_6qpFxpjjnJrYzu8hukwTKJBcn84DHCFeTKSKaaVvp_GrSAGO8jeGZLgIwCNtbSkEjBPGrpz8PcwFBh75F8sqWpP.pYxyTC_nkyFQU-\n\nFeed from: 2020-06-03T03:00:00.000+03:00\nUnitedHeath Group, YouTube, Airbnb, Lyft Respond To Racial Strife With Donations 06/03/2020: http://omgili.com/ri/.wHSUbtEfZSXJy8QueI_F.rgDPDHzlca10ltCjZn2EdcwM7stKNGcuCHvQkwHZR6SLP7dweNzBA-\n\nFeed from: 2020-06-03T03:00:00.000+03:00\nJudge Gives Carole Baskin the Tiger King’s Zoo – غزة اليوم: http://omgili.com/ri/.wHSUbtEfZRnUVQFzL6ufb0QnHEjVT1nm3kxZXxqA20VYmQNLN15RB2QuWvUlOthvvNSd1ffGbEYIuElo4beZpUKwCbQE9QyQqTgaS3MawU-\n\nFeed from: 2020-06-03T03:00:00.000+03:00\nCountdown to the Captain’s ‘Crash Landing’ | Philstar.com: http://omgili.com/ri/.wHSUbtEfZQzFyRu04K8_621WXh_dmwO7_g5V2.leuJ5hYLRCQRhGbLA_4OCaS_7V4.4vA64_dszbENDPZkIejxCUISfZe6AzkyvrHOMTMlMeFmpqIeggSdZt553_GQB\n\nFeed from: 2020-06-03T03:00:00.000+03:00\nChoked is Anurag Kashyap's Most Accessible Film: Shabana Azmi - NDTV Movies: http://omgili.com/ri/.wHSUbtEfZSSzgR2UrK0iUGzFgz.G_163zEy1J3mqYU_QUjuwclF_h9HKmcbR0OoJRW33Zr2JIPTMYCdSYY1j9BukcDFY.TLvWD.BpUy4188t_5gRXZ113cnnh6wN3huIitDI8u1FX4-\n\nFeed from: 2020-06-03T03:00:00.000+03:00\nOwnership of Joe Exotic's zoo given to rival Carol Baskin from Tiger King | 1 NEWS | TVNZ: http://omgili.com/ri/.wHSUbtEfZRZ6Yu_8AIJ0wdzuD2CKrhubFKQJWvhI_9_pwtBUnoEXzrjEL0udwP7OzmiSWdgK.Vw44kI7WYlvCssRJC0rI3TeZxurSnk8lMkEDyUT9UizyNA2xylJG6ARwd6zyA2x0zf_FDRaXGVMg--\n\nFeed from: 2020-06-03T03:00:00.000+03:00\nGeorge Floyd death: Netflix, WarnerMedia, Ford, other brands take a strong stance: http://omgili.com/ri/.wHSUbtEfZRrQMwA9kyMdECN6ydOKXLqa5c2esDdn_cc57avt4KM.BYZARkd.X4KW9RxLSbA5JB0V6YqmISacyR.U5_20vlHsvWJcmGfbVYHMWIJ1aJNfqt8mro8MCsotYj9Qs00rIclrFuTDvHCrEe0G9cz_lDE2R8JbuEhK_8P_Dm5Q6r3OessrcgNrXM2\n\nFeed from: 2020-06-03T02:57:00.000+03:00\nDIVERSITY IN FILMMAKING VIRTUAL PANEL 3 RECAP: DIVERSITY IN ANIMATION: http://omgili.com/ri/vkc1Z8ITDMtq_o1SuVRHBlGH05xkrz.6xX7mMQ6zh6AJcLvmIlY.lFTgwDFbPPXfehVRH2YrjKl2QIgryWMCBs.mrGGTBPHkw.g7ZGkyiB1_urNz3rhN_Q--\n\nFeed from: 2020-06-03T02:47:00.000+03:00\nOut Now: adidas Originals x Angel Chen Ozweego: http://omgili.com/ri/7aBdisT0NOqNKUu70vMWSYhOKO7CjPpyR.eR46GyEX7DIqDyxHognBVpYuLjsI30KlpQT5_jMCdzqX1uWmVbtpyPsBcOt6wA8T0CiCwmTVM-\n\nFeed from: 2020-06-03T02:36:00.000+03:00\nNew: The 'Netflix for Jews': http://omgili.com/ri/.wHSUbtEfZRK2exrfIXZJMLbUt9q4ejNk8gKib1CWqZeCfSm0zHnTj3a21YB18baly8JuG79y7IuuR_zlLMNFw--\n\nFeed from: 2020-06-03T02:34:00.000+03:00\n‘13 Reasons Why,’ ‘The Twilight Zone,’ ‘El Presidente’: Five series not to be missed in June (VIDEO) | Showbiz: http://omgili.com/ri/.wHSUbtEfZT93nQ_4cToN1ascNeZdq.PvXBAKd_H4uqgNPURABqTw5f8BTbTBjhf8E94sFG5rHIDJxkg3byLaiAyQZAOQKQBRVGL4tMukNhHyT6pq5_L5EhHqSq5iCcXGYI8lrHftrcD9sxj6tBe82BbkY4fWdrMpVezK.Exa.OXLh6qS2foJw--\n\nFeed from: 2020-06-03T02:21:00.000+03:00\nWhat Should We Expect From Entertainment Companies When It Comes to Fighting Racism?: http://omgili.com/ri/.wHSUbtEfZQdMlTohNEFLFxeSp0qawGRb12tlQxTkNW2b1DNH2dnKIsb68sPt7zx0bceQi3amDJIpKj1fyVlhEwrFmts0LyS_K02VZsFtvXXLz6WxUT9Xaa8IVSy_wNf\n\nFeed from: 2020-06-03T02:15:00.000+03:00\nPeĂ§a portuguesa que viria festival pode ser vista na internet Ilustrada: http://omgili.com/ri/.wHSUbtEfZQcJiaUPDVDZqeANhp0TSjHQakDFPTSvkQvv1LvjfrdKkLcWJjRrH3Kbotrww07PWXfnxDy4m08RzEIODp8EKRqjUvOVddEwMt_vlYmj.kL6fC0TMKIE86RXCnCHHpDDfNMic7qUQCYj8mrur2e.zXLAwBSLYhXzAo-\n\nFeed from: 2020-06-03T02:12:00.000+03:00\nPinpoint Asset Management Ltd Acquires Shares of 12,106 Netflix, Inc. (NASDAQ:NFLX): http://omgili.com/ri/.wHSUbtEfZQhFfIFwbDJG1gzbbrPnjDG7.epld.u8Jo85yWSqRvF2hdUae37xfOy0vag4xSUQNQd2y_WQGJUJyBv81H6MTU7545tTsDbYkJdA1OG82ryJJB.HVIuyftMXTMnp1VywOI4IrSEfUsH8QH6_x9gKoOD\n\nFeed from: 2020-06-03T02:05:00.000+03:00\nFascinating study reveals which country has the best Netflix content: http://omgili.com/ri/.wHSUbtEfZTU5V.PWLzbcUHT6XZ3RUL9RiWhuQhnPChnxjd.aQL2UxC9tDhR3Ki2ZqIFtCc1PFI8HGBo6GLp1YtBO9EhQ6_cnWtXDFTEU467TzmSOdpPC3WCNOv.kqNQ\n\nFeed from: 2020-06-03T02:00:00.000+03:00\nReview: We’re Here Offers a Queen’s Eye View of America: http://omgili.com/ri/.wHSUbtEfZR5eYlI.UlKit356S4UjY__V8NtbDYC_4RzJouC.WO89KBHuAXseemLlUH2BSJrETLhRpWU3_aKbXf791oTe0fOCzfzJ22KSPk-\n\nFeed from: 2020-06-03T01:44:00.000+03:00\nUS To \"Investigate\" India, 9 Other Nations Over Tax On Online Firms: http://omgili.com/ri/.wHSUbtEfZRT8mhACjDa0WCDA75CiRnb3k_okmOqZVg2e4W.5Bo7a3gfQH08jhLSlRH5NpOfmPpQZ6zPHwUKQo.sUJhcWqFr887q5GiaUcrQm1J3IPZ3irq.0g8mPKvqG.Czwel9rtGAxVIDhrdxBg--\n\nFeed from: 2020-06-03T01:34:00.000+03:00\nNetflix, Inc. (NASDAQ:NFLX) Shares Sold by Toronto Dominion Bank: http://omgili.com/ri/.wHSUbtEfZQ5vy3q3jf4pUXuk7XA7dCZsK1oT_oIDkdeVkt9cHtdIUlwVwTe3Z.LcW.syPnDNN6Bq7vQ2Pw0Qvo..3YE_yHT9Do.zrqByEVUTniTBoes1CN2kaKU4zMaBfy4eA.i1o0xEuLKeFlTIQ--\n\nFeed from: 2020-06-03T01:29:00.000+03:00\nHow brands are managing social media while Instagram and Twitter protest with a 'blackout': http://omgili.com/ri/.wHSUbtEfZQU1NAlLgG2rBoML7FsZq6hrZW8O52wjtEpqRuNI3FldnvkpNtfMUhNBwBtVtczdcgQVDRLvrd.53I._BNYpN47Btk7LHEXkewP3FrR3fFTXQ8C_ZTHdDa7sBhNfpRyw9Nu_wP7x7fHMig1xL73.aywypdJRO51kU0-\n\nFeed from: 2020-06-03T01:22:00.000+03:00\nJudge awards the zoo in Netflix’s ‘Tiger King’: http://omgili.com/ri/.wHSUbtEfZRYvNcn2RnUd8hVlA.FngPh5QfyAFK5ndltd3fz3L3_msXgN5CHmcSb_CRiCUnAWFJRtRwpoYZqR7BRB45htFDEwvrAvHuQAloyZD6l4Ts3RTatExvWknBV\n\nFeed from: 2020-06-03T01:17:00.000+03:00\nFuller House: Season Six? Has the Netflix Series Been Cancelled or Renewed?: http://omgili.com/ri/.wHSUbtEfZT4U4IqP2SHMMSBZN54XNNz3xVVurDVy297t5uppLTGG7EztkL1PhGFqIzzOpRg8gAzNxcX4j9u8x5lkmP.kS4B4hxDTKeEfpCYm9AvyXIYN6kolwu8Ka1JIa4k_hCpH5EQ4YoQdq9DRw--\n\nFeed from: 2020-06-03T01:16:00.000+03:00\nAT&T defends HBO Max’s exclusion from data caps: http://omgili.com/ri/.wHSUbtEfZSnvpgZrQVM7DEOIGyN4REeIcVMPvgYB5iOMYCxyxz8ryuvTrqxMDVKNXt_n8_7xEUGn._AEKM7aGa4aWssTeKpwFP4f1WsIv92tALhhGJhOA--\n\nFeed from: 2020-06-03T01:13:00.000+03:00\nGood One Podcast: Hannah Gadsby on Douglas, Nanette: http://omgili.com/ri/.wHSUbtEfZTADvHmkdnt2XlbBPgTbg.lBGTjo_zw9otC_CNuKx3.Lp3efcsIjjG1qxGJ70qHJA0Xmyag8opcPZA1bWpaKmKK\n\nFeed from: 2020-06-03T01:10:00.000+03:00\n13 Reasons Why you should check to out Netflix this June: http://omgili.com/ri/.wHSUbtEfZSCvFgWhG.N__Y_kk6rEaYdjsrpI1bEeKmoCc0M_39dynSM56R6HIaYv33oPJ7LV04CHoxIclz_0lQJkgEeHrOCeyW3cVIr6JTqsbNyiAAvEpx5t_gwt7zhRAMgSjIe5HttWZvEXjGIvX5MwgAvarn3\n\nFeed from: 2020-06-03T01:05:00.000+03:00\nCook Off’s Netflix premiere awes Zimbos: http://omgili.com/ri/.wHSUbtEfZREJ0xl3Nto8OebN_QdoRF1g0y027uZG0OxOXHMUoEaaPpVUgCW88dgfnAtmLKnUuiPPvwZHqLJ1bf4J9G6LNmR\n\nFeed from: 2020-06-03T01:00:00.000+03:00\nReview: Central Park, Latest TV News - The New Paper: http://omgili.com/ri/.wHSUbtEfZRVvTBJJtOsvqq32iRMo97NEFlGWl7umltO8ODJCk6b9ANpl5tGGFRIGoUmUGemXaA-\n\nFeed from: 2020-06-03T01:00:00.000+03:00\nSpelling the Dream gives spotlight to Indian American champions: http://omgili.com/ri/.wHSUbtEfZQvYxQFuDfpPkr6rEleb_tn3riUsjssDaHu5TddiwYOngB7kSo3pI7bU5GiXfIcqmrIMhlWOZjFXaCfTYYnOycT5FSh55QR.gIU22Bp3.nrJzDIGJaMSRf0\n\nFeed from: 2020-06-03T01:00:00.000+03:00\nReview: Briarpatch, Latest TV News - The New Paper: http://omgili.com/ri/.wHSUbtEfZRVvTBJJtOsvqq32iRMo97NEFlGWl7umltO8ODJCk6b9PK4GRpVOW534Q30HoxSMkI-\n\nFeed from: 2020-06-03T00:48:00.000+03:00\nCarole Baskin awarded zoo of 'Tiger King' Joe Exotic, man who allegedly tried to have her killed - News: http://omgili.com/ri/.wHSUbtEfZQi9gXn_bDGqYir_CD.9bqVpOX8eywyZ7LfjnvY8pIwWBPR1yEfx5fhjq3CGPpit_60e3DXK1ZWMTbJ456vBGZ0L9o7ZZE1zzDbrPoES4BsgRDh3dPh7ifrp5AAVv894Z3Ws89_7SJmtz7IoKT9lV2d3fJK1HuY_kXPjVFK5PI.oZPADB9yy65IarEVC34exkE-\n\nFeed from: 2020-06-03T00:31:00.000+03:00\nWhen is I Am Not Okay With This season 2 released on Netflix?: http://omgili.com/ri/.wHSUbtEfZQD1RVKFqxhqwVEBNS8V3Eldhd3Q1d53R8oxr8HRy8sGqVLLqMMb0MOh.D4h1CdKI_qtAksI_y0XSDslIaDEiZ0n0.Ta2SVoqyixCy4VrrJZCZ0n61lHj8X\n\nFeed from: 2020-06-03T00:31:00.000+03:00\n8 States And D.C. Hold Primary Elections Amid Pandemic And Civil Unrest: http://omgili.com/ri/.wHSUbtEfZT3wNSv7XMZzgbTJTPR.Y9O7YFkFYjtYbEebeos.wsiOGCpUFD9NvDxST_4KW2W.m_0ZtJBPP4j09_on19NsA3IwKE.I5eQ6Lu9WGUCJoiBXXgRZm0VJJ9.ABjcNj16cyc-\n\nFeed from: 2020-06-03T00:31:00.000+03:00\nWhat It Is Like To Be Back To The Movie Theater: http://omgili.com/ri/.wHSUbtEfZT3wNSv7XMZzgbTJTPR.Y9Oj0YHfk0msWmBu3NwwCRLhMK5L8fwI46k2F3bMMJul3sJYWbrzjO2nw--\n\nFeed from: 2020-06-03T00:31:00.000+03:00\nChinese Communist Party Uses Scenes Of Violent Protests In The U.S. For Propaganda: http://omgili.com/ri/.wHSUbtEfZT3wNSv7XMZzgbTJTPR.Y9OXF1SJU8PiXn54uOyM9zFtBzE_e_HuUCOACuLeFwQi_i3BOUZ68JDFF9CPoDkYt_ugjTFI5eU02ylglDTKoT6dvYZ4Krrybo9\n\nFeed from: 2020-06-03T00:30:00.000+03:00\nComposer Will Bates (‘Hillary,’ ‘Unbelievable’): Scores treated as ‘cinematic experience’ [EXCLUSIVE VIDEO INTERVIEW]: http://omgili.com/ri/.wHSUbtEfZSUPVr_hEglFWmKJEN9kpynzI57ThX4NWG5LvbhsC5wYVXbAIV2kBzrlTia2olT968oSo_2TQharWDU2NzO25L5S6uU9BriV4r.mjYFZEtrjUsQzqy7d0h_APbMz4E8Npw-\n\nFeed from: 2020-06-03T00:30:00.000+03:00\nQueen of the South season 4 ending explained: What happened at the end?: http://omgili.com/ri/.wHSUbtEfZQ5KwN3j6K0SaRVt7ZUdZctm2wXueIz9N595o8Xxqpu9xHNlGdx3eqtTS1yPSpBS7A7U5cY8tZ1vx5cXABtBN8RV443Ow2Irctn4hf9xTiBTkWDjiN4GFigNVfATl9ZRxNNyg2qGBdHK_DOFh9WrnXEGba5m34OJUSmN46KusOvdHT9ebmaievT\n\nFeed from: 2020-06-03T00:28:00.000+03:00\nThe real reason The Last Airbender never got a sequel: http://omgili.com/ri/.wHSUbtEfZTiiBdaHeIciVuXe5CbEBjmXsnEA8H_j_Hxvraxuf01QOu.h9HtKHCzenB2hyydaJyqgknZUG_2qqIWEIoUBIYF7usNha1rA96k7d8kTf8EsA--\n\nFeed from: 2020-06-03T00:25:00.000+03:00\nThe underrated Adam Sandler movie burning up the Netflix charts right now: http://omgili.com/ri/.wHSUbtEfZTiiBdaHeIciVuXe5CbEBjm2BomQzOOTJQCb7DBXfDcWw3ysDrM4C2KM7RdP.QmzkfZSyYijPodjitW287YvLiolYO1SXOM3nnEv0lcuF.Q1q.fJBzAkW.0cKM1SAiAdlfDU1Z1vjJ5.w--\n\nFeed from: 2020-06-03T00:23:00.000+03:00\nHey, Where's Aunt Becky? Fuller House Has an Answer - entertainment: http://omgili.com/ri/.wHSUbtEfZQjxv7_rD5vI0InXygtb9hcNjAPTe5PohlRoSx87j6p3AbpDSqbHR.s14X3E0MTSiiV5unVkLrDbYcsXaYgHgbOdgyKL7WgYytLwNrbYo7HE2O5fyaspEph8c4MTLZ5uYO0cvfX0la3SYxsBV0nkoCdGJS9Vl_zrjUf4UEUL5Iz1A--\n\nFeed from: 2020-06-03T00:20:00.000+03:00\nNetflix, Inc. (NASDAQ:NFLX) Shares Bought by SeaCrest Wealth Management LLC: http://omgili.com/ri/.wHSUbtEfZQ5vy3q3jf4pUXuk7XA7dCZsK1oT_oIDkdeVkt9cHtdIUlwVwTe3Z.LcW.syPnDNN6Bq7vQ2Pw0Qvo..3YE_yHTgONKx1_SiiCJdVxQiS_ClGLUgjuJdn9LJrBaXL1zdFhruyw5_b8_KePTqeCh9el6mk_In9rFknU-\n\nFeed from: 2020-06-03T00:19:00.000+03:00\nNetflix is Adding Over 50 Movies in June: http://omgili.com/ri/.wHSUbtEfZRxQQCTSfmz1k0PHxx72qCeadNoot21nHKsH93bU4lNEfUo6DWogyrlpJhsdq0.p8Jy_kegzGx_bktQLXaYJMPk\n\nFeed from: 2020-06-02T23:54:00.000+03:00\nJeffrey Epstein: Filthy Rich - Ghislaine Maxwell a key figure in documentary but where is she?: http://omgili.com/ri/.wHSUbtEfZSCvFgWhG.N__Y_kk6rEaYdjsrpI1bEeKmoCc0M_39dynSM56R6HIaY.040bLJeWgdnsaIsmDB8MHkNtDnNqE6HZZ2PwIZ1.ev1Toso1q28raOleMhCi0H_SNqoQ_fmO.h3sfb8i5xoyymviabWxUQBceAq_z0P2O4Sww3bVd61Wg7Lgm9QgBdKAmj5Dprb8n8-\n\nFeed from: 2020-06-02T23:50:00.000+03:00\nOnePlus 8 Pro unable to play Netflix in HD quality: http://omgili.com/ri/.wHSUbtEfZTbjxh_usrrQXCwnqUp0fI3LSrM8B8f3nzbug5iDtnD9XiQyW7BS.w_VT3ZRNtx_6dl7QcWreeNWYwKkOzk3OVP2qvGcWtlXZ57pBJUtEelrj_A6gX2cq2e\n\nFeed from: 2020-06-02T23:48:00.000+03:00\nCarole Baskin awarded zoo of 'Tiger King' Joe Exotic, man who allegedly tried to have her killed - News - Austin American-Statesman - Austin, TX: http://omgili.com/ri/.wHSUbtEfZTUQLZqxBnUaRkDP698I9jpHG.qdy3fdsm4KVHVfQagnXpCn_LlHByzSmsU19ZyFRTxLp63GyaykP1fVTQakqiOgVo1puh2SzpjT3Uuk0339X2AKawzHYI7VlL0eMqMu_HPeqN7bjKTo782nsfvGxpYGisvUgCOQK2IzoyoM5Jt6ZGeNSltH_PN\n\nFeed from: 2020-06-02T23:42:00.000+03:00\nFuller House: Season Five Viewer Votes: http://omgili.com/ri/.wHSUbtEfZT4U4IqP2SHMMSBZN54XNNz3xVVurDVy297t5uppLTGG7EztkL1PhGFZeMGbNEuxqNRZyyOB7A97D_B49_.fy2MClllJonvXUQ-\n\nFeed from: 2020-06-02T23:39:00.000+03:00\nSeth Rogen is telling 'All Lives Matter' commenters on his Instagram to unfollow him and 'f--- off': http://omgili.com/ri/.wHSUbtEfZRIJjsdZnWKQK7sKPHORsfP9n1cjk8XEn2YzQ.Lcgj1dKJSMXM2OM76GrYge2WLisOocg.dFlIbP0z.NJNtUXu_sGWVOiaZBpmEGFC6zxp1OA--\n\nFeed from: 2020-06-02T23:39:00.000+03:00\nOur Sony Xperia 1 II video review is up: http://omgili.com/ri/.wHSUbtEfZRJ1SqriX_mz9ujeNOu4D4sqOuZbKNSFqyRrhwyoJ.OBrTCSsrLyFP_fXJOZWtYBPPplSkVNISVMQOS9kjbGfyBPKnQIeYSmhY-\n\nFeed from: 2020-06-02T23:38:00.000+03:00\nCarole Baskin Wins Control of ‘Tiger King’ Joe: http://omgili.com/ri/.wHSUbtEfZRYvNcn2RnUd8hVlA.FngPhWh00whbqD7.QMrB5MbryrA1LZpEPNgeNIpM5P7e6arxYi3E5hWDDdr9amyc.VbLjBOKjLDcyRQyMEYMCwiy_i3E06lNgkc0R6l86K_D8lL4-\n\nFeed from: 2020-06-02T23:30:00.000+03:00\n6 TV Shows Like Insecure You Must See: http://omgili.com/ri/.wHSUbtEfZTdo6KxL_vskvOCbqG7qMhlgfVFZQq2.c11J2nIj41qsUs09fclX068njxD.mkubpI-\n\nFeed from: 2020-06-02T23:17:00.000+03:00\nDreamWorks and Netflix present the final season of ‘She-Ra and the Princesses of Power’: http://omgili.com/ri/.wHSUbtEfZShuqU8OSon19N.X6UI.wZdy_Toc3pl4iW.CXXlEgz8ihAK9ziK0BiIO63xwYwsFnlrN5H1X6SgN_xSqkvqSIWvM7j6QcTO0xmVY4nQ1Q9PbTityv4E3Gkekqbr3Kw2YgJhqa7IsukHAfqAJnuDpUTA\n\nFeed from: 2020-06-02T23:14:00.000+03:00\n\"Tiger King's\" Carole Baskin Awarded Joe Exotic's Zoo By Court: http://omgili.com/ri/.wHSUbtEfZRULI3Cl7YN6_edc23dGJVHFynVwqXcFsXkHidBVwHhdxJPbebM1drUcieytEx.knx7mSyzIPUTO2rbYbtYkzjlxDzuLiIO_bSo604Eg0ni3oPo0fJ8g0Ls2iZSi0eSJsNi7I6VbugdCwawgXS0HblH\n\nFeed from: 2020-06-02T23:12:00.000+03:00\nJustInvest LLC Acquires New Holdings in Netflix, Inc. (NASDAQ:NFLX): http://omgili.com/ri/.wHSUbtEfZSy4qOhiG8rjyI6oqSsTRrKb9VHUAWJby4RlUViZcLEpLaOQ_8JrtdWakvPEpHLHFda8b9bkQC0uZwU7EVkL11FT0X1NXWdekaZ.Y4YjYkKZYNVZtU8GbNISXhOPJYj2SLo59bNuQXCMA--\n\nFeed from: 2020-06-02T23:12:00.000+03:00\nJustInvest LLC Invests $733,000 in Netflix, Inc. (NASDAQ:NFLX): http://omgili.com/ri/.wHSUbtEfZQd7fFNkO3aZ39i_t10jmwXd9wA470lKOq3P.xBx6LI1vBXHWpa0tjkWiO8fzJb68jq2DNj1gLiLriXGaTrTLA4qrb.GpX6gOVOws05UOLf1FWQSYJ2uDZ3_H7hqMpZxXI-\n\nFeed from: 2020-06-02T23:10:00.000+03:00\n✅ 150K MIX HQ MAIL ACCESS✨[MyCanal,Netflix,SFR,Orange,Minecraft,Steam,Psn,Canal]✨: http://omgili.com/ri/.wHSUbtEfZSstwaO1cbxDVWhHE.Sh8wR5lRiJDDgQqsAZkwHAkUtWpW517I_yljiKPboO.8AxpnCeIjtqBFg3YSkf4Znsl6MaRgg.4F7YVOqXGIcj1uRo27CV0cyHzfzgHsTIXc8G3vpUHC5qxKXAh9AbQWa9IW6BAWKuIEwphhiUmZMXSWQigY6kRV7F7ja\n\nFeed from: 2020-06-02T23:09:00.000+03:00\nCarole Baskin awarded Joe Exotic's former zoo: http://omgili.com/ri/.wHSUbtEfZRYvNcn2RnUd8hVlA.FngPhogMdqOebDkGn53sSpSeDB8f4p4BFYLV_FPDIo.EdMSyHiG1tpur468eC3YUrEGGs7cJ5MNnXMcO9h2AqQfdT3yoR0SuNsQacGgssS_tizWc-\n\nFeed from: 2020-06-02T23:05:00.000+03:00\nHere's where all of the main characters end up on 'Fuller House': http://omgili.com/ri/.wHSUbtEfZRIJjsdZnWKQK7sKPHORsfPnm3HG0uVNY5E8kP8Oami4oidLNH87YwwOQ.GA29i3Qlxwq3KSMRAiFdW_pOaxu.TKVMs9VcilK0-\n\nFeed from: 2020-06-02T23:02:00.000+03:00\nNovel Entertainment’s ‘Horrid Henry’ Special Airs On Netflix: http://omgili.com/ri/jHIAmI4hxg_dOvbX6dAs29C1niBU7oVdvOUWlto4RL2jkiPdOzbwN8m.vCidgV5BCsnqqC_rS1_S_rUDOMtDLIVvdT0i_kcRk_hsUvAX7iwqWQQBHkBZVb4ofvOnl62dRwBTUe4rKb03LEAd6zY9SA--\n\nFeed from: 2020-06-02T23:01:00.000+03:00\nStreaming HBO Max won’t count against your AT&T data limit, company confirms: http://omgili.com/ri/.wHSUbtEfZRFxmM.WvLouRptTX3wriD2jqRmAQw17twdu4Eu1OrRXv5_OFDpk3ENPwJIHdBwahBlFV2PgYd31iKbVNyvlnAw.PAAMJrD6UfJ.Fjd3W2RlpQw9SgcUE8mWcfoI.PTLU715FRmE_ATPA--\n\nFeed from: 2020-06-02T23:00:00.000+03:00\nSamantha Ware Calls Out Lea Michele's Performative Solidarity, Says Lea Made Her Life a 'Living Hell' on the Set of Glee: http://omgili.com/ri/.wHSUbtEfZSn361IEGObrQKVSl9eqhWveBJ05NJX8JDqHs0UJgtEY9Ccm2cCnD7qD1Nitb.NaZWfoa9B8.KkNVfF1hm_Xbv1q.Hlwm6s2ubM9DL7hs9Ea9I39XT0BqAGPM8mvZk0XZo-\n\nFeed from: 2020-06-02T22:57:00.000+03:00\nFuller House Mentions Lori Loughlin's Character in Final Episodes: http://omgili.com/ri/.wHSUbtEfZRQMgT413mwOg916QoqcqHz.ymtbz1ZGQmVOwFaC6cSbD.lZvWvhOalLuVqA.bgFI3Pi1n_fh4ScL8FYZwjsBVljGqkfe4qP9Rdlfq8kTy2HeoR0zNEiqme.TToDWAe5RYWx5UhNcHXsA--\n\nFeed from: 2020-06-02T22:55:00.000+03:00\nSelling Sunset: Who is Davina Potratz?: http://omgili.com/ri/.wHSUbtEfZQ5KwN3j6K0SaRVt7ZUdZctm2wXueIz9N595o8Xxqpu9xHNlGdx3eqtY8MQ_I46rsqkP8ioYLfm2vloYeK.tIdgZ15BGBljN7Yz.fR3EXjW9eL0WRiqNy.gLuMQXJOb5IeeI1QJkAgnNOe_m.JA4X1t9jG2qcRZvxs-\n\nFeed from: 2020-06-02T22:55:00.000+03:00\nNetflix’s ‘Space Force’ Top Rising Show, CW’s ‘Dynasty’ Again Top Binge on TV Time Charts: http://omgili.com/ri/.wHSUbtEfZSXJy8QueI_F1YRuruJeZunS98LGYFDsKWDOKOxYdT3yuTTEGDVmUlUSCmQdmetgebYZ.JmOxWwYb2GH7mhOVDS8JeEEqSd4oBIgdbo5hBxEzBWNwD_sCk6HUgKwqb0EzJX.5g29R8gYkcmz5_08hYZ\n\nFeed from: 2020-06-02T22:43:00.000+03:00\nThe 5 most anticipated TV shows returning in June are all on Netflix: http://omgili.com/ri/.wHSUbtEfZT1sa2cpLGZNO8D6xxQ7jxDjHSxclhRaEW4GEgaFaLzP_tEHrE5Nyld8GX_AkaAcyw1eG8VQBJn2g.lHlGut9cm5NIbnA5RxXDhWMZqtJlDd1Okx3B5OsyT9PEsmIm0tmPobMKi6VMlxY1M3cPbv5j8TFdLQgwEGtWActVlMduoy_r_9a9vLn3AVEpVMn2ERGG6rRr7AYuWTKPPob1zRKeb2nROt0pllMBUw7nJgV8avgTmXTos8Yw6h52cOlW2wGhLniUAb21Cd.75Hs01OrBg\n\nFeed from: 2020-06-02T22:43:00.000+03:00\nNetflix releases censored version of Vikings in India blurring scenes depicting nudity and meat: http://omgili.com/ri/.wHSUbtEfZTLz5ZDsqTjDNQ1yF4OY.4iM6JJp30dqtfhNi2In3N.OxafkgSPXqMQ1m4k1hgWPGxHIbgEQ7Y7grth0Rfdqhg5sTpmyXGioVhPAwsmsknes1_F5x5hEmgUP2mwZBTEVT6eSJQN8YamQBsrqvQOj7NFYlSzkVLenc0dzppGdyvtrb4TReFebHNN\n\nFeed from: 2020-06-02T22:41:00.000+03:00\nNetflix: Best TV and movies streaming in June 2020: http://omgili.com/ri/.wHSUbtEfZRj2zBbblOpDMyw6x8xfg10S6i.UiL9hZ5WMRnHct2O_CNlVw.nK6bPMVFG553iHLumYDVf5bnvtZX7gyIPf9DsNG_JXvFm4y3NI0QFfVd9uUIVkqGjd1pWwOkakfiB0QLC7SWGvFbJqg0UbtO6KcIq\n\nFeed from: 2020-06-02T22:36:00.000+03:00\nWT Wealth Management Boosts Stake in Netflix, Inc. (NASDAQ:NFLX): http://omgili.com/ri/.wHSUbtEfZSK45a0JjMsaPjMRNBpWaEZu4lXCgEFG2HsHJWwy94qRbEXa5TOlNGURfej2Wc0N6rXumG0m2exfxz0KltMKrVz1gx2J03Cqoj4IlNFRkWTButG.3GpGiblJIFWPDklCUCCkhHI4J2RSA--\n\nFeed from: 2020-06-02T22:36:00.000+03:00\nStream It – True Crime!: http://omgili.com/ri/.wHSUbtEfZQZ5Lhj8iyQDmJC8TjuVsjJO5NiwSM5C8Khagisnlrtp6AYNEPYcgmQpdyzRlI07S4_t8_pV1KWQw--\n\nFeed from: 2020-06-02T22:32:00.000+03:00\nNarcos Mexico: What do the real-life figures think of the series?: http://omgili.com/ri/.wHSUbtEfZQ5KwN3j6K0SaRVt7ZUdZctm2wXueIz9N595o8Xxqpu989aQpRVgNPgyYL02eEMFLcjRhYv3P4XwosYCyLtsB2ttom0dzWku6kaSbfK1Ui2FNNNohc5raQVZJsyU4X6XiiRLfdkIATzJgHVZfln7ECo88xe2ehW.HQ-\n\nFeed from: 2020-06-02T22:28:00.000+03:00\nWhy Police and Soldiers Love Frank Castle and ‘The Punisher’: http://omgili.com/ri/.wHSUbtEfZTADvHmkdnt2XlbBPgTbg.lBGTjo_zw9osXRGBVMGXlvGoH04y7VMB8vJRHpU9WYF0.MwGVVLTK3ICgXGdZQL2ANHLoeomkkXV81o7l.I6vIA--\n\nFeed from: 2020-06-02T22:24:00.000+03:00\nAmerican Pie: http://omgili.com/ri/.wHSUbtEfZThiio0hiTRCuDRHUBYjhYkZ0CTIoHMUAnU7Xg6.jaiCCTFpxds5lcjfWkkUcRpN_tn_Ro0wWY_gw--\n\nFeed from: 2020-06-02T22:17:00.000+03:00\nMarketers are embracing Black Lives Matter: http://omgili.com/ri/.wHSUbtEfZQRfU.5KUm1RqPpLJ8mhk7rqMVepNEqCN91H2.glmEtDfN5NSGLSxKZM2eIx41suZTTYnaHtVkBQHNe3CzuhvqYVFmdCAj13w3th4uDRV79Lw--\n\n"
    }
   ],
   "source": [
    "for feed in latest_100:\n",
    "    print(\"Feed from: \" + feed['published'])\n",
    "    print(feed['title'] + \": \" + feed['url'] + \"\\n\")"
   ]
  }
 ],
 "metadata": {
  "language_info": {
   "codemirror_mode": {
    "name": "ipython",
    "version": 3
   },
   "file_extension": ".py",
   "mimetype": "text/x-python",
   "name": "python",
   "nbconvert_exporter": "python",
   "pygments_lexer": "ipython3",
   "version": "3.7.6-final"
  },
  "orig_nbformat": 2,
  "kernelspec": {
   "name": "python3",
   "display_name": "Python 3"
  }
 },
 "nbformat": 4,
 "nbformat_minor": 2
}