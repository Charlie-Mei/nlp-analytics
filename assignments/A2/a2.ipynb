{
 "cells": [
  {
   "cell_type": "markdown",
   "metadata": {},
   "source": [
    "## Assignment 2\n",
    "\n",
    "### The Task\n",
    "\n",
    "Write a Python program that:\n",
    "- Reads JSON objects of newsfeeds from the data file into a list or an array of Python dictionaries (or a Pandas dataframe)\n",
    "- Prints the schema of the JSON object\n",
    "- Prints the number of newsfeeds (JSON objects) in the collection\n",
    "- Creates a set of unique newsfeeds by title and prints the new total collection size\n",
    "- Prints the latest 100 article titles and urls"
   ]
  },
  {
   "cell_type": "code",
   "execution_count": 1,
   "metadata": {},
   "outputs": [],
   "source": [
    "import json\n",
    "import pandas as pd"
   ]
  },
  {
   "cell_type": "code",
   "execution_count": 37,
   "metadata": {},
   "outputs": [
    {
     "output_type": "execute_result",
     "data": {
      "text/plain": "dict"
     },
     "metadata": {},
     "execution_count": 37
    }
   ],
   "source": [
    "# Read in JSON object as a list of Python dictionaries\n",
    "data = open('webhose_netflix.json').readlines()\n",
    "feeds = []\n",
    "\n",
    "for feed in data:\n",
    "    feeds.append(json.loads(feed))\n",
    "\n",
    "type(feeds[0])"
   ]
  },
  {
   "cell_type": "code",
   "execution_count": 93,
   "metadata": {},
   "outputs": [],
   "source": [
    "# Get the keys and values from a proxy feed\n",
    "proxy = feeds[10]\n",
    "keys = list(proxy.keys())\n",
    "\n",
    "types = []\n",
    "for key in keys:\n",
    "    types.append(type(proxy[key]))"
   ]
  },
  {
   "cell_type": "code",
   "execution_count": 95,
   "metadata": {},
   "outputs": [
    {
     "output_type": "stream",
     "name": "stdout",
     "text": "{'thread': <class 'dict'>, 'uuid': <class 'str'>, 'url': <class 'str'>, 'ord_in_thread': <class 'int'>, 'parent_url': <class 'NoneType'>, 'author': <class 'str'>, 'published': <class 'str'>, 'title': <class 'str'>, 'text': <class 'str'>, 'highlightText': <class 'str'>, 'highlightTitle': <class 'str'>, 'highlightThreadTitle': <class 'str'>, 'language': <class 'str'>, 'external_links': <class 'list'>, 'external_images': <class 'list'>, 'entities': <class 'dict'>, 'rating': <class 'NoneType'>, 'crawled': <class 'str'>}\n"
    }
   ],
   "source": [
    "# GEt the schema of the JSON object\n",
    "schema = dict(zip(keys, types))\n",
    "print(schema)"
   ]
  },
  {
   "cell_type": "code",
   "execution_count": 97,
   "metadata": {},
   "outputs": [
    {
     "output_type": "execute_result",
     "data": {
      "text/plain": "25288"
     },
     "metadata": {},
     "execution_count": 97
    }
   ],
   "source": [
    "# The number of feeds in the collection\n",
    "len(feeds)"
   ]
  },
  {
   "cell_type": "code",
   "execution_count": 106,
   "metadata": {},
   "outputs": [
    {
     "output_type": "execute_result",
     "data": {
      "text/plain": "{'thread': {'uuid': 'be66718983dc10930b3f6989ceb9d6db7aebad5d',\n  'url': 'http://omgili.com/ri/.wHSUbtEfZRSwGm5NuIQC3TzBmoSheXnqNRerZGFtWMNLaWhGR6m3JgBq8pocinWwLF6QWd3JIaV9xF3zw2Z.9qGW9vabRZisPHqbr6w8tJe6g3j7mM7eJ61r5b4pb5KcyR83hCgsUdJFsqTnCrpTQLoI.5IAuLD',\n  'site_full': 'www.newsizz.com',\n  'site': 'newsizz.com',\n  'site_section': '',\n  'site_categories': [],\n  'section_title': '',\n  'title': '',\n  'title_full': '',\n  'published': '2020-05-08T03:00:00.000+03:00',\n  'replies_count': 0,\n  'participants_count': 1,\n  'site_type': 'news',\n  'country': 'SG',\n  'spam_score': 0.586,\n  'main_image': 'https://www.thehindu.com/entertainment/movies/w33qu8/article31533214.ece/ALTERNATES/LANDSCAPE_615/money',\n  'performance_score': 0,\n  'domain_rank': None,\n  'social': {'facebook': {'likes': 0, 'comments': 0, 'shares': 0},\n   'gplus': {'shares': 0},\n   'pinterest': {'shares': 0},\n   'linkedin': {'shares': 0},\n   'stumbledupon': {'shares': 0},\n   'vk': {'shares': 0}}},\n 'uuid': 'be66718983dc10930b3f6989ceb9d6db7aebad5d',\n 'url': 'http://omgili.com/ri/.wHSUbtEfZRSwGm5NuIQC3TzBmoSheXnqNRerZGFtWMNLaWhGR6m3JgBq8pocinWwLF6QWd3JIaV9xF3zw2Z.9qGW9vabRZisPHqbr6w8tJe6g3j7mM7eJ61r5b4pb5KcyR83hCgsUdJFsqTnCrpTQLoI.5IAuLD',\n 'ord_in_thread': 0,\n 'parent_url': None,\n 'author': 'Narvirsinh Zala',\n 'published': '2020-05-08T03:00:00.000+03:00',\n 'title': '',\n 'text': '‘Vijay would be ideal as The Professor’: ‘Money Heist’ director Alex Rodrigo Share\\nSpanish crime thriller Money Heist on Netflix is a rage in India, with the latest season of the show also among the most-watched in the country during lockdown.\\nSeveral rumours have been abound that an Indian version of the show will soon be under production, with reports that everyone from Shah Rukh Khan to Ayushmann Khurrana have expressed interest in doing the remake. The latter even posted a recent Instagram video declaring that he would make a great Indian ‘Professor’.\\nHowever, during a recent interview with Money Heist director Alex Rodrigo on YouTube channel Behindwoods, the filmmaker himself picked Indian actors he’d like to cast in a desi remake of the show.\\nThe director was choosing the stars based on their appearance from pictures shown to him, of the Indian actors from all parts of the country.\\nRodrigo picked Tamil actor Vijay as a suitable fit for playing The Professor, and added that Ayushmann Khurrana would be apt as well. He chose Ajith to essay the role of Bogota.\\nThe filmmaker went to choose Bollywood actors Shah Rukh Khan to play Berlin, Ranveer Singh as Denver, Telugu superstar Mahesh Babu to take on the role of Tamayo, and Suriya to play Suarez!\\nRodrigo added that he was aware of Money Heist’s incredible fanbase in India thanks to his friend, actress Usha Jadhav, and thanked everyone for their response to the show. ',\n 'highlightText': '',\n 'highlightTitle': '',\n 'highlightThreadTitle': '',\n 'language': 'english',\n 'external_links': ['https://thehindu.com/entertainment/movies/ayushmann-khurrana-plays-money-heists-bella-ciao-on-piano/article31347989.ece',\n  'https://www.thehindu.com/entertainment/movies/ayushmann-khurrana-plays-money-heists-bella-ciao-on-piano/article31347989.ece'],\n 'external_images': [],\n 'entities': {'persons': [{'name': 'vijay', 'sentiment': 'none'},\n   {'name': 'alex rodrigo', 'sentiment': 'none'},\n   {'name': 'shah rukh khan', 'sentiment': 'none'},\n   {'name': 'ayushmann khurrana', 'sentiment': 'none'},\n   {'name': 'ajith', 'sentiment': 'none'},\n   {'name': 'rodrigo', 'sentiment': 'none'}],\n  'organizations': [{'name': 'netflix', 'sentiment': 'none'},\n   {'name': 'youtube', 'sentiment': 'none'}],\n  'locations': [{'name': 'ayushmann khurrana', 'sentiment': 'none'},\n   {'name': 'bogota', 'sentiment': 'none'},\n   {'name': 'india', 'sentiment': 'none'}]},\n 'rating': None,\n 'crawled': '2020-05-08T11:20:19.015+03:00'}"
     },
     "metadata": {},
     "execution_count": 106
    }
   ],
   "source": [
    "sorted_feeds = sorted(feeds, key=lambda x: x['title'])\n",
    "\n",
    "sorted_feeds[0]"
   ]
  },
  {
   "cell_type": "code",
   "execution_count": 99,
   "metadata": {},
   "outputs": [],
   "source": [
    "# Create a set of unique feeds\n",
    "sorted_feeds = sorted(feeds, key=lambda x: x['title'])\n",
    "\n",
    "unique_feeds = [sorted_feeds[0]]\n",
    "proxy = sorted_feeds[0]\n",
    "\n",
    "for i in range(1, len(sorted_feeds)):\n",
    "    if proxy == sorted_feeds[i-1]:\n",
    "        continue\n",
    "    else:\n",
    "        unique_feeds.append(sorted_feeds[i])\n",
    "        proxy == sorted_feeds[i]"
   ]
  },
  {
   "cell_type": "code",
   "execution_count": 100,
   "metadata": {},
   "outputs": [
    {
     "output_type": "execute_result",
     "data": {
      "text/plain": "25287"
     },
     "metadata": {},
     "execution_count": 100
    }
   ],
   "source": [
    "# Total size of unique feeds\n",
    "len(unique_feeds)"
   ]
  }
 ],
 "metadata": {
  "language_info": {
   "codemirror_mode": {
    "name": "ipython",
    "version": 3
   },
   "file_extension": ".py",
   "mimetype": "text/x-python",
   "name": "python",
   "nbconvert_exporter": "python",
   "pygments_lexer": "ipython3",
   "version": "3.7.6-final"
  },
  "orig_nbformat": 2,
  "kernelspec": {
   "name": "python3",
   "display_name": "Python 3"
  }
 },
 "nbformat": 4,
 "nbformat_minor": 2
}