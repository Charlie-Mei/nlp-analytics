{
 "cells": [
  {
   "cell_type": "markdown",
   "metadata": {},
   "source": [
    "## Week 3: Basic Text Processing"
   ]
  },
  {
   "cell_type": "code",
   "execution_count": 8,
   "metadata": {},
   "outputs": [],
   "source": [
    "import re # For regular expressions\n",
    "from nltk import word_tokenize, sent_tokenize, ngrams\n",
    "from collections import Counter # To help with counting"
   ]
  },
  {
   "cell_type": "code",
   "execution_count": 9,
   "metadata": {},
   "outputs": [],
   "source": [
    "# An example string to use\n",
    "text =\"\"\"More than US$20 More than US in venture capital is being invested in FinTech this year. \\\n",
    "@CloudExpo is pleased to bring you the latest FinTech developments as an integral part of our \\\n",
    "program, starting at the 21st International \\\n",
    "Cloud Expo October 31 - November 2, 2017 in Silicon Valley, and June 12-14, 2018, in New York City. \\\n",
    "The upcoming 21st International @CloudExpo | @ThingsExpo, October 31 - November 2, 2017, \\\n",
    "Santa Clara Convention Center, CA, and June 12-14, 2018, at the Javits Center in New York City, \\\n",
    "NY announces that its Call For Papers for speaking opportunities is open.\"\"\""
   ]
  },
  {
   "cell_type": "markdown",
   "metadata": {},
   "source": [
    "### Regular expressions"
   ]
  },
  {
   "cell_type": "code",
   "execution_count": 10,
   "metadata": {},
   "outputs": [
    {
     "output_type": "execute_result",
     "data": {
      "text/plain": "'More than US20 More than US in venture capital is being invested in FinTech this year. CloudExpo is pleased to bring you the latest FinTech developments as an integral part of our program, starting at the 21st International Cloud Expo October 31  November 2, 2017 in Silicon Valley, and June 1214, 2018, in New York City. The upcoming 21st International CloudExpo  ThingsExpo, October 31  November 2, 2017, Santa Clara Convention Center, CA, and June 1214, 2018, at the Javits Center in New York City, NY announces that its Call For Papers for speaking opportunities is open.'"
     },
     "metadata": {},
     "execution_count": 10
    }
   ],
   "source": [
    "# Write a regex to remove everything that isn't a letter, number, full stop, comma\n",
    "pattern = re.compile(r'[^A-Za-z0-9., ]')\n",
    "re.sub(pattern, \"\", text)"
   ]
  },
  {
   "cell_type": "code",
   "execution_count": 11,
   "metadata": {},
   "outputs": [
    {
     "output_type": "execute_result",
     "data": {
      "text/plain": "<re.Match object; span=(12, 16), match='$20 '>"
     },
     "metadata": {},
     "execution_count": 11
    }
   ],
   "source": [
    "# Search for all special characters\n",
    "re.search('\\$(.+?) ', text)"
   ]
  },
  {
   "cell_type": "markdown",
   "metadata": {},
   "source": [
    "### Tokenization"
   ]
  },
  {
   "cell_type": "code",
   "execution_count": 12,
   "metadata": {
    "tags": []
   },
   "outputs": [
    {
     "output_type": "stream",
     "name": "stdout",
     "text": "More than US$20 More than US in venture capital is being invested in FinTech this year.\n\n@CloudExpo is pleased to bring you the latest FinTech developments as an integral part of our program, starting at the 21st International Cloud Expo October 31 - November 2, 2017 in Silicon Valley, and June 12-14, 2018, in New York City.\n\nThe upcoming 21st International @CloudExpo | @ThingsExpo, October 31 - November 2, 2017, Santa Clara Convention Center, CA, and June 12-14, 2018, at the Javits Center in New York City, NY announces that its Call For Papers for speaking opportunities is open.\n\n"
    }
   ],
   "source": [
    "# Sentence tokenization\n",
    "sentences = sent_tokenize(text)\n",
    "for sentence in sentences:\n",
    "    print(sentence + \"\\n\")"
   ]
  },
  {
   "cell_type": "code",
   "execution_count": 13,
   "metadata": {
    "tags": []
   },
   "outputs": [
    {
     "output_type": "stream",
     "name": "stdout",
     "text": "More\n\nthan\n\n"
    }
   ],
   "source": [
    "tokens = word_tokenize(text)\n",
    "for token in tokens[:2]:\n",
    "    print(token + \"\\n\")"
   ]
  },
  {
   "cell_type": "markdown",
   "metadata": {},
   "source": [
    "From tokens, we can group them into two or more tokens i.e. **ngrams**."
   ]
  },
  {
   "cell_type": "code",
   "execution_count": 14,
   "metadata": {},
   "outputs": [],
   "source": [
    "# Create an ngram object\n",
    "trigram = ngrams(tokens, 3)\n",
    "\n",
    "# Use counter to return a dictionary and count of each ngram\n",
    "# Counter(trigram)"
   ]
  },
  {
   "cell_type": "markdown",
   "metadata": {},
   "source": [
    "### Stemming and Lemmatization"
   ]
  },
  {
   "cell_type": "code",
   "execution_count": 15,
   "metadata": {},
   "outputs": [],
   "source": [
    "from nltk.stem import PorterStemmer, WordNetLemmatizer"
   ]
  },
  {
   "cell_type": "code",
   "execution_count": 16,
   "metadata": {},
   "outputs": [
    {
     "output_type": "execute_result",
     "data": {
      "text/plain": "['capit', 'is', 'be', 'invest', 'in', 'fintech', 'thi', 'year', '.', '@']"
     },
     "metadata": {},
     "execution_count": 16
    }
   ],
   "source": [
    "# Create a stemmer\n",
    "ps = PorterStemmer()\n",
    "stemmed_text = [ps.stem(token) for token in tokens]\n",
    "stemmed_text[10:20]"
   ]
  },
  {
   "cell_type": "code",
   "execution_count": 17,
   "metadata": {},
   "outputs": [
    {
     "output_type": "execute_result",
     "data": {
      "text/plain": "['capital',\n 'is',\n 'being',\n 'invested',\n 'in',\n 'FinTech',\n 'this',\n 'year',\n '.',\n '@']"
     },
     "metadata": {},
     "execution_count": 17
    }
   ],
   "source": [
    "wl = WordNetLemmatizer()\n",
    "lemmatized_text = [wl.lemmatize(token) for token in tokens]\n",
    "lemmatized_text[10:20]"
   ]
  },
  {
   "cell_type": "markdown",
   "metadata": {},
   "source": [
    "### POS Tagging"
   ]
  },
  {
   "cell_type": "code",
   "execution_count": 21,
   "metadata": {},
   "outputs": [],
   "source": [
    "from nltk import pos_tag"
   ]
  },
  {
   "cell_type": "code",
   "execution_count": 39,
   "metadata": {},
   "outputs": [
    {
     "output_type": "execute_result",
     "data": {
      "text/plain": "[('The', 'DT'),\n ('upcoming', 'JJ'),\n ('21st', 'CD'),\n ('International', 'NNP'),\n ('@', 'NNP')]"
     },
     "metadata": {},
     "execution_count": 39
    }
   ],
   "source": [
    "# POS on the third sentence\n",
    "tokens = word_tokenize(sentences[2])\n",
    "sentence_pos = pos_tag(tokens)\n",
    "sentence_pos[:5]"
   ]
  },
  {
   "cell_type": "markdown",
   "metadata": {},
   "source": [
    "You can also define your own grammar using regex. From the POS tags on a sentence, you can construct your own CFG."
   ]
  },
  {
   "cell_type": "code",
   "execution_count": 40,
   "metadata": {},
   "outputs": [],
   "source": [
    "# Here is a definition of a noun phrase - determinant, followed by adj then noun\n",
    "grammar = \"NP: {<DT>?<JJ>*<NNP>}\""
   ]
  },
  {
   "cell_type": "code",
   "execution_count": 41,
   "metadata": {},
   "outputs": [
    {
     "output_type": "execute_result",
     "data": {
      "text/plain": "<chunk.RegexpParser with 1 stages>"
     },
     "metadata": {},
     "execution_count": 41
    }
   ],
   "source": [
    "from nltk import RegexpParser\n",
    "cp = RegexpParser(grammar)\n",
    "cp"
   ]
  },
  {
   "cell_type": "code",
   "execution_count": 42,
   "metadata": {
    "tags": []
   },
   "outputs": [
    {
     "output_type": "stream",
     "name": "stdout",
     "text": "(S\n  The/DT\n  upcoming/JJ\n  21st/CD\n  (NP International/NNP)\n  (NP @/NNP)\n  (NP CloudExpo/NNP)\n  (NP |/NNP)\n  (NP @/NNP)\n  (NP ThingsExpo/NNP)\n  ,/,\n  (NP October/NNP)\n  31/CD\n  -/:\n  (NP November/NNP)\n  2/CD\n  ,/,\n  2017/CD\n  ,/,\n  (NP Santa/NNP)\n  (NP Clara/NNP)\n  (NP Convention/NNP)\n  (NP Center/NNP)\n  ,/,\n  (NP CA/NNP)\n  ,/,\n  and/CC\n  (NP June/NNP)\n  12-14/CD\n  ,/,\n  2018/CD\n  ,/,\n  at/IN\n  (NP the/DT Javits/NNP)\n  (NP Center/NNP)\n  in/IN\n  (NP New/NNP)\n  (NP York/NNP)\n  (NP City/NNP)\n  ,/,\n  (NP NY/NNP)\n  announces/VBZ\n  that/IN\n  its/PRP$\n  (NP Call/NNP)\n  For/IN\n  (NP Papers/NNP)\n  for/IN\n  speaking/VBG\n  opportunities/NNS\n  is/VBZ\n  open/JJ\n  ./.)\n"
    }
   ],
   "source": [
    "print(cp.parse(sentence_pos))"
   ]
  }
 ],
 "metadata": {
  "language_info": {
   "codemirror_mode": {
    "name": "ipython",
    "version": 3
   },
   "file_extension": ".py",
   "mimetype": "text/x-python",
   "name": "python",
   "nbconvert_exporter": "python",
   "pygments_lexer": "ipython3",
   "version": "3.7.6-final"
  },
  "orig_nbformat": 2,
  "kernelspec": {
   "name": "python3",
   "display_name": "Python 3"
  }
 },
 "nbformat": 4,
 "nbformat_minor": 2
}